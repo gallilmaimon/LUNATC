{
 "cells": [
  {
   "cell_type": "markdown",
   "metadata": {},
   "source": [
    "### imports"
   ]
  },
  {
   "cell_type": "code",
   "execution_count": 1,
   "metadata": {},
   "outputs": [],
   "source": [
    "import pandas as pd\n",
    "import numpy as np\n",
    "# from sklearn.model_selection import train_test_split\n",
    "import os\n",
    "import re\n",
    "import matplotlib.pyplot as plt\n",
    "%matplotlib inline"
   ]
  },
  {
   "cell_type": "markdown",
   "metadata": {
    "heading_collapsed": true
   },
   "source": [
    "### make datasets into BERT format & split train-test if needed"
   ]
  },
  {
   "cell_type": "markdown",
   "metadata": {
    "heading_collapsed": true,
    "hidden": true
   },
   "source": [
    "#### IMDB dataset"
   ]
  },
  {
   "cell_type": "code",
   "execution_count": 125,
   "metadata": {
    "hidden": true
   },
   "outputs": [],
   "source": [
    "train = 'train'\n",
    "out_path = 'aclImdb/'\n",
    "path = 'aclImdb/' + train + \"/\""
   ]
  },
  {
   "cell_type": "markdown",
   "metadata": {
    "hidden": true
   },
   "source": [
    "positive"
   ]
  },
  {
   "cell_type": "code",
   "execution_count": 126,
   "metadata": {
    "hidden": true
   },
   "outputs": [],
   "source": [
    "cur_path = path+'pos'\n",
    "directory = os.fsencode(cur_path)\n",
    "\n",
    "txt_lst = []\n",
    "\n",
    "for file in os.listdir(directory):\n",
    "    filename = os.fsdecode(file)\n",
    "    if not filename.endswith(\".txt\"): \n",
    "        print(filename + ' - not .txt')\n",
    "        continue\n",
    "    else:\n",
    "        with open(os.path.join(cur_path, filename), 'r', encoding='utf-8') as f:\n",
    "            txt_lst.append(f.read().replace('\\n', ''))"
   ]
  },
  {
   "cell_type": "code",
   "execution_count": 127,
   "metadata": {
    "hidden": true
   },
   "outputs": [],
   "source": [
    "pos = pd.DataFrame(txt_lst, columns=['content'])\n",
    "pos['label'] = np.ones((len(pos), 1)) "
   ]
  },
  {
   "cell_type": "code",
   "execution_count": 128,
   "metadata": {
    "hidden": true
   },
   "outputs": [
    {
     "data": {
      "text/plain": [
       "(12500, 2)"
      ]
     },
     "execution_count": 128,
     "metadata": {},
     "output_type": "execute_result"
    }
   ],
   "source": [
    "pos.shape"
   ]
  },
  {
   "cell_type": "code",
   "execution_count": 129,
   "metadata": {
    "hidden": true
   },
   "outputs": [],
   "source": [
    "lens = pos.content.apply(lambda x: len(x.split()))"
   ]
  },
  {
   "cell_type": "code",
   "execution_count": 130,
   "metadata": {
    "hidden": true
   },
   "outputs": [
    {
     "data": {
      "text/plain": [
       "7218"
      ]
     },
     "execution_count": 130,
     "metadata": {},
     "output_type": "execute_result"
    }
   ],
   "source": [
    "sum(lens < 200)"
   ]
  },
  {
   "cell_type": "code",
   "execution_count": 131,
   "metadata": {
    "hidden": true
   },
   "outputs": [],
   "source": [
    "pos = pos[lens < 200]"
   ]
  },
  {
   "cell_type": "markdown",
   "metadata": {
    "hidden": true
   },
   "source": [
    "negative"
   ]
  },
  {
   "cell_type": "code",
   "execution_count": 132,
   "metadata": {
    "hidden": true
   },
   "outputs": [],
   "source": [
    "cur_path = path+'neg'\n",
    "directory = os.fsencode(cur_path)\n",
    "\n",
    "txt_lst = []\n",
    "\n",
    "for file in os.listdir(directory):\n",
    "    filename = os.fsdecode(file)\n",
    "    if not filename.endswith(\".txt\"): \n",
    "        print(filename + ' - not .txt')\n",
    "        continue\n",
    "    else:\n",
    "        with open(os.path.join(cur_path, filename), 'r', encoding='utf-8') as f:\n",
    "            txt_lst.append(f.read().replace('\\n', ''))"
   ]
  },
  {
   "cell_type": "code",
   "execution_count": 133,
   "metadata": {
    "hidden": true
   },
   "outputs": [],
   "source": [
    "neg = pd.DataFrame(txt_lst, columns=['content'])\n",
    "neg['label'] = np.zeros((len(neg), 1)) "
   ]
  },
  {
   "cell_type": "code",
   "execution_count": 134,
   "metadata": {
    "hidden": true
   },
   "outputs": [],
   "source": [
    "lens = neg.content.apply(lambda x: len(x.split()))"
   ]
  },
  {
   "cell_type": "code",
   "execution_count": 135,
   "metadata": {
    "hidden": true
   },
   "outputs": [
    {
     "data": {
      "text/plain": [
       "7362"
      ]
     },
     "execution_count": 135,
     "metadata": {},
     "output_type": "execute_result"
    }
   ],
   "source": [
    "sum(lens < 200)"
   ]
  },
  {
   "cell_type": "code",
   "execution_count": 136,
   "metadata": {
    "hidden": true
   },
   "outputs": [],
   "source": [
    "neg = neg[lens < 200]"
   ]
  },
  {
   "cell_type": "code",
   "execution_count": 137,
   "metadata": {
    "hidden": true
   },
   "outputs": [],
   "source": [
    "df = pd.concat([pos,neg])"
   ]
  },
  {
   "cell_type": "code",
   "execution_count": 138,
   "metadata": {
    "hidden": true
   },
   "outputs": [
    {
     "data": {
      "text/html": [
       "<div>\n",
       "<style scoped>\n",
       "    .dataframe tbody tr th:only-of-type {\n",
       "        vertical-align: middle;\n",
       "    }\n",
       "\n",
       "    .dataframe tbody tr th {\n",
       "        vertical-align: top;\n",
       "    }\n",
       "\n",
       "    .dataframe thead th {\n",
       "        text-align: right;\n",
       "    }\n",
       "</style>\n",
       "<table border=\"1\" class=\"dataframe\">\n",
       "  <thead>\n",
       "    <tr style=\"text-align: right;\">\n",
       "      <th></th>\n",
       "      <th>content</th>\n",
       "      <th>label</th>\n",
       "    </tr>\n",
       "  </thead>\n",
       "  <tbody>\n",
       "    <tr>\n",
       "      <th>0</th>\n",
       "      <td>Yes it was a little low budget, but this movie...</td>\n",
       "      <td>1</td>\n",
       "    </tr>\n",
       "    <tr>\n",
       "      <th>1</th>\n",
       "      <td>I really liked this movie I saw the original c...</td>\n",
       "      <td>1</td>\n",
       "    </tr>\n",
       "    <tr>\n",
       "      <th>2</th>\n",
       "      <td>I appreciated the photography, the textures, t...</td>\n",
       "      <td>1</td>\n",
       "    </tr>\n",
       "    <tr>\n",
       "      <th>8</th>\n",
       "      <td>...intimate and specific. Yes, a bit of a cind...</td>\n",
       "      <td>1</td>\n",
       "    </tr>\n",
       "    <tr>\n",
       "      <th>13</th>\n",
       "      <td>A classic cartoon, always enjoyable and funny....</td>\n",
       "      <td>1</td>\n",
       "    </tr>\n",
       "  </tbody>\n",
       "</table>\n",
       "</div>"
      ],
      "text/plain": [
       "                                              content  label\n",
       "0   Yes it was a little low budget, but this movie...      1\n",
       "1   I really liked this movie I saw the original c...      1\n",
       "2   I appreciated the photography, the textures, t...      1\n",
       "8   ...intimate and specific. Yes, a bit of a cind...      1\n",
       "13  A classic cartoon, always enjoyable and funny....      1"
      ]
     },
     "execution_count": 138,
     "metadata": {},
     "output_type": "execute_result"
    }
   ],
   "source": [
    "df['label'] = df.label.astype(int)\n",
    "df.head()"
   ]
  },
  {
   "cell_type": "code",
   "execution_count": 139,
   "metadata": {
    "hidden": true
   },
   "outputs": [],
   "source": [
    "df.to_csv(out_path + 'imdb_' + train + '.csv', index=False)"
   ]
  },
  {
   "cell_type": "markdown",
   "metadata": {
    "heading_collapsed": true,
    "hidden": true
   },
   "source": [
    "#### click-bait"
   ]
  },
  {
   "cell_type": "code",
   "execution_count": 31,
   "metadata": {
    "hidden": true
   },
   "outputs": [],
   "source": [
    "df_data = pd.read_json('clickbait/instances.jsonl', lines=True)\n",
    "df_target = pd.read_json('clickbait/truth.jsonl', lines=True)"
   ]
  },
  {
   "cell_type": "code",
   "execution_count": 32,
   "metadata": {
    "hidden": true
   },
   "outputs": [
    {
     "data": {
      "text/plain": [
       "19538"
      ]
     },
     "execution_count": 32,
     "metadata": {},
     "output_type": "execute_result"
    }
   ],
   "source": [
    "len(df_data)"
   ]
  },
  {
   "cell_type": "code",
   "execution_count": 35,
   "metadata": {
    "hidden": true
   },
   "outputs": [],
   "source": [
    "# mrege both dataframes\n",
    "df = df_data.merge(df_target, on='id')"
   ]
  },
  {
   "cell_type": "code",
   "execution_count": 36,
   "metadata": {
    "hidden": true
   },
   "outputs": [
    {
     "data": {
      "text/html": [
       "<div>\n",
       "<style scoped>\n",
       "    .dataframe tbody tr th:only-of-type {\n",
       "        vertical-align: middle;\n",
       "    }\n",
       "\n",
       "    .dataframe tbody tr th {\n",
       "        vertical-align: top;\n",
       "    }\n",
       "\n",
       "    .dataframe thead th {\n",
       "        text-align: right;\n",
       "    }\n",
       "</style>\n",
       "<table border=\"1\" class=\"dataframe\">\n",
       "  <thead>\n",
       "    <tr style=\"text-align: right;\">\n",
       "      <th></th>\n",
       "      <th>id</th>\n",
       "      <th>postMedia</th>\n",
       "      <th>postText</th>\n",
       "      <th>postTimestamp</th>\n",
       "      <th>targetCaptions</th>\n",
       "      <th>targetDescription</th>\n",
       "      <th>targetKeywords</th>\n",
       "      <th>targetParagraphs</th>\n",
       "      <th>targetTitle</th>\n",
       "      <th>truthClass</th>\n",
       "      <th>truthJudgments</th>\n",
       "      <th>truthMean</th>\n",
       "      <th>truthMedian</th>\n",
       "      <th>truthMode</th>\n",
       "    </tr>\n",
       "  </thead>\n",
       "  <tbody>\n",
       "    <tr>\n",
       "      <th>0</th>\n",
       "      <td>858462320779026432</td>\n",
       "      <td>[]</td>\n",
       "      <td>[UK’s response to modern slavery leaving victi...</td>\n",
       "      <td>Sat Apr 29 23:25:41 +0000 2017</td>\n",
       "      <td>[modern-slavery-rex.jpg]</td>\n",
       "      <td>“Inexcusable” failures in the UK’s system for ...</td>\n",
       "      <td>modern slavery, Department For Work And Pensio...</td>\n",
       "      <td>[Thousands of modern slavery victims have not ...</td>\n",
       "      <td>‘Inexcusable’ failures in UK’s response to mod...</td>\n",
       "      <td>no-clickbait</td>\n",
       "      <td>[0.33333333330000003, 0.0, 0.33333333330000003...</td>\n",
       "      <td>0.133333</td>\n",
       "      <td>0.000000</td>\n",
       "      <td>0.000000</td>\n",
       "    </tr>\n",
       "    <tr>\n",
       "      <th>1</th>\n",
       "      <td>858421020331560960</td>\n",
       "      <td>[]</td>\n",
       "      <td>[this is good]</td>\n",
       "      <td>Sat Apr 29 20:41:34 +0000 2017</td>\n",
       "      <td>[In this July 1, 2010 file photo, Dr. Charmain...</td>\n",
       "      <td>President Donald Trump has appointed pro-life ...</td>\n",
       "      <td>Americans United for Life, Dr. Charmaine Yoest...</td>\n",
       "      <td>[President Donald Trump has appointed the pro-...</td>\n",
       "      <td>Donald Trump Appoints Pro-Life Advocate as Ass...</td>\n",
       "      <td>clickbait</td>\n",
       "      <td>[1.0, 1.0, 1.0, 1.0, 1.0]</td>\n",
       "      <td>1.000000</td>\n",
       "      <td>1.000000</td>\n",
       "      <td>1.000000</td>\n",
       "    </tr>\n",
       "    <tr>\n",
       "      <th>2</th>\n",
       "      <td>858368123753435136</td>\n",
       "      <td>[]</td>\n",
       "      <td>[The \"forgotten\" Trump roast: Relive his bruta...</td>\n",
       "      <td>Sat Apr 29 17:11:23 +0000 2017</td>\n",
       "      <td>[President Trump will not attend this year's W...</td>\n",
       "      <td>President Trump won't be at this year's White ...</td>\n",
       "      <td>trump whcd, whcd, white house correspondents d...</td>\n",
       "      <td>[When the White House correspondents’ dinner i...</td>\n",
       "      <td>The ‘forgotten’ Trump roast: Relive his brutal...</td>\n",
       "      <td>no-clickbait</td>\n",
       "      <td>[0.33333333330000003, 1.0, 0.33333333330000003...</td>\n",
       "      <td>0.466667</td>\n",
       "      <td>0.333333</td>\n",
       "      <td>0.333333</td>\n",
       "    </tr>\n",
       "    <tr>\n",
       "      <th>3</th>\n",
       "      <td>858323428260139008</td>\n",
       "      <td>[]</td>\n",
       "      <td>[Meet the happiest #dog in the world!]</td>\n",
       "      <td>Sat Apr 29 14:13:46 +0000 2017</td>\n",
       "      <td>[Maru , Maru, Maru, Maru, Maru]</td>\n",
       "      <td>The article is about Maru, a husky dog who has...</td>\n",
       "      <td>Maru, husky, dogs, pandas, furball, instagram</td>\n",
       "      <td>[Adorable is probably an understatement. This ...</td>\n",
       "      <td>Meet The Happiest Dog In The World, Maru The H...</td>\n",
       "      <td>clickbait</td>\n",
       "      <td>[1.0, 0.6666666666000001, 1.0, 1.0, 1.0]</td>\n",
       "      <td>0.933333</td>\n",
       "      <td>1.000000</td>\n",
       "      <td>1.000000</td>\n",
       "    </tr>\n",
       "    <tr>\n",
       "      <th>4</th>\n",
       "      <td>858283602626347008</td>\n",
       "      <td>[]</td>\n",
       "      <td>[Tokyo's subway is shut down amid fears over a...</td>\n",
       "      <td>Sat Apr 29 11:35:31 +0000 2017</td>\n",
       "      <td>[All nine lines of Tokyo's subway system were ...</td>\n",
       "      <td>The temporary suspension, which lasted ten min...</td>\n",
       "      <td>Tokyo,subway,shut,fears,North,Korean,attack</td>\n",
       "      <td>[One of Tokyo's major subways systems says it ...</td>\n",
       "      <td>Tokyo's subway is shut down amid fears over an...</td>\n",
       "      <td>no-clickbait</td>\n",
       "      <td>[0.0, 0.0, 0.0, 0.0, 0.0]</td>\n",
       "      <td>0.000000</td>\n",
       "      <td>0.000000</td>\n",
       "      <td>0.000000</td>\n",
       "    </tr>\n",
       "  </tbody>\n",
       "</table>\n",
       "</div>"
      ],
      "text/plain": [
       "                   id postMedia  \\\n",
       "0  858462320779026432        []   \n",
       "1  858421020331560960        []   \n",
       "2  858368123753435136        []   \n",
       "3  858323428260139008        []   \n",
       "4  858283602626347008        []   \n",
       "\n",
       "                                            postText  \\\n",
       "0  [UK’s response to modern slavery leaving victi...   \n",
       "1                                     [this is good]   \n",
       "2  [The \"forgotten\" Trump roast: Relive his bruta...   \n",
       "3             [Meet the happiest #dog in the world!]   \n",
       "4  [Tokyo's subway is shut down amid fears over a...   \n",
       "\n",
       "                    postTimestamp  \\\n",
       "0  Sat Apr 29 23:25:41 +0000 2017   \n",
       "1  Sat Apr 29 20:41:34 +0000 2017   \n",
       "2  Sat Apr 29 17:11:23 +0000 2017   \n",
       "3  Sat Apr 29 14:13:46 +0000 2017   \n",
       "4  Sat Apr 29 11:35:31 +0000 2017   \n",
       "\n",
       "                                      targetCaptions  \\\n",
       "0                           [modern-slavery-rex.jpg]   \n",
       "1  [In this July 1, 2010 file photo, Dr. Charmain...   \n",
       "2  [President Trump will not attend this year's W...   \n",
       "3                    [Maru , Maru, Maru, Maru, Maru]   \n",
       "4  [All nine lines of Tokyo's subway system were ...   \n",
       "\n",
       "                                   targetDescription  \\\n",
       "0  “Inexcusable” failures in the UK’s system for ...   \n",
       "1  President Donald Trump has appointed pro-life ...   \n",
       "2  President Trump won't be at this year's White ...   \n",
       "3  The article is about Maru, a husky dog who has...   \n",
       "4  The temporary suspension, which lasted ten min...   \n",
       "\n",
       "                                      targetKeywords  \\\n",
       "0  modern slavery, Department For Work And Pensio...   \n",
       "1  Americans United for Life, Dr. Charmaine Yoest...   \n",
       "2  trump whcd, whcd, white house correspondents d...   \n",
       "3      Maru, husky, dogs, pandas, furball, instagram   \n",
       "4        Tokyo,subway,shut,fears,North,Korean,attack   \n",
       "\n",
       "                                    targetParagraphs  \\\n",
       "0  [Thousands of modern slavery victims have not ...   \n",
       "1  [President Donald Trump has appointed the pro-...   \n",
       "2  [When the White House correspondents’ dinner i...   \n",
       "3  [Adorable is probably an understatement. This ...   \n",
       "4  [One of Tokyo's major subways systems says it ...   \n",
       "\n",
       "                                         targetTitle    truthClass  \\\n",
       "0  ‘Inexcusable’ failures in UK’s response to mod...  no-clickbait   \n",
       "1  Donald Trump Appoints Pro-Life Advocate as Ass...     clickbait   \n",
       "2  The ‘forgotten’ Trump roast: Relive his brutal...  no-clickbait   \n",
       "3  Meet The Happiest Dog In The World, Maru The H...     clickbait   \n",
       "4  Tokyo's subway is shut down amid fears over an...  no-clickbait   \n",
       "\n",
       "                                      truthJudgments  truthMean  truthMedian  \\\n",
       "0  [0.33333333330000003, 0.0, 0.33333333330000003...   0.133333     0.000000   \n",
       "1                          [1.0, 1.0, 1.0, 1.0, 1.0]   1.000000     1.000000   \n",
       "2  [0.33333333330000003, 1.0, 0.33333333330000003...   0.466667     0.333333   \n",
       "3           [1.0, 0.6666666666000001, 1.0, 1.0, 1.0]   0.933333     1.000000   \n",
       "4                          [0.0, 0.0, 0.0, 0.0, 0.0]   0.000000     0.000000   \n",
       "\n",
       "   truthMode  \n",
       "0   0.000000  \n",
       "1   1.000000  \n",
       "2   0.333333  \n",
       "3   1.000000  \n",
       "4   0.000000  "
      ]
     },
     "execution_count": 36,
     "metadata": {},
     "output_type": "execute_result"
    }
   ],
   "source": [
    "df.head()"
   ]
  },
  {
   "cell_type": "code",
   "execution_count": 37,
   "metadata": {
    "collapsed": true,
    "hidden": true
   },
   "outputs": [
    {
     "name": "stderr",
     "output_type": "stream",
     "text": [
      "/storage/conda_envs/thesis/lib/python3.6/site-packages/pandas/core/generic.py:5096: SettingWithCopyWarning: \n",
      "A value is trying to be set on a copy of a slice from a DataFrame.\n",
      "Try using .loc[row_indexer,col_indexer] = value instead\n",
      "\n",
      "See the caveats in the documentation: http://pandas.pydata.org/pandas-docs/stable/indexing.html#indexing-view-versus-copy\n",
      "  self[name] = value\n"
     ]
    }
   ],
   "source": [
    "filtered_df = df[['postText','truthClass']]  # take only wanted columns\n",
    "filtered_df.truthClass = (filtered_df.truthClass == 'clickbait')  # binarise classes\n",
    "filtered_df.columns = ['content', 'label']  # change column names\n",
    "filtered_df.label = filtered_df.label.astype(int)  # make zero 1 for similarity to the others\n",
    "filtered_df.content = filtered_df.content.apply(lambda x: x[0])  # take string and not list"
   ]
  },
  {
   "cell_type": "code",
   "execution_count": 38,
   "metadata": {
    "hidden": true
   },
   "outputs": [
    {
     "data": {
      "text/html": [
       "<div>\n",
       "<style scoped>\n",
       "    .dataframe tbody tr th:only-of-type {\n",
       "        vertical-align: middle;\n",
       "    }\n",
       "\n",
       "    .dataframe tbody tr th {\n",
       "        vertical-align: top;\n",
       "    }\n",
       "\n",
       "    .dataframe thead th {\n",
       "        text-align: right;\n",
       "    }\n",
       "</style>\n",
       "<table border=\"1\" class=\"dataframe\">\n",
       "  <thead>\n",
       "    <tr style=\"text-align: right;\">\n",
       "      <th></th>\n",
       "      <th>content</th>\n",
       "      <th>label</th>\n",
       "    </tr>\n",
       "  </thead>\n",
       "  <tbody>\n",
       "    <tr>\n",
       "      <th>0</th>\n",
       "      <td>UK’s response to modern slavery leaving victim...</td>\n",
       "      <td>0</td>\n",
       "    </tr>\n",
       "    <tr>\n",
       "      <th>1</th>\n",
       "      <td>this is good</td>\n",
       "      <td>1</td>\n",
       "    </tr>\n",
       "    <tr>\n",
       "      <th>2</th>\n",
       "      <td>The \"forgotten\" Trump roast: Relive his brutal...</td>\n",
       "      <td>0</td>\n",
       "    </tr>\n",
       "    <tr>\n",
       "      <th>3</th>\n",
       "      <td>Meet the happiest #dog in the world!</td>\n",
       "      <td>1</td>\n",
       "    </tr>\n",
       "    <tr>\n",
       "      <th>4</th>\n",
       "      <td>Tokyo's subway is shut down amid fears over an...</td>\n",
       "      <td>0</td>\n",
       "    </tr>\n",
       "  </tbody>\n",
       "</table>\n",
       "</div>"
      ],
      "text/plain": [
       "                                             content  label\n",
       "0  UK’s response to modern slavery leaving victim...      0\n",
       "1                                       this is good      1\n",
       "2  The \"forgotten\" Trump roast: Relive his brutal...      0\n",
       "3               Meet the happiest #dog in the world!      1\n",
       "4  Tokyo's subway is shut down amid fears over an...      0"
      ]
     },
     "execution_count": 38,
     "metadata": {},
     "output_type": "execute_result"
    }
   ],
   "source": [
    "filtered_df.head()"
   ]
  },
  {
   "cell_type": "code",
   "execution_count": 39,
   "metadata": {
    "hidden": true
   },
   "outputs": [],
   "source": [
    "# train test split\n",
    "df_click_train, df_click_test = train_test_split(filtered_df, test_size=0.2, random_state=7)"
   ]
  },
  {
   "cell_type": "code",
   "execution_count": 40,
   "metadata": {
    "hidden": true
   },
   "outputs": [],
   "source": [
    "# save files\n",
    "df_click_train.to_csv('clickbait/clickbait_train.csv', index=False)\n",
    "df_click_test.to_csv('clickbait/clickbait_test.csv', index=False)"
   ]
  },
  {
   "cell_type": "markdown",
   "metadata": {
    "heading_collapsed": true,
    "hidden": true
   },
   "source": [
    "#### spam"
   ]
  },
  {
   "cell_type": "code",
   "execution_count": 2,
   "metadata": {
    "hidden": true
   },
   "outputs": [],
   "source": [
    "df = pd.read_csv('spam/SPAM text message 20170820 - Data.csv')"
   ]
  },
  {
   "cell_type": "code",
   "execution_count": 3,
   "metadata": {
    "hidden": true
   },
   "outputs": [
    {
     "data": {
      "text/html": [
       "<div>\n",
       "<style scoped>\n",
       "    .dataframe tbody tr th:only-of-type {\n",
       "        vertical-align: middle;\n",
       "    }\n",
       "\n",
       "    .dataframe tbody tr th {\n",
       "        vertical-align: top;\n",
       "    }\n",
       "\n",
       "    .dataframe thead th {\n",
       "        text-align: right;\n",
       "    }\n",
       "</style>\n",
       "<table border=\"1\" class=\"dataframe\">\n",
       "  <thead>\n",
       "    <tr style=\"text-align: right;\">\n",
       "      <th></th>\n",
       "      <th>Category</th>\n",
       "      <th>Message</th>\n",
       "    </tr>\n",
       "  </thead>\n",
       "  <tbody>\n",
       "    <tr>\n",
       "      <th>0</th>\n",
       "      <td>ham</td>\n",
       "      <td>Go until jurong point, crazy.. Available only ...</td>\n",
       "    </tr>\n",
       "    <tr>\n",
       "      <th>1</th>\n",
       "      <td>ham</td>\n",
       "      <td>Ok lar... Joking wif u oni...</td>\n",
       "    </tr>\n",
       "    <tr>\n",
       "      <th>2</th>\n",
       "      <td>spam</td>\n",
       "      <td>Free entry in 2 a wkly comp to win FA Cup fina...</td>\n",
       "    </tr>\n",
       "    <tr>\n",
       "      <th>3</th>\n",
       "      <td>ham</td>\n",
       "      <td>U dun say so early hor... U c already then say...</td>\n",
       "    </tr>\n",
       "    <tr>\n",
       "      <th>4</th>\n",
       "      <td>ham</td>\n",
       "      <td>Nah I don't think he goes to usf, he lives aro...</td>\n",
       "    </tr>\n",
       "  </tbody>\n",
       "</table>\n",
       "</div>"
      ],
      "text/plain": [
       "  Category                                            Message\n",
       "0      ham  Go until jurong point, crazy.. Available only ...\n",
       "1      ham                      Ok lar... Joking wif u oni...\n",
       "2     spam  Free entry in 2 a wkly comp to win FA Cup fina...\n",
       "3      ham  U dun say so early hor... U c already then say...\n",
       "4      ham  Nah I don't think he goes to usf, he lives aro..."
      ]
     },
     "execution_count": 3,
     "metadata": {},
     "output_type": "execute_result"
    }
   ],
   "source": [
    "df.head()"
   ]
  },
  {
   "cell_type": "code",
   "execution_count": 6,
   "metadata": {
    "hidden": true
   },
   "outputs": [],
   "source": [
    "df.Category = (df.Category == 'spam').astype(int)\n",
    "df.columns = ['label', 'content']\n",
    "df = df[['content', 'label']]"
   ]
  },
  {
   "cell_type": "markdown",
   "metadata": {
    "hidden": true
   },
   "source": [
    "train test split"
   ]
  },
  {
   "cell_type": "code",
   "execution_count": 11,
   "metadata": {
    "hidden": true
   },
   "outputs": [],
   "source": [
    "df_spam_train, df_spam_test = train_test_split(df, test_size=0.2, random_state=7)"
   ]
  },
  {
   "cell_type": "markdown",
   "metadata": {
    "hidden": true
   },
   "source": [
    "save files"
   ]
  },
  {
   "cell_type": "code",
   "execution_count": 12,
   "metadata": {
    "hidden": true
   },
   "outputs": [],
   "source": [
    "df_spam_train.to_csv('spam/spam_train.csv', index=False)\n",
    "df_spam_test.to_csv('spam/spam_test.csv', index=False)"
   ]
  },
  {
   "cell_type": "markdown",
   "metadata": {
    "heading_collapsed": true,
    "hidden": true
   },
   "source": [
    "#### toxic"
   ]
  },
  {
   "cell_type": "code",
   "execution_count": 2,
   "metadata": {
    "hidden": true
   },
   "outputs": [],
   "source": [
    "df_train = pd.read_csv('toxic/train.csv')\n",
    "df_test = pd.read_csv('toxic/test.csv')\n",
    "test_labels = pd.read_csv('toxic/test_labels.csv')"
   ]
  },
  {
   "cell_type": "code",
   "execution_count": 13,
   "metadata": {
    "hidden": true
   },
   "outputs": [],
   "source": [
    "# add wanted labels from class\n",
    "df_test[\"toxic\"] = test_labels.toxic"
   ]
  },
  {
   "cell_type": "code",
   "execution_count": 14,
   "metadata": {
    "hidden": true
   },
   "outputs": [],
   "source": [
    "# filter only labelled test data\n",
    "df_test = df_test[df_test.toxic != -1]"
   ]
  },
  {
   "cell_type": "code",
   "execution_count": 16,
   "metadata": {
    "hidden": true
   },
   "outputs": [
    {
     "data": {
      "text/html": [
       "<div>\n",
       "<style scoped>\n",
       "    .dataframe tbody tr th:only-of-type {\n",
       "        vertical-align: middle;\n",
       "    }\n",
       "\n",
       "    .dataframe tbody tr th {\n",
       "        vertical-align: top;\n",
       "    }\n",
       "\n",
       "    .dataframe thead th {\n",
       "        text-align: right;\n",
       "    }\n",
       "</style>\n",
       "<table border=\"1\" class=\"dataframe\">\n",
       "  <thead>\n",
       "    <tr style=\"text-align: right;\">\n",
       "      <th></th>\n",
       "      <th>id</th>\n",
       "      <th>comment_text</th>\n",
       "      <th>toxic</th>\n",
       "    </tr>\n",
       "  </thead>\n",
       "  <tbody>\n",
       "    <tr>\n",
       "      <th>5</th>\n",
       "      <td>0001ea8717f6de06</td>\n",
       "      <td>Thank you for understanding. I think very high...</td>\n",
       "      <td>0</td>\n",
       "    </tr>\n",
       "    <tr>\n",
       "      <th>7</th>\n",
       "      <td>000247e83dcc1211</td>\n",
       "      <td>:Dear god this site is horrible.</td>\n",
       "      <td>0</td>\n",
       "    </tr>\n",
       "    <tr>\n",
       "      <th>11</th>\n",
       "      <td>0002f87b16116a7f</td>\n",
       "      <td>\"::: Somebody will invariably try to add Relig...</td>\n",
       "      <td>0</td>\n",
       "    </tr>\n",
       "    <tr>\n",
       "      <th>13</th>\n",
       "      <td>0003e1cccfd5a40a</td>\n",
       "      <td>\" \\n\\n It says it right there that it IS a typ...</td>\n",
       "      <td>0</td>\n",
       "    </tr>\n",
       "    <tr>\n",
       "      <th>14</th>\n",
       "      <td>00059ace3e3e9a53</td>\n",
       "      <td>\" \\n\\n == Before adding a new product to the l...</td>\n",
       "      <td>0</td>\n",
       "    </tr>\n",
       "  </tbody>\n",
       "</table>\n",
       "</div>"
      ],
      "text/plain": [
       "                  id                                       comment_text  toxic\n",
       "5   0001ea8717f6de06  Thank you for understanding. I think very high...      0\n",
       "7   000247e83dcc1211                   :Dear god this site is horrible.      0\n",
       "11  0002f87b16116a7f  \"::: Somebody will invariably try to add Relig...      0\n",
       "13  0003e1cccfd5a40a  \" \\n\\n It says it right there that it IS a typ...      0\n",
       "14  00059ace3e3e9a53  \" \\n\\n == Before adding a new product to the l...      0"
      ]
     },
     "execution_count": 16,
     "metadata": {},
     "output_type": "execute_result"
    }
   ],
   "source": [
    "df_test.head()"
   ]
  },
  {
   "cell_type": "code",
   "execution_count": 18,
   "metadata": {
    "hidden": true
   },
   "outputs": [],
   "source": [
    "# take only wanted columns and change their names\n",
    "df_train_toxic = df_train[[\"comment_text\", \"toxic\"]]\n",
    "df_train_toxic.columns = ['content', 'label']\n",
    "\n",
    "df_test_toxic = df_test[[\"comment_text\", \"toxic\"]]\n",
    "df_test_toxic.columns = ['content', 'label']"
   ]
  },
  {
   "cell_type": "code",
   "execution_count": 20,
   "metadata": {
    "hidden": true
   },
   "outputs": [],
   "source": [
    "# save\n",
    "df_train_toxic.to_csv('toxic/toxic_train.csv', index=False)\n",
    "df_test_toxic.to_csv('toxic/toxic_test.csv', index=False)"
   ]
  },
  {
   "cell_type": "markdown",
   "metadata": {
    "heading_collapsed": true,
    "hidden": true
   },
   "source": [
    "#### pubmed"
   ]
  },
  {
   "cell_type": "code",
   "execution_count": 3,
   "metadata": {
    "hidden": true
   },
   "outputs": [],
   "source": [
    "path = 'pubmed/'"
   ]
  },
  {
   "cell_type": "code",
   "execution_count": 4,
   "metadata": {
    "hidden": true
   },
   "outputs": [],
   "source": [
    "orig_df = pd.read_csv(path + 'pubmed_review_case.csv')"
   ]
  },
  {
   "cell_type": "code",
   "execution_count": 6,
   "metadata": {
    "hidden": true
   },
   "outputs": [],
   "source": [
    "df = orig_df[['article_abstract', 'is_review']]\n",
    "df.columns = ['content', 'label']"
   ]
  },
  {
   "cell_type": "code",
   "execution_count": 8,
   "metadata": {
    "hidden": true
   },
   "outputs": [],
   "source": [
    "lens = df.content.apply(lambda x: len(x.split()))"
   ]
  },
  {
   "cell_type": "code",
   "execution_count": 10,
   "metadata": {
    "hidden": true
   },
   "outputs": [
    {
     "data": {
      "text/plain": [
       "2480153"
      ]
     },
     "execution_count": 10,
     "metadata": {},
     "output_type": "execute_result"
    }
   ],
   "source": [
    "(lens < 180).sum()"
   ]
  },
  {
   "cell_type": "code",
   "execution_count": 11,
   "metadata": {
    "hidden": true
   },
   "outputs": [
    {
     "name": "stdout",
     "output_type": "stream",
     "text": [
      "3203404\n",
      "2480153\n"
     ]
    }
   ],
   "source": [
    "# filter lengths\n",
    "print(len(df))\n",
    "df_filter = df[df.content.apply(lambda x: len(x.split())) < 180]\n",
    "print(len(df_filter))"
   ]
  },
  {
   "cell_type": "code",
   "execution_count": 12,
   "metadata": {
    "hidden": true
   },
   "outputs": [
    {
     "data": {
      "text/html": [
       "<div>\n",
       "<style scoped>\n",
       "    .dataframe tbody tr th:only-of-type {\n",
       "        vertical-align: middle;\n",
       "    }\n",
       "\n",
       "    .dataframe tbody tr th {\n",
       "        vertical-align: top;\n",
       "    }\n",
       "\n",
       "    .dataframe thead th {\n",
       "        text-align: right;\n",
       "    }\n",
       "</style>\n",
       "<table border=\"1\" class=\"dataframe\">\n",
       "  <thead>\n",
       "    <tr style=\"text-align: right;\">\n",
       "      <th></th>\n",
       "      <th>content</th>\n",
       "      <th>label</th>\n",
       "    </tr>\n",
       "  </thead>\n",
       "  <tbody>\n",
       "    <tr>\n",
       "      <th>0</th>\n",
       "      <td>In this review, we analyze data pertinent to t...</td>\n",
       "      <td>True</td>\n",
       "    </tr>\n",
       "    <tr>\n",
       "      <th>1</th>\n",
       "      <td>A new method of eliminating the exocrine funct...</td>\n",
       "      <td>False</td>\n",
       "    </tr>\n",
       "    <tr>\n",
       "      <th>2</th>\n",
       "      <td>The left ear of a 57-year-old female who suffe...</td>\n",
       "      <td>False</td>\n",
       "    </tr>\n",
       "    <tr>\n",
       "      <th>3</th>\n",
       "      <td>Takayasu's disease is a nonspecific arteritis ...</td>\n",
       "      <td>False</td>\n",
       "    </tr>\n",
       "    <tr>\n",
       "      <th>4</th>\n",
       "      <td>Lipids and sphingomyelinase activity were stud...</td>\n",
       "      <td>False</td>\n",
       "    </tr>\n",
       "  </tbody>\n",
       "</table>\n",
       "</div>"
      ],
      "text/plain": [
       "                                             content  label\n",
       "0  In this review, we analyze data pertinent to t...   True\n",
       "1  A new method of eliminating the exocrine funct...  False\n",
       "2  The left ear of a 57-year-old female who suffe...  False\n",
       "3  Takayasu's disease is a nonspecific arteritis ...  False\n",
       "4  Lipids and sphingomyelinase activity were stud...  False"
      ]
     },
     "execution_count": 12,
     "metadata": {},
     "output_type": "execute_result"
    }
   ],
   "source": [
    "df_filter.head()"
   ]
  },
  {
   "cell_type": "code",
   "execution_count": 13,
   "metadata": {
    "hidden": true
   },
   "outputs": [],
   "source": [
    "# train-test split\n",
    "df_filter = df_filter.sample(frac=1., random_state=42)"
   ]
  },
  {
   "cell_type": "code",
   "execution_count": 26,
   "metadata": {
    "hidden": true
   },
   "outputs": [],
   "source": [
    "df_filter.iloc[:int(0.5*len(df_filter))].to_csv(path+'/pubmed_train.csv', index=False)\n",
    "df_filter.iloc[int(0.5*len(df_filter)):].to_csv(path+'/pubmed_test.csv', index=False)"
   ]
  },
  {
   "cell_type": "markdown",
   "metadata": {},
   "source": [
    "### MNLI"
   ]
  },
  {
   "cell_type": "code",
   "execution_count": 6,
   "metadata": {},
   "outputs": [],
   "source": [
    "base_path = '../../multinli_1.0/multinli_1.0_'\n",
    "data_paths = [f'{base_path}{f}.txt' for f in ['train', 'dev_matched', 'dev_mismatched']]\n",
    "out_path = 'mnli2/mnli_'\n",
    "test_size = 20000"
   ]
  },
  {
   "cell_type": "code",
   "execution_count": 3,
   "metadata": {},
   "outputs": [],
   "source": [
    "dfs = []\n",
    "for data_path in data_paths:\n",
    "    # ugly dataframe parsing because of quote errors using regular read method \n",
    "    with open(data_path, 'r') as f:\n",
    "        data = [l.split('\\t') for l in f.readlines()]\n",
    "        df = pd.DataFrame(data[1:], columns=data[0])\n",
    "\n",
    "    df = df[['sentence1', 'sentence2', 'gold_label']]\n",
    "    df.columns = ['content', 'content2', 'label']\n",
    "    dfs.append(df)\n",
    "    \n",
    "total_df = pd.concat(dfs)\n",
    "total_df.reset_index(drop=True, inplace=True)"
   ]
  },
  {
   "cell_type": "code",
   "execution_count": 4,
   "metadata": {},
   "outputs": [],
   "source": [
    "total_df = total_df[total_df.label != '-']  # remove undecisive labels\n",
    "total_df.label = total_df.label.replace({\"entailment\": 0, \"neutral\": 1, \"contradiction\": 2})  # map labels to numbers"
   ]
  },
  {
   "cell_type": "code",
   "execution_count": 7,
   "metadata": {},
   "outputs": [
    {
     "data": {
      "text/plain": [
       "('They were all very disturbed.', \"It didn't disturb them at all.\", 2)"
      ]
     },
     "execution_count": 7,
     "metadata": {},
     "output_type": "execute_result"
    }
   ],
   "source": [
    "i = 18839\n",
    "total_df.iloc[i].content, total_df.iloc[i].content2, total_df.iloc[i].label"
   ]
  },
  {
   "cell_type": "code",
   "execution_count": 8,
   "metadata": {},
   "outputs": [
    {
     "data": {
      "text/html": [
       "<div>\n",
       "<style scoped>\n",
       "    .dataframe tbody tr th:only-of-type {\n",
       "        vertical-align: middle;\n",
       "    }\n",
       "\n",
       "    .dataframe tbody tr th {\n",
       "        vertical-align: top;\n",
       "    }\n",
       "\n",
       "    .dataframe thead th {\n",
       "        text-align: right;\n",
       "    }\n",
       "</style>\n",
       "<table border=\"1\" class=\"dataframe\">\n",
       "  <thead>\n",
       "    <tr style=\"text-align: right;\">\n",
       "      <th></th>\n",
       "      <th>content</th>\n",
       "      <th>content2</th>\n",
       "      <th>label</th>\n",
       "    </tr>\n",
       "  </thead>\n",
       "  <tbody>\n",
       "    <tr>\n",
       "      <th>0</th>\n",
       "      <td>Conceptually cream skimming has two basic dime...</td>\n",
       "      <td>Product and geography are what make cream skim...</td>\n",
       "      <td>1</td>\n",
       "    </tr>\n",
       "    <tr>\n",
       "      <th>1</th>\n",
       "      <td>you know during the season and i guess at at y...</td>\n",
       "      <td>You lose the things to the following level if ...</td>\n",
       "      <td>0</td>\n",
       "    </tr>\n",
       "    <tr>\n",
       "      <th>2</th>\n",
       "      <td>One of our number will carry out your instruct...</td>\n",
       "      <td>A member of my team will execute your orders w...</td>\n",
       "      <td>0</td>\n",
       "    </tr>\n",
       "    <tr>\n",
       "      <th>3</th>\n",
       "      <td>How do you know? All this is their information...</td>\n",
       "      <td>This information belongs to them.</td>\n",
       "      <td>0</td>\n",
       "    </tr>\n",
       "    <tr>\n",
       "      <th>4</th>\n",
       "      <td>yeah i tell you what though if you go price so...</td>\n",
       "      <td>The tennis shoes have a range of prices.</td>\n",
       "      <td>1</td>\n",
       "    </tr>\n",
       "    <tr>\n",
       "      <th>...</th>\n",
       "      <td>...</td>\n",
       "      <td>...</td>\n",
       "      <td>...</td>\n",
       "    </tr>\n",
       "    <tr>\n",
       "      <th>392344</th>\n",
       "      <td>The volcano's name is thought to derive from a...</td>\n",
       "      <td>The volcano was given its name two hundred yea...</td>\n",
       "      <td>1</td>\n",
       "    </tr>\n",
       "    <tr>\n",
       "      <th>392345</th>\n",
       "      <td>The soaring vaults of the sober interior have ...</td>\n",
       "      <td>German Gothic design is know for its soaring v...</td>\n",
       "      <td>0</td>\n",
       "    </tr>\n",
       "    <tr>\n",
       "      <th>392346</th>\n",
       "      <td>you know since the women's movement in the wel...</td>\n",
       "      <td>The women's movement solved everything and we ...</td>\n",
       "      <td>2</td>\n",
       "    </tr>\n",
       "    <tr>\n",
       "      <th>392347</th>\n",
       "      <td>The increase in one asset is offset by an equa...</td>\n",
       "      <td>.When an asset increases it means there is no ...</td>\n",
       "      <td>2</td>\n",
       "    </tr>\n",
       "    <tr>\n",
       "      <th>392348</th>\n",
       "      <td>and uh of course it's a nine hundred number wh...</td>\n",
       "      <td>They're going to charge you when you call the ...</td>\n",
       "      <td>0</td>\n",
       "    </tr>\n",
       "  </tbody>\n",
       "</table>\n",
       "<p>392349 rows × 3 columns</p>\n",
       "</div>"
      ],
      "text/plain": [
       "                                                  content  \\\n",
       "0       Conceptually cream skimming has two basic dime...   \n",
       "1       you know during the season and i guess at at y...   \n",
       "2       One of our number will carry out your instruct...   \n",
       "3       How do you know? All this is their information...   \n",
       "4       yeah i tell you what though if you go price so...   \n",
       "...                                                   ...   \n",
       "392344  The volcano's name is thought to derive from a...   \n",
       "392345  The soaring vaults of the sober interior have ...   \n",
       "392346  you know since the women's movement in the wel...   \n",
       "392347  The increase in one asset is offset by an equa...   \n",
       "392348  and uh of course it's a nine hundred number wh...   \n",
       "\n",
       "                                                 content2  label  \n",
       "0       Product and geography are what make cream skim...      1  \n",
       "1       You lose the things to the following level if ...      0  \n",
       "2       A member of my team will execute your orders w...      0  \n",
       "3                       This information belongs to them.      0  \n",
       "4                The tennis shoes have a range of prices.      1  \n",
       "...                                                   ...    ...  \n",
       "392344  The volcano was given its name two hundred yea...      1  \n",
       "392345  German Gothic design is know for its soaring v...      0  \n",
       "392346  The women's movement solved everything and we ...      2  \n",
       "392347  .When an asset increases it means there is no ...      2  \n",
       "392348  They're going to charge you when you call the ...      0  \n",
       "\n",
       "[392349 rows x 3 columns]"
      ]
     },
     "execution_count": 8,
     "metadata": {},
     "output_type": "execute_result"
    }
   ],
   "source": [
    "total_df.iloc[:-test_size]"
   ]
  },
  {
   "cell_type": "code",
   "execution_count": 9,
   "metadata": {},
   "outputs": [
    {
     "data": {
      "text/html": [
       "<div>\n",
       "<style scoped>\n",
       "    .dataframe tbody tr th:only-of-type {\n",
       "        vertical-align: middle;\n",
       "    }\n",
       "\n",
       "    .dataframe tbody tr th {\n",
       "        vertical-align: top;\n",
       "    }\n",
       "\n",
       "    .dataframe thead th {\n",
       "        text-align: right;\n",
       "    }\n",
       "</style>\n",
       "<table border=\"1\" class=\"dataframe\">\n",
       "  <thead>\n",
       "    <tr style=\"text-align: right;\">\n",
       "      <th></th>\n",
       "      <th>content</th>\n",
       "      <th>content2</th>\n",
       "      <th>label</th>\n",
       "    </tr>\n",
       "  </thead>\n",
       "  <tbody>\n",
       "    <tr>\n",
       "      <th>392349</th>\n",
       "      <td>i would i would love to go there i mean like a...</td>\n",
       "      <td>I think I would hate traveling there because i...</td>\n",
       "      <td>2</td>\n",
       "    </tr>\n",
       "    <tr>\n",
       "      <th>392350</th>\n",
       "      <td>oh Teenage Mutant Ninja Turtles huh um-hum</td>\n",
       "      <td>The Teenage Mutant Ninja Turtles reboot.</td>\n",
       "      <td>1</td>\n",
       "    </tr>\n",
       "    <tr>\n",
       "      <th>392351</th>\n",
       "      <td>In 1793, when the leaders of the Revolution de...</td>\n",
       "      <td>The leaders of the Revolution declared the pal...</td>\n",
       "      <td>0</td>\n",
       "    </tr>\n",
       "    <tr>\n",
       "      <th>392352</th>\n",
       "      <td>She didn't wait long to come here.</td>\n",
       "      <td>She had to wait for three days.</td>\n",
       "      <td>2</td>\n",
       "    </tr>\n",
       "    <tr>\n",
       "      <th>392353</th>\n",
       "      <td>These conferences will enable program staff to...</td>\n",
       "      <td>These conferences enable program staff to exam...</td>\n",
       "      <td>1</td>\n",
       "    </tr>\n",
       "    <tr>\n",
       "      <th>...</th>\n",
       "      <td>...</td>\n",
       "      <td>...</td>\n",
       "      <td>...</td>\n",
       "    </tr>\n",
       "    <tr>\n",
       "      <th>412697</th>\n",
       "      <td>Do you watch that?</td>\n",
       "      <td>Can you see?</td>\n",
       "      <td>2</td>\n",
       "    </tr>\n",
       "    <tr>\n",
       "      <th>412698</th>\n",
       "      <td>To a Western ear, the most predictable of lang...</td>\n",
       "      <td>To the Western ear, the least predictable of l...</td>\n",
       "      <td>2</td>\n",
       "    </tr>\n",
       "    <tr>\n",
       "      <th>412699</th>\n",
       "      <td>The recorder captured the sounds of loud thump...</td>\n",
       "      <td>The recorder didn't capture any of the sounds.</td>\n",
       "      <td>2</td>\n",
       "    </tr>\n",
       "    <tr>\n",
       "      <th>412700</th>\n",
       "      <td>That's a good attitude!</td>\n",
       "      <td>You feel good about this, don't you?</td>\n",
       "      <td>1</td>\n",
       "    </tr>\n",
       "    <tr>\n",
       "      <th>412701</th>\n",
       "      <td>Bloomer (for `flower'), butter (for `ram'), or...</td>\n",
       "      <td>Bloomer is another word for flower, butter is ...</td>\n",
       "      <td>0</td>\n",
       "    </tr>\n",
       "  </tbody>\n",
       "</table>\n",
       "<p>20000 rows × 3 columns</p>\n",
       "</div>"
      ],
      "text/plain": [
       "                                                  content  \\\n",
       "392349  i would i would love to go there i mean like a...   \n",
       "392350         oh Teenage Mutant Ninja Turtles huh um-hum   \n",
       "392351  In 1793, when the leaders of the Revolution de...   \n",
       "392352                 She didn't wait long to come here.   \n",
       "392353  These conferences will enable program staff to...   \n",
       "...                                                   ...   \n",
       "412697                                 Do you watch that?   \n",
       "412698  To a Western ear, the most predictable of lang...   \n",
       "412699  The recorder captured the sounds of loud thump...   \n",
       "412700                            That's a good attitude!   \n",
       "412701  Bloomer (for `flower'), butter (for `ram'), or...   \n",
       "\n",
       "                                                 content2  label  \n",
       "392349  I think I would hate traveling there because i...      2  \n",
       "392350           The Teenage Mutant Ninja Turtles reboot.      1  \n",
       "392351  The leaders of the Revolution declared the pal...      0  \n",
       "392352                    She had to wait for three days.      2  \n",
       "392353  These conferences enable program staff to exam...      1  \n",
       "...                                                   ...    ...  \n",
       "412697                                       Can you see?      2  \n",
       "412698  To the Western ear, the least predictable of l...      2  \n",
       "412699     The recorder didn't capture any of the sounds.      2  \n",
       "412700              You feel good about this, don't you?       1  \n",
       "412701  Bloomer is another word for flower, butter is ...      0  \n",
       "\n",
       "[20000 rows x 3 columns]"
      ]
     },
     "execution_count": 9,
     "metadata": {},
     "output_type": "execute_result"
    }
   ],
   "source": [
    "total_df.iloc[-test_size:]"
   ]
  },
  {
   "cell_type": "code",
   "execution_count": 10,
   "metadata": {},
   "outputs": [],
   "source": [
    "total_df.iloc[:-test_size].to_csv(out_path + 'train.csv', index=False)\n",
    "total_df.iloc[-test_size:].to_csv(out_path + 'test.csv', index=False)"
   ]
  },
  {
   "cell_type": "markdown",
   "metadata": {
    "heading_collapsed": true
   },
   "source": [
    "### pre process the strings"
   ]
  },
  {
   "cell_type": "code",
   "execution_count": 25,
   "metadata": {
    "hidden": true
   },
   "outputs": [],
   "source": [
    "base_path = 'mnli2/mnli'\n",
    "dataset = 'test'\n",
    "in_path = base_path + '_' + dataset + '.csv'\n",
    "out_path = base_path + '_' + dataset + '_clean.csv'"
   ]
  },
  {
   "cell_type": "code",
   "execution_count": 26,
   "metadata": {
    "hidden": true
   },
   "outputs": [],
   "source": [
    "df = pd.read_csv(in_path)"
   ]
  },
  {
   "cell_type": "code",
   "execution_count": 27,
   "metadata": {},
   "outputs": [
    {
     "data": {
      "text/html": [
       "<div>\n",
       "<style scoped>\n",
       "    .dataframe tbody tr th:only-of-type {\n",
       "        vertical-align: middle;\n",
       "    }\n",
       "\n",
       "    .dataframe tbody tr th {\n",
       "        vertical-align: top;\n",
       "    }\n",
       "\n",
       "    .dataframe thead th {\n",
       "        text-align: right;\n",
       "    }\n",
       "</style>\n",
       "<table border=\"1\" class=\"dataframe\">\n",
       "  <thead>\n",
       "    <tr style=\"text-align: right;\">\n",
       "      <th></th>\n",
       "      <th>content</th>\n",
       "      <th>content2</th>\n",
       "      <th>label</th>\n",
       "    </tr>\n",
       "  </thead>\n",
       "  <tbody>\n",
       "    <tr>\n",
       "      <th>0</th>\n",
       "      <td>i would i would love to go there i mean like a...</td>\n",
       "      <td>I think I would hate traveling there because i...</td>\n",
       "      <td>2</td>\n",
       "    </tr>\n",
       "    <tr>\n",
       "      <th>1</th>\n",
       "      <td>oh Teenage Mutant Ninja Turtles huh um-hum</td>\n",
       "      <td>The Teenage Mutant Ninja Turtles reboot.</td>\n",
       "      <td>1</td>\n",
       "    </tr>\n",
       "    <tr>\n",
       "      <th>2</th>\n",
       "      <td>In 1793, when the leaders of the Revolution de...</td>\n",
       "      <td>The leaders of the Revolution declared the pal...</td>\n",
       "      <td>0</td>\n",
       "    </tr>\n",
       "    <tr>\n",
       "      <th>3</th>\n",
       "      <td>She didn't wait long to come here.</td>\n",
       "      <td>She had to wait for three days.</td>\n",
       "      <td>2</td>\n",
       "    </tr>\n",
       "    <tr>\n",
       "      <th>4</th>\n",
       "      <td>These conferences will enable program staff to...</td>\n",
       "      <td>These conferences enable program staff to exam...</td>\n",
       "      <td>1</td>\n",
       "    </tr>\n",
       "    <tr>\n",
       "      <th>...</th>\n",
       "      <td>...</td>\n",
       "      <td>...</td>\n",
       "      <td>...</td>\n",
       "    </tr>\n",
       "    <tr>\n",
       "      <th>19995</th>\n",
       "      <td>Do you watch that?</td>\n",
       "      <td>Can you see?</td>\n",
       "      <td>2</td>\n",
       "    </tr>\n",
       "    <tr>\n",
       "      <th>19996</th>\n",
       "      <td>To a Western ear, the most predictable of lang...</td>\n",
       "      <td>To the Western ear, the least predictable of l...</td>\n",
       "      <td>2</td>\n",
       "    </tr>\n",
       "    <tr>\n",
       "      <th>19997</th>\n",
       "      <td>The recorder captured the sounds of loud thump...</td>\n",
       "      <td>The recorder didn't capture any of the sounds.</td>\n",
       "      <td>2</td>\n",
       "    </tr>\n",
       "    <tr>\n",
       "      <th>19998</th>\n",
       "      <td>That's a good attitude!</td>\n",
       "      <td>You feel good about this, don't you?</td>\n",
       "      <td>1</td>\n",
       "    </tr>\n",
       "    <tr>\n",
       "      <th>19999</th>\n",
       "      <td>Bloomer (for `flower'), butter (for `ram'), or...</td>\n",
       "      <td>Bloomer is another word for flower, butter is ...</td>\n",
       "      <td>0</td>\n",
       "    </tr>\n",
       "  </tbody>\n",
       "</table>\n",
       "<p>20000 rows × 3 columns</p>\n",
       "</div>"
      ],
      "text/plain": [
       "                                                 content  \\\n",
       "0      i would i would love to go there i mean like a...   \n",
       "1             oh Teenage Mutant Ninja Turtles huh um-hum   \n",
       "2      In 1793, when the leaders of the Revolution de...   \n",
       "3                     She didn't wait long to come here.   \n",
       "4      These conferences will enable program staff to...   \n",
       "...                                                  ...   \n",
       "19995                                 Do you watch that?   \n",
       "19996  To a Western ear, the most predictable of lang...   \n",
       "19997  The recorder captured the sounds of loud thump...   \n",
       "19998                            That's a good attitude!   \n",
       "19999  Bloomer (for `flower'), butter (for `ram'), or...   \n",
       "\n",
       "                                                content2  label  \n",
       "0      I think I would hate traveling there because i...      2  \n",
       "1               The Teenage Mutant Ninja Turtles reboot.      1  \n",
       "2      The leaders of the Revolution declared the pal...      0  \n",
       "3                        She had to wait for three days.      2  \n",
       "4      These conferences enable program staff to exam...      1  \n",
       "...                                                  ...    ...  \n",
       "19995                                       Can you see?      2  \n",
       "19996  To the Western ear, the least predictable of l...      2  \n",
       "19997     The recorder didn't capture any of the sounds.      2  \n",
       "19998              You feel good about this, don't you?       1  \n",
       "19999  Bloomer is another word for flower, butter is ...      0  \n",
       "\n",
       "[20000 rows x 3 columns]"
      ]
     },
     "execution_count": 27,
     "metadata": {},
     "output_type": "execute_result"
    }
   ],
   "source": [
    "df"
   ]
  },
  {
   "cell_type": "markdown",
   "metadata": {
    "hidden": true
   },
   "source": [
    "#### drop nans"
   ]
  },
  {
   "cell_type": "code",
   "execution_count": 28,
   "metadata": {
    "hidden": true
   },
   "outputs": [],
   "source": [
    "df = df.dropna()"
   ]
  },
  {
   "cell_type": "markdown",
   "metadata": {
    "hidden": true
   },
   "source": [
    "#### filter html markings & replace special utf-8 characters"
   ]
  },
  {
   "cell_type": "code",
   "execution_count": 29,
   "metadata": {
    "hidden": true
   },
   "outputs": [],
   "source": [
    "def replace_special_chars(s):\n",
    "    map_dict = {'’':\"'\", '…':'...', \"–\":'-', '“':'\"', '—':'-', \"‘\":\"'\", '”':'\"', \"&amp;\":\"&\", \"&gt;\":'', '&lt;':'', '\\n':' ', '<br /><br />':' '}\n",
    "    for key in map_dict:\n",
    "        s = s.replace(key, map_dict[key])\n",
    "    return s"
   ]
  },
  {
   "cell_type": "code",
   "execution_count": 30,
   "metadata": {
    "hidden": true
   },
   "outputs": [],
   "source": [
    "df['content'] = df.content.apply(replace_special_chars)\n",
    "if 'content2' in df.columns:\n",
    "    df['content2'] = df.content2.apply(replace_special_chars)"
   ]
  },
  {
   "cell_type": "markdown",
   "metadata": {
    "hidden": true
   },
   "source": [
    "#### add white space around punctuation"
   ]
  },
  {
   "cell_type": "code",
   "execution_count": 31,
   "metadata": {
    "hidden": true
   },
   "outputs": [],
   "source": [
    "def space_punctuation(s):\n",
    "    s = re.sub(r'([0-9a-zA-Z])(\\')([a-zA-Z])', r'\\1____\\3', s)  # save midword apostrephes\n",
    "    s = re.sub(r'([a-zA-Z])(\\.)([a-zA-Z])', r'\\1~~~~\\3', s)  # save midword .\n",
    "    # space around punctuation\n",
    "    s = re.sub(r'([a-zA-Z])([.,!?#*()/\\[\\];:\"“”\\-\\'])', r'\\1 \\2', s)\n",
    "    s = re.sub(r'([.,!?#*()/\\[\\];:\"“”\\-\\'])([a-zA-Z])', r'\\1 \\2', s)\n",
    "\n",
    "    s = re.sub(r'____', \"'\", s)  # return apostrhephes\n",
    "    s = re.sub(r'~~~~', \".\", s)  # return .\n",
    "\n",
    "    return s"
   ]
  },
  {
   "cell_type": "code",
   "execution_count": 32,
   "metadata": {
    "hidden": true
   },
   "outputs": [],
   "source": [
    "df.content = df.content.apply(space_punctuation)\n",
    "if 'content2' in df.columns:\n",
    "    df.content2 = df.content2.apply(space_punctuation)"
   ]
  },
  {
   "cell_type": "code",
   "execution_count": 33,
   "metadata": {
    "hidden": true
   },
   "outputs": [],
   "source": [
    "# special case to surround \"=\"+ with spaces even if it is joined to text\n",
    "df.content = df.content.apply(lambda x: re.sub(r'(=)+', ' \\\\1 ', x))\n",
    "if 'content2' in df.columns:\n",
    "    df.content2 = df.content2.apply(lambda x: re.sub(r'(=)+', ' \\\\1 ', x))"
   ]
  },
  {
   "cell_type": "markdown",
   "metadata": {
    "hidden": true
   },
   "source": [
    "#### make text lower case"
   ]
  },
  {
   "cell_type": "code",
   "execution_count": 34,
   "metadata": {
    "hidden": true
   },
   "outputs": [],
   "source": [
    "df.content = df.content.apply(lambda x: x.lower())\n",
    "if 'content2' in df.columns:\n",
    "    df.content2 = df.content2.apply(lambda x: x.lower())"
   ]
  },
  {
   "cell_type": "markdown",
   "metadata": {
    "hidden": true
   },
   "source": [
    "#### remove extra white spaces"
   ]
  },
  {
   "cell_type": "code",
   "execution_count": 35,
   "metadata": {
    "hidden": true
   },
   "outputs": [],
   "source": [
    "df.content = df.content.apply(lambda x: ' '.join(x.split()))\n",
    "if 'content2' in df.columns:\n",
    "    df.content2 = df.content2.apply(lambda x: ' '.join(x.split()))"
   ]
  },
  {
   "cell_type": "markdown",
   "metadata": {
    "hidden": true
   },
   "source": [
    "#### filter extremely long sentences"
   ]
  },
  {
   "cell_type": "code",
   "execution_count": 36,
   "metadata": {
    "hidden": true
   },
   "outputs": [],
   "source": [
    "# if not one can get indexing errors when training BERT model\n",
    "lens = df.content.apply(lambda x: len(x.split()))\n",
    "df = df[(lens<250)]\n",
    "if 'content2' in df.columns:\n",
    "    lens = df.content2.apply(lambda x: len(x.split()))\n",
    "    df = df[(lens<250)]"
   ]
  },
  {
   "cell_type": "markdown",
   "metadata": {
    "hidden": true
   },
   "source": [
    "#### save csv"
   ]
  },
  {
   "cell_type": "code",
   "execution_count": 37,
   "metadata": {
    "hidden": true
   },
   "outputs": [
    {
     "data": {
      "text/plain": [
       "\"`cause we're like , now i can say this because i'm older or whatever and i can like deal with it , i'm exactly like my dad .\""
      ]
     },
     "execution_count": 37,
     "metadata": {},
     "output_type": "execute_result"
    }
   ],
   "source": [
    "df.sample().iloc[0].content"
   ]
  },
  {
   "cell_type": "code",
   "execution_count": 38,
   "metadata": {
    "hidden": true
   },
   "outputs": [],
   "source": [
    "df.to_csv(out_path, index=False)"
   ]
  },
  {
   "cell_type": "markdown",
   "metadata": {
    "heading_collapsed": true
   },
   "source": [
    "### train BERT model & inference on test"
   ]
  },
  {
   "cell_type": "markdown",
   "metadata": {
    "hidden": true
   },
   "source": [
    "this is in a seperate notebook (depends if training transfer BERT or end2end BERT)"
   ]
  },
  {
   "cell_type": "markdown",
   "metadata": {},
   "source": [
    "### create a sample based on sentence length and model predictions"
   ]
  },
  {
   "cell_type": "code",
   "execution_count": 17,
   "metadata": {},
   "outputs": [],
   "source": [
    "base_path = 'mnli2/mnli'\n",
    "model_name = 'bert'\n",
    "test_path = base_path + f'_test_pred_{model_name}.csv'\n",
    "out_path = base_path + f'_sample_{model_name}.csv'\n",
    "max_sent_len = 150\n",
    "min_sent_len = 15"
   ]
  },
  {
   "cell_type": "code",
   "execution_count": 18,
   "metadata": {},
   "outputs": [],
   "source": [
    "df = pd.read_csv(test_path)"
   ]
  },
  {
   "cell_type": "markdown",
   "metadata": {},
   "source": [
    "filter by length"
   ]
  },
  {
   "cell_type": "code",
   "execution_count": 19,
   "metadata": {},
   "outputs": [],
   "source": [
    "lens = df.content.apply(lambda x: len(x.split()))"
   ]
  },
  {
   "cell_type": "code",
   "execution_count": 20,
   "metadata": {},
   "outputs": [
    {
     "data": {
      "text/plain": [
       "(array([1.0927e+04, 7.0790e+03, 1.5830e+03, 2.7400e+02, 7.7000e+01,\n",
       "        2.3000e+01, 2.2000e+01, 6.0000e+00, 3.0000e+00, 6.0000e+00]),\n",
       " array([  1. ,  20.5,  40. ,  59.5,  79. ,  98.5, 118. , 137.5, 157. ,\n",
       "        176.5, 196. ]),\n",
       " <BarContainer object of 10 artists>)"
      ]
     },
     "execution_count": 20,
     "metadata": {},
     "output_type": "execute_result"
    },
    {
     "data": {
      "image/png": "[encoded data removed]",
      "text/plain": [
       "<Figure size 432x288 with 1 Axes>"
      ]
     },
     "metadata": {
      "needs_background": "light"
     },
     "output_type": "display_data"
    }
   ],
   "source": [
    "plt.hist(lens)"
   ]
  },
  {
   "cell_type": "code",
   "execution_count": 21,
   "metadata": {},
   "outputs": [
    {
     "data": {
      "text/plain": [
       "('num examples: ', 12967)"
      ]
     },
     "execution_count": 21,
     "metadata": {},
     "output_type": "execute_result"
    }
   ],
   "source": [
    "'num examples: ', sum((min_sent_len<=lens)&(lens<=max_sent_len))"
   ]
  },
  {
   "cell_type": "code",
   "execution_count": 22,
   "metadata": {},
   "outputs": [],
   "source": [
    "df_filtered = df[(min_sent_len<=lens)&(lens<=max_sent_len)]"
   ]
  },
  {
   "cell_type": "markdown",
   "metadata": {},
   "source": [
    "filter by tp,fp, etc. wanted distribution"
   ]
  },
  {
   "cell_type": "code",
   "execution_count": 23,
   "metadata": {},
   "outputs": [],
   "source": [
    "tp = df_filtered[(df_filtered.label == 1) & (df_filtered.preds == 1)]\n",
    "# fp = df_filtered[(df_filtered.label == 0) & (df_filtered.preds == 1)]\n",
    "tn = df_filtered[(df_filtered.label == 0) & (df_filtered.preds == 0)]\n",
    "# fn = df_filtered[(df_filtered.label == 1) & (df_filtered.preds == 0)]\n",
    "tm = df_filtered[(df_filtered.label == 2) & (df_filtered.preds == 2)]  # relevant for MNLI only\n",
    "\n",
    "# len(tp), len(fp), len(tn), len(fn)"
   ]
  },
  {
   "cell_type": "code",
   "execution_count": 24,
   "metadata": {},
   "outputs": [],
   "source": [
    "# tp = df_filtered[(df_filtered.label == 1) & (df_filtered.preds == 1)].sample(125, random_state=42)\n",
    "# fp = df_filtered[(df_filtered.label == 0) & (df_filtered.preds == 1)].sample(125, random_state=42)\n",
    "# tn = df_filtered[(df_filtered.label == 0) & (df_filtered.preds == 0)].sample(125, random_state=42)\n",
    "# fn = df_filtered[(df_filtered.label == 1) & (df_filtered.preds == 0)].sample(125, random_state=42)\n",
    "# df_final = pd.concat([tp, fp, tn, fn])"
   ]
  },
  {
   "cell_type": "code",
   "execution_count": 25,
   "metadata": {},
   "outputs": [],
   "source": [
    "# df_final = pd.concat([tp, fp, tn, fn])\n",
    "df_final = pd.concat([tp, tn, tm])"
   ]
  },
  {
   "cell_type": "code",
   "execution_count": 26,
   "metadata": {},
   "outputs": [
    {
     "data": {
      "text/plain": [
       "3332"
      ]
     },
     "execution_count": 26,
     "metadata": {},
     "output_type": "execute_result"
    }
   ],
   "source": [
    "len(tp)"
   ]
  },
  {
   "cell_type": "code",
   "execution_count": 27,
   "metadata": {},
   "outputs": [
    {
     "data": {
      "text/plain": [
       "10723"
      ]
     },
     "execution_count": 27,
     "metadata": {},
     "output_type": "execute_result"
    }
   ],
   "source": [
    "len(df_final)"
   ]
  },
  {
   "cell_type": "code",
   "execution_count": 28,
   "metadata": {},
   "outputs": [
    {
     "data": {
      "text/plain": [
       "'in the past eight years send has renovated over 70 homes for affordable resale to families , created more than 100 high quality apartments , assisted 20 businesses to expand or improve their facilities , created three new parks , and taught more than 200 youth work ethics and skills .'"
      ]
     },
     "execution_count": 28,
     "metadata": {},
     "output_type": "execute_result"
    }
   ],
   "source": [
    "df_final.sample().iloc[0].content"
   ]
  },
  {
   "cell_type": "markdown",
   "metadata": {},
   "source": [
    "de-duplicate the dataset"
   ]
  },
  {
   "cell_type": "code",
   "execution_count": 29,
   "metadata": {},
   "outputs": [],
   "source": [
    "if \"content2\" in df_final.columns:\n",
    "    df_final[\"content3\"] = list(zip(df_final.content, df_final.content2))"
   ]
  },
  {
   "cell_type": "code",
   "execution_count": 30,
   "metadata": {},
   "outputs": [
    {
     "data": {
      "text/html": [
       "<div>\n",
       "<style scoped>\n",
       "    .dataframe tbody tr th:only-of-type {\n",
       "        vertical-align: middle;\n",
       "    }\n",
       "\n",
       "    .dataframe tbody tr th {\n",
       "        vertical-align: top;\n",
       "    }\n",
       "\n",
       "    .dataframe thead th {\n",
       "        text-align: right;\n",
       "    }\n",
       "</style>\n",
       "<table border=\"1\" class=\"dataframe\">\n",
       "  <thead>\n",
       "    <tr style=\"text-align: right;\">\n",
       "      <th></th>\n",
       "      <th>content</th>\n",
       "      <th>content2</th>\n",
       "      <th>label</th>\n",
       "      <th>preds</th>\n",
       "      <th>content3</th>\n",
       "    </tr>\n",
       "  </thead>\n",
       "  <tbody>\n",
       "    <tr>\n",
       "      <th>4</th>\n",
       "      <td>these conferences will enable program staff to...</td>\n",
       "      <td>these conferences enable program staff to exam...</td>\n",
       "      <td>1</td>\n",
       "      <td>1</td>\n",
       "      <td>(these conferences will enable program staff t...</td>\n",
       "    </tr>\n",
       "    <tr>\n",
       "      <th>14</th>\n",
       "      <td>standard costing may be based on either absorp...</td>\n",
       "      <td>it may apply to other standards as well .</td>\n",
       "      <td>1</td>\n",
       "      <td>1</td>\n",
       "      <td>(standard costing may be based on either absor...</td>\n",
       "    </tr>\n",
       "    <tr>\n",
       "      <th>19</th>\n",
       "      <td>bell's inability to see a world beyond the con...</td>\n",
       "      <td>bell has an education in military and economic...</td>\n",
       "      <td>1</td>\n",
       "      <td>1</td>\n",
       "      <td>(bell's inability to see a world beyond the co...</td>\n",
       "    </tr>\n",
       "    <tr>\n",
       "      <th>26</th>\n",
       "      <td>i think it's uh i think if they want to do it ...</td>\n",
       "      <td>i think that women should be allowed to do any...</td>\n",
       "      <td>1</td>\n",
       "      <td>1</td>\n",
       "      <td>(i think it's uh i think if they want to do it...</td>\n",
       "    </tr>\n",
       "    <tr>\n",
       "      <th>30</th>\n",
       "      <td>the incremental reforms that traditionalists f...</td>\n",
       "      <td>the incremental reforms hold a very large impo...</td>\n",
       "      <td>1</td>\n",
       "      <td>1</td>\n",
       "      <td>(the incremental reforms that traditionalists ...</td>\n",
       "    </tr>\n",
       "    <tr>\n",
       "      <th>...</th>\n",
       "      <td>...</td>\n",
       "      <td>...</td>\n",
       "      <td>...</td>\n",
       "      <td>...</td>\n",
       "      <td>...</td>\n",
       "    </tr>\n",
       "    <tr>\n",
       "      <th>19981</th>\n",
       "      <td>so , i have my sister's kid here and i'm going...</td>\n",
       "      <td>my sister does not have a child .</td>\n",
       "      <td>2</td>\n",
       "      <td>2</td>\n",
       "      <td>(so , i have my sister's kid here and i'm goin...</td>\n",
       "    </tr>\n",
       "    <tr>\n",
       "      <th>19986</th>\n",
       "      <td>today , bodenheim's novel might be of interest...</td>\n",
       "      <td>bodenheim's novel might be of interest to stud...</td>\n",
       "      <td>2</td>\n",
       "      <td>2</td>\n",
       "      <td>(today , bodenheim's novel might be of interes...</td>\n",
       "    </tr>\n",
       "    <tr>\n",
       "      <th>19988</th>\n",
       "      <td>even though i had freedom when i was , you kno...</td>\n",
       "      <td>i had freedom when i was home , and there was ...</td>\n",
       "      <td>2</td>\n",
       "      <td>2</td>\n",
       "      <td>(even though i had freedom when i was , you kn...</td>\n",
       "    </tr>\n",
       "    <tr>\n",
       "      <th>19996</th>\n",
       "      <td>to a western ear , the most predictable of lan...</td>\n",
       "      <td>to the western ear , the least predictable of ...</td>\n",
       "      <td>2</td>\n",
       "      <td>2</td>\n",
       "      <td>(to a western ear , the most predictable of la...</td>\n",
       "    </tr>\n",
       "    <tr>\n",
       "      <th>19997</th>\n",
       "      <td>the recorder captured the sounds of loud thump...</td>\n",
       "      <td>the recorder didn't capture any of the sounds .</td>\n",
       "      <td>2</td>\n",
       "      <td>2</td>\n",
       "      <td>(the recorder captured the sounds of loud thum...</td>\n",
       "    </tr>\n",
       "  </tbody>\n",
       "</table>\n",
       "<p>10723 rows × 5 columns</p>\n",
       "</div>"
      ],
      "text/plain": [
       "                                                 content  \\\n",
       "4      these conferences will enable program staff to...   \n",
       "14     standard costing may be based on either absorp...   \n",
       "19     bell's inability to see a world beyond the con...   \n",
       "26     i think it's uh i think if they want to do it ...   \n",
       "30     the incremental reforms that traditionalists f...   \n",
       "...                                                  ...   \n",
       "19981  so , i have my sister's kid here and i'm going...   \n",
       "19986  today , bodenheim's novel might be of interest...   \n",
       "19988  even though i had freedom when i was , you kno...   \n",
       "19996  to a western ear , the most predictable of lan...   \n",
       "19997  the recorder captured the sounds of loud thump...   \n",
       "\n",
       "                                                content2  label  preds  \\\n",
       "4      these conferences enable program staff to exam...      1      1   \n",
       "14             it may apply to other standards as well .      1      1   \n",
       "19     bell has an education in military and economic...      1      1   \n",
       "26     i think that women should be allowed to do any...      1      1   \n",
       "30     the incremental reforms hold a very large impo...      1      1   \n",
       "...                                                  ...    ...    ...   \n",
       "19981                  my sister does not have a child .      2      2   \n",
       "19986  bodenheim's novel might be of interest to stud...      2      2   \n",
       "19988  i had freedom when i was home , and there was ...      2      2   \n",
       "19996  to the western ear , the least predictable of ...      2      2   \n",
       "19997    the recorder didn't capture any of the sounds .      2      2   \n",
       "\n",
       "                                                content3  \n",
       "4      (these conferences will enable program staff t...  \n",
       "14     (standard costing may be based on either absor...  \n",
       "19     (bell's inability to see a world beyond the co...  \n",
       "26     (i think it's uh i think if they want to do it...  \n",
       "30     (the incremental reforms that traditionalists ...  \n",
       "...                                                  ...  \n",
       "19981  (so , i have my sister's kid here and i'm goin...  \n",
       "19986  (today , bodenheim's novel might be of interes...  \n",
       "19988  (even though i had freedom when i was , you kn...  \n",
       "19996  (to a western ear , the most predictable of la...  \n",
       "19997  (the recorder captured the sounds of loud thum...  \n",
       "\n",
       "[10723 rows x 5 columns]"
      ]
     },
     "execution_count": 30,
     "metadata": {},
     "output_type": "execute_result"
    }
   ],
   "source": [
    "df_final"
   ]
  },
  {
   "cell_type": "code",
   "execution_count": 31,
   "metadata": {},
   "outputs": [
    {
     "data": {
      "text/plain": [
       "2"
      ]
     },
     "execution_count": 31,
     "metadata": {},
     "output_type": "execute_result"
    }
   ],
   "source": [
    "len(df_final) - df_final.content3.nunique()"
   ]
  },
  {
   "cell_type": "code",
   "execution_count": 32,
   "metadata": {},
   "outputs": [],
   "source": [
    "df_final.drop_duplicates('content3', inplace=True)"
   ]
  },
  {
   "cell_type": "code",
   "execution_count": 33,
   "metadata": {},
   "outputs": [
    {
     "data": {
      "text/plain": [
       "0"
      ]
     },
     "execution_count": 33,
     "metadata": {},
     "output_type": "execute_result"
    }
   ],
   "source": [
    "len(df_final) - df_final.content3.nunique()"
   ]
  },
  {
   "cell_type": "markdown",
   "metadata": {},
   "source": [
    "sample statistics"
   ]
  },
  {
   "cell_type": "code",
   "execution_count": 34,
   "metadata": {},
   "outputs": [
    {
     "name": "stdout",
     "output_type": "stream",
     "text": [
      "len mean:  28.48363025837142\n",
      "len std:  13.25233497135992\n",
      "len median:  25.0\n",
      "len min:  15\n",
      "len max:  141\n",
      "accuracy:  0.6656095513478221\n"
     ]
    }
   ],
   "source": [
    "filtered_lens = df_final.content.apply(lambda x: len(x.split()))\n",
    "print('len mean: ', filtered_lens.mean())\n",
    "print('len std: ', filtered_lens.std())\n",
    "print('len median: ', filtered_lens.median())\n",
    "print('len min: ', filtered_lens.min())\n",
    "print('len max: ', filtered_lens.max())\n",
    "print('accuracy: ',(len(tp) + len(tn))/len(df_final))"
   ]
  },
  {
   "cell_type": "markdown",
   "metadata": {},
   "source": [
    "save sample"
   ]
  },
  {
   "cell_type": "code",
   "execution_count": 35,
   "metadata": {},
   "outputs": [],
   "source": [
    "df_final.to_csv(out_path, index=False)"
   ]
  },
  {
   "cell_type": "markdown",
   "metadata": {},
   "source": [
    "#### make train test sample"
   ]
  },
  {
   "cell_type": "code",
   "execution_count": 10,
   "metadata": {},
   "outputs": [],
   "source": [
    "df = pd.read_csv(test_path)"
   ]
  },
  {
   "cell_type": "code",
   "execution_count": 11,
   "metadata": {},
   "outputs": [
    {
     "data": {
      "text/plain": [
       "(array([6.4936e+04, 3.0359e+04, 3.7440e+03, 6.3200e+02, 1.8700e+02,\n",
       "        6.9000e+01, 3.2000e+01, 1.5000e+01, 8.0000e+00, 9.0000e+00]),\n",
       " array([  1. ,  24.9,  48.8,  72.7,  96.6, 120.5, 144.4, 168.3, 192.2,\n",
       "        216.1, 240. ]),\n",
       " <BarContainer object of 10 artists>)"
      ]
     },
     "execution_count": 11,
     "metadata": {},
     "output_type": "execute_result"
    },
    {
     "data": {
      "image/png": "[encoded data removed]",
      "text/plain": [
       "<Figure size 432x288 with 1 Axes>"
      ]
     },
     "metadata": {
      "needs_background": "light"
     },
     "output_type": "display_data"
    }
   ],
   "source": [
    "lens = df.content.apply(lambda x: len(x.split()))\n",
    "plt.hist(lens)"
   ]
  },
  {
   "cell_type": "code",
   "execution_count": 12,
   "metadata": {},
   "outputs": [
    {
     "data": {
      "text/plain": [
       "('num examples: ', 65071)"
      ]
     },
     "execution_count": 12,
     "metadata": {},
     "output_type": "execute_result"
    }
   ],
   "source": [
    "'num examples: ', sum((min_sent_len<=lens)&(lens<=max_sent_len))"
   ]
  },
  {
   "cell_type": "code",
   "execution_count": 13,
   "metadata": {},
   "outputs": [],
   "source": [
    "df_filtered = df[(min_sent_len<=lens)&(lens<=max_sent_len)]"
   ]
  },
  {
   "cell_type": "code",
   "execution_count": 14,
   "metadata": {},
   "outputs": [
    {
     "data": {
      "text/plain": [
       "(18553, 17270, 17494)"
      ]
     },
     "execution_count": 14,
     "metadata": {},
     "output_type": "execute_result"
    }
   ],
   "source": [
    "tp = df_filtered[(df_filtered.label == 1) & (df_filtered.preds == 1)]\n",
    "tn = df_filtered[(df_filtered.label == 0) & (df_filtered.preds == 0)]\n",
    "tm = df_filtered[(df_filtered.label == 2) & (df_filtered.preds == 2)]  # relevant for MNLI only\n",
    "len(tp), len(tn), len(tm)"
   ]
  },
  {
   "cell_type": "code",
   "execution_count": 26,
   "metadata": {},
   "outputs": [],
   "source": [
    "tp_train = tp[~tp.content.isin(df_test.content)]\n",
    "# or \n",
    "# tn_train = tn[~tn.content.isin(df_test.content)]"
   ]
  },
  {
   "cell_type": "code",
   "execution_count": 28,
   "metadata": {},
   "outputs": [
    {
     "data": {
      "text/plain": [
       "(12629, 3)"
      ]
     },
     "execution_count": 28,
     "metadata": {},
     "output_type": "execute_result"
    }
   ],
   "source": [
    "tp"
   ]
  },
  {
   "cell_type": "code",
   "execution_count": 29,
   "metadata": {},
   "outputs": [],
   "source": [
    "# tp_train_final = tp_train.sample(1000, random_state=3)\n",
    "tn_train_final = tn_train.sample(12500, random_state=3)"
   ]
  },
  {
   "cell_type": "code",
   "execution_count": 31,
   "metadata": {},
   "outputs": [
    {
     "data": {
      "text/plain": [
       "12500"
      ]
     },
     "execution_count": 31,
     "metadata": {},
     "output_type": "execute_result"
    }
   ],
   "source": [
    "len(tn_train_final)"
   ]
  },
  {
   "cell_type": "code",
   "execution_count": 32,
   "metadata": {},
   "outputs": [],
   "source": [
    "train_out_path = base_path + '_train_sample.csv'\n",
    "tn_train_final.to_csv(train_out_path, index=False)"
   ]
  }
 ],
 "metadata": {
  "kernelspec": {
   "display_name": "gallilm2",
   "language": "python",
   "name": "gallilm2"
  },
  "language_info": {
   "codemirror_mode": {
    "name": "ipython",
    "version": 3
   },
   "file_extension": ".py",
   "mimetype": "text/x-python",
   "name": "python",
   "nbconvert_exporter": "python",
   "pygments_lexer": "ipython3",
   "version": "3.7.8"
  }
 },
 "nbformat": 4,
 "nbformat_minor": 2
}
