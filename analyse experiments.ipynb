{
 "cells": [
  {
   "cell_type": "code",
   "execution_count": 1,
   "metadata": {},
   "outputs": [
    {
     "name": "stderr",
     "output_type": "stream",
     "text": [
      "Matplotlib created a temporary config/cache directory at /tmp/matplotlib-gnwo2xxv because the default path (/home/gallil/.config/matplotlib) is not a writable directory; it is highly recommended to set the MPLCONFIGDIR environment variable to a writable directory, in particular to speed up the import of Matplotlib and to better support multiprocessing.\n"
     ]
    }
   ],
   "source": [
    "import pandas as pd\n",
    "import os\n",
    "import matplotlib.pyplot as plt\n",
    "import numpy as np\n",
    "%matplotlib inline"
   ]
  },
  {
   "cell_type": "markdown",
   "metadata": {},
   "source": [
    "## single sentence evaluation"
   ]
  },
  {
   "cell_type": "code",
   "execution_count": 53,
   "metadata": {},
   "outputs": [],
   "source": [
    "base_path = 'data/aclImdb/imdb'\n",
    "path = base_path + '_a3c_results_indi_syn'\n",
    "sent_num = '13'\n",
    "sent_path = path + '/' + sent_num\n",
    "sample_path = base_path + '_sample.csv'"
   ]
  },
  {
   "cell_type": "code",
   "execution_count": 54,
   "metadata": {},
   "outputs": [],
   "source": [
    "df_sample = pd.read_csv(sample_path)"
   ]
  },
  {
   "cell_type": "code",
   "execution_count": 55,
   "metadata": {},
   "outputs": [
    {
     "name": "stderr",
     "output_type": "stream",
     "text": [
      "/storage/conda_envs/left/lib/python3.6/site-packages/ipykernel_launcher.py:6: ParserWarning: Falling back to the 'python' engine because the 'c' engine does not support regex separators (separators > 1 char and different from '\\s+' are interpreted as regex); you can avoid this warning by specifying engine='python'.\n",
      "  \n"
     ]
    }
   ],
   "source": [
    "dfs = []\n",
    "for j in range(6):\n",
    "    if not os.path.isfile(f'{sent_path}/w{j}.txt'):\n",
    "        print(f'no worker {j}')\n",
    "    else:\n",
    "        dfs.append(pd.read_csv(f'{sent_path}/w{j}.txt', header=None, sep=\"##g##\"))"
   ]
  },
  {
   "cell_type": "code",
   "execution_count": 56,
   "metadata": {},
   "outputs": [],
   "source": [
    "df = pd.concat(dfs)\n",
    "df.columns = ['orig_sent', 'episode', 'score', 'sent']\n",
    "df = df.sort_values('episode')\n",
    "df = df.reset_index(drop=True)"
   ]
  },
  {
   "cell_type": "markdown",
   "metadata": {},
   "source": [
    "graph of reward vs episode"
   ]
  },
  {
   "cell_type": "code",
   "execution_count": 57,
   "metadata": {},
   "outputs": [
    {
     "data": {
      "text/plain": [
       "[<matplotlib.lines.Line2D at 0x7f6ca6a10240>]"
      ]
     },
     "execution_count": 57,
     "metadata": {},
     "output_type": "execute_result"
    },
    {
     "data": {
      "image/png": "[encoded data removed]",
      "text/plain": [
       "<Figure size 432x288 with 1 Axes>"
      ]
     },
     "metadata": {
      "needs_background": "light"
     },
     "output_type": "display_data"
    }
   ],
   "source": [
    "N=100\n",
    "# df= df.iloc[:1000]\n",
    "plt.plot(df.episode, df.score)\n",
    "plt.plot(np.convolve(df.score, np.ones((N,))/N, mode='valid'))"
   ]
  },
  {
   "cell_type": "markdown",
   "metadata": {},
   "source": [
    "find most simililar result"
   ]
  },
  {
   "cell_type": "code",
   "execution_count": 89,
   "metadata": {},
   "outputs": [
    {
     "name": "stderr",
     "output_type": "stream",
     "text": [
      "/storage/conda_envs/left/lib/python3.6/site-packages/ipykernel_launcher.py:1: FutureWarning: \n",
      "The current behaviour of 'Series.argmax' is deprecated, use 'idxmax'\n",
      "instead.\n",
      "The behavior of 'argmax' will be corrected to return the positional\n",
      "maximum in the future. For now, use 'series.values.argmax' or\n",
      "'np.argmax(np.array(values))' to get the position of the maximum\n",
      "row.\n",
      "  \"\"\"Entry point for launching an IPython kernel.\n"
     ]
    },
    {
     "data": {
      "text/plain": [
       "orig_sent    this may be one of the best movies i have ever...\n",
       "episode                                                   1000\n",
       "score                                                  102.285\n",
       "sent         this might be one of the best movies i have ev...\n",
       "Name: 999, dtype: object"
      ]
     },
     "execution_count": 89,
     "metadata": {},
     "output_type": "execute_result"
    }
   ],
   "source": [
    "df.iloc[df.score.iloc[-4:-1].argmax()]"
   ]
  },
  {
   "cell_type": "code",
   "execution_count": 90,
   "metadata": {},
   "outputs": [
    {
     "data": {
      "text/plain": [
       "1002"
      ]
     },
     "execution_count": 90,
     "metadata": {},
     "output_type": "execute_result"
    }
   ],
   "source": [
    "df[df.score == df.score.max()].episode.max()"
   ]
  },
  {
   "cell_type": "code",
   "execution_count": 91,
   "metadata": {},
   "outputs": [
    {
     "name": "stdout",
     "output_type": "stream",
     "text": [
      "original sentence:  this may be one of the best movies i have ever seen . it has anything but a trite plot , and leaves one wondering which way it will go next . it is an interesting portrayal of the struggles of youth , youth who are interested in more than immediate gratification , youth who show some concern about the desires and needs of others .\n",
      "original label:  1\n",
      "original prediction:  1\n"
     ]
    },
    {
     "data": {
      "text/plain": [
       "(23,\n",
       " 102.284658908844,\n",
       " 'this might be one of the best movies i have ever seen . it has anything but a trite plot , and leaves one wondering which way it will go next . it is an interesting portrayal of the struggles of youth , youth who are interested in more than immediate gratification , youth who show some concern about the desires and needs of others .')"
      ]
     },
     "execution_count": 91,
     "metadata": {},
     "output_type": "execute_result"
    }
   ],
   "source": [
    "print('original sentence: ', df_sample.content.iloc[int(sent_num)])\n",
    "print('original label: ', df_sample.label.iloc[int(sent_num)])\n",
    "print('original prediction: ', df_sample.preds.iloc[int(sent_num)])\n",
    "df.iloc[df.score.idxmax()].episode, df.iloc[df.score.idxmax()].score, df.iloc[df.score.idxmax()].sent"
   ]
  },
  {
   "cell_type": "markdown",
   "metadata": {
    "heading_collapsed": true
   },
   "source": [
    "#### calculate which examples are - easy, converged, successful and un-successful"
   ]
  },
  {
   "cell_type": "code",
   "execution_count": null,
   "metadata": {
    "hidden": true
   },
   "outputs": [],
   "source": [
    "base_path = '../text-xai/data/toxic/toxic'\n",
    "path = base_path + '_a3c_results_indi_syn'\n",
    "wanted_texts = list(range(125))\n",
    "sample_path = base_path + '_sample.csv'"
   ]
  },
  {
   "cell_type": "code",
   "execution_count": 9,
   "metadata": {
    "hidden": true
   },
   "outputs": [],
   "source": [
    "def find_train_group(scores, N):\n",
    "    mean_r = np.convolve(scores, np.ones((N,))/N, mode='valid')\n",
    "    if (mean_r[:100].max()>90) and (mean_r[-1] > 90):                                 # Easy\n",
    "        return 'easy'\n",
    "    elif ((mean_r[0] <= 0.5 * mean_r[-1]) and mean_r[-1] > 40) or (mean_r[-1] > 80):  # converged\n",
    "        return 'converged'\n",
    "    elif scores.max() > 75:                                   # successful\n",
    "        return 'success'\n",
    "    else:                                                                             # unsuccesful\n",
    "        return 'unsuccess'"
   ]
  },
  {
   "cell_type": "code",
   "execution_count": null,
   "metadata": {
    "hidden": true
   },
   "outputs": [],
   "source": [
    "N = 100  # window size for mean\n",
    "groups = {'easy': [], 'converged': [], 'success': [], 'unsuccess': []}\n",
    "\n",
    "for sent_num in wanted_texts: \n",
    "    # load all results for specific text\n",
    "    sent_path = path + '/' + str(sent_num)\n",
    "    dfs = []\n",
    "    for j in range(6):\n",
    "        if not os.path.isfile(f'{sent_path}/w{j}.txt'):\n",
    "            print(f'no worker {j}')\n",
    "        else:\n",
    "            dfs.append(pd.read_csv(f'{sent_path}/w{j}.txt', header=None, sep=\"##g##\"))\n",
    "    # adapt the format\n",
    "    df = pd.concat(dfs)\n",
    "    df.columns = ['orig_sent', 'episode', 'score', 'sent']\n",
    "    df = df.sort_values('episode')\n",
    "    df = df.reset_index(drop=True)\n",
    "    \n",
    "    # aggregate the sum of the smoothed reward \n",
    "    cur_group = find_train_group(df.score, N)\n",
    "    groups[cur_group].append(sent_num)"
   ]
  },
  {
   "cell_type": "code",
   "execution_count": null,
   "metadata": {
    "hidden": true
   },
   "outputs": [],
   "source": [
    "groups"
   ]
  },
  {
   "cell_type": "markdown",
   "metadata": {
    "heading_collapsed": true
   },
   "source": [
    "#### create the mean training reward plot of wanted texts"
   ]
  },
  {
   "cell_type": "code",
   "execution_count": 32,
   "metadata": {
    "hidden": true
   },
   "outputs": [],
   "source": [
    "base_path = 'data/aclImdb/imdb'\n",
    "path = base_path + '_relegate_results'\n",
    "wanted_texts = [2, 12, 19, 24, 41, 67, 78, 83, 88, 92, 102, 4, 6, 13, 27, 28, 34, 35, 56, 60, 68, 77, 93, 96, 104, 119]"
   ]
  },
  {
   "cell_type": "code",
   "execution_count": 33,
   "metadata": {
    "hidden": true,
    "scrolled": true
   },
   "outputs": [
    {
     "name": "stdout",
     "output_type": "stream",
     "text": [
      "no worker 4\n",
      "no worker 5\n",
      "no worker 4\n",
      "no worker 5\n",
      "no worker 4\n",
      "no worker 5\n",
      "no worker 4\n",
      "no worker 5\n",
      "no worker 4\n",
      "no worker 5\n",
      "no worker 4\n",
      "no worker 5\n",
      "no worker 4\n",
      "no worker 5\n",
      "no worker 4\n",
      "no worker 5\n",
      "no worker 4\n",
      "no worker 5\n",
      "no worker 4\n",
      "no worker 5\n",
      "no worker 4\n",
      "no worker 5\n",
      "no worker 4\n",
      "no worker 5\n",
      "no worker 4\n",
      "no worker 5\n",
      "no worker 4\n",
      "no worker 5\n",
      "no worker 4\n",
      "no worker 5\n",
      "no worker 4\n",
      "no worker 5\n",
      "no worker 4\n",
      "no worker 5\n",
      "no worker 4\n",
      "no worker 5\n",
      "no worker 4\n",
      "no worker 5\n",
      "no worker 4\n",
      "no worker 5\n",
      "no worker 4\n",
      "no worker 5\n",
      "no worker 4\n",
      "no worker 5\n",
      "no worker 4\n",
      "no worker 5\n",
      "no worker 4\n",
      "no worker 5\n",
      "no worker 4\n",
      "no worker 5\n",
      "no worker 4\n",
      "no worker 5\n"
     ]
    }
   ],
   "source": [
    "N = 100  # window size for mean\n",
    "mean_train_reward = np.zeros(1000 - N)\n",
    "for sent_num in wanted_texts: \n",
    "    # load all results for specific text\n",
    "    sent_path = path + '/' + str(sent_num)\n",
    "    dfs = []\n",
    "    for j in range(6):\n",
    "        if not os.path.isfile(f'{sent_path}/w{j}.txt'):\n",
    "            print(f'no worker {j}')\n",
    "        else:\n",
    "            dfs.append(pd.read_csv(f'{sent_path}/w{j}.txt', header=None, sep=\"##g##\", engine='python'))\n",
    "    # adapt the format\n",
    "    df = pd.concat(dfs)\n",
    "    df.columns = ['orig_sent', 'episode', 'score', 'sent']\n",
    "    df = df.sort_values('episode')\n",
    "    df = df.reset_index(drop=True)\n",
    "    \n",
    "    # aggregate the sum of the smoothed reward \n",
    "    mean_train_reward += np.convolve(df.score, np.ones((N,))/N, mode='valid')[:1000-N]\n",
    "    \n",
    "mean_train_reward /= len(wanted_texts)"
   ]
  },
  {
   "cell_type": "code",
   "execution_count": 34,
   "metadata": {
    "hidden": true
   },
   "outputs": [
    {
     "data": {
      "text/plain": [
       "90.66049137232568"
      ]
     },
     "execution_count": 34,
     "metadata": {},
     "output_type": "execute_result"
    }
   ],
   "source": [
    "mean_train_reward[-1]"
   ]
  },
  {
   "cell_type": "markdown",
   "metadata": {},
   "source": [
    "## train test evaluation"
   ]
  },
  {
   "cell_type": "code",
   "execution_count": 2,
   "metadata": {},
   "outputs": [],
   "source": [
    "base_path = 'data/aclImdb/imdb_relegate_results' # _imdb_tp_26_lunatc'"
   ]
  },
  {
   "cell_type": "markdown",
   "metadata": {},
   "source": [
    "### train"
   ]
  },
  {
   "cell_type": "code",
   "execution_count": 3,
   "metadata": {},
   "outputs": [],
   "source": [
    "path = base_path + '/train/'"
   ]
  },
  {
   "cell_type": "code",
   "execution_count": 4,
   "metadata": {
    "scrolled": true
   },
   "outputs": [
    {
     "name": "stdout",
     "output_type": "stream",
     "text": [
      "no worker 4\n",
      "no worker 5\n"
     ]
    }
   ],
   "source": [
    "epoch_dfs = []\n",
    "for epoch in range(1):\n",
    "    cur_path = path + str(epoch)\n",
    "    dfs = []\n",
    "    # iterate over different workers for same epoch\n",
    "    for j in range(6):\n",
    "        if not os.path.isfile(f'{cur_path}/w{j}.txt'):\n",
    "            print(f'no worker {j}')\n",
    "        else:\n",
    "            dfs.append(pd.read_csv(f'{cur_path}/w{j}.txt', header=None, sep=\"##g##\", engine='python'))\n",
    "    \n",
    "    # concatenate different workers\n",
    "    df = pd.concat(dfs)\n",
    "    df.columns = ['orig_sent', 'episode', 'score', 'sent']\n",
    "    df = df.sort_values('episode')\n",
    "    df = df.reset_index(drop=True)\n",
    "    \n",
    "    # add specific epoch to list\n",
    "    epoch_dfs.append(df)\n",
    "\n",
    "# concatenate all epochs\n",
    "df_train = pd.concat(epoch_dfs)\n",
    "df_train = df_train.reset_index(drop=True)"
   ]
  },
  {
   "cell_type": "code",
   "execution_count": 5,
   "metadata": {},
   "outputs": [
    {
     "data": {
      "text/plain": [
       "10002"
      ]
     },
     "execution_count": 5,
     "metadata": {},
     "output_type": "execute_result"
    }
   ],
   "source": [
    "len(df_train)"
   ]
  },
  {
   "cell_type": "markdown",
   "metadata": {
    "heading_collapsed": true
   },
   "source": [
    "### test"
   ]
  },
  {
   "cell_type": "code",
   "execution_count": 117,
   "metadata": {
    "hidden": true
   },
   "outputs": [],
   "source": [
    "path = base_path + '/0/'"
   ]
  },
  {
   "cell_type": "code",
   "execution_count": 1033,
   "metadata": {
    "hidden": true,
    "scrolled": true
   },
   "outputs": [
    {
     "name": "stdout",
     "output_type": "stream",
     "text": [
      "no worker 2\n",
      "no worker 3\n",
      "no worker 4\n",
      "no worker 5\n",
      "no worker 6\n",
      "no worker 2\n",
      "no worker 3\n",
      "no worker 4\n",
      "no worker 5\n",
      "no worker 6\n",
      "no worker 1\n",
      "no worker 2\n",
      "no worker 3\n",
      "no worker 4\n",
      "no worker 5\n",
      "no worker 6\n",
      "no worker 1\n",
      "no worker 2\n",
      "no worker 3\n",
      "no worker 4\n",
      "no worker 5\n",
      "no worker 6\n",
      "no worker 1\n",
      "no worker 2\n",
      "no worker 3\n",
      "no worker 4\n",
      "no worker 5\n",
      "no worker 6\n",
      "no worker 1\n",
      "no worker 2\n",
      "no worker 3\n",
      "no worker 4\n",
      "no worker 5\n",
      "no worker 6\n",
      "no worker 1\n",
      "no worker 2\n",
      "no worker 3\n",
      "no worker 4\n",
      "no worker 5\n",
      "no worker 6\n",
      "no worker 2\n",
      "no worker 3\n",
      "no worker 4\n",
      "no worker 5\n",
      "no worker 6\n",
      "no worker 2\n",
      "no worker 3\n",
      "no worker 4\n",
      "no worker 5\n",
      "no worker 6\n",
      "no worker 2\n",
      "no worker 3\n",
      "no worker 4\n",
      "no worker 5\n",
      "no worker 6\n",
      "no worker 2\n",
      "no worker 3\n",
      "no worker 4\n",
      "no worker 5\n",
      "no worker 6\n",
      "no worker 2\n",
      "no worker 3\n",
      "no worker 4\n",
      "no worker 5\n",
      "no worker 6\n",
      "no worker 2\n",
      "no worker 3\n",
      "no worker 4\n",
      "no worker 5\n",
      "no worker 6\n",
      "no worker 2\n",
      "no worker 3\n",
      "no worker 4\n",
      "no worker 5\n",
      "no worker 6\n",
      "no worker 2\n",
      "no worker 3\n",
      "no worker 4\n",
      "no worker 5\n",
      "no worker 6\n",
      "no worker 2\n",
      "no worker 3\n",
      "no worker 4\n",
      "no worker 5\n",
      "no worker 6\n",
      "no worker 2\n",
      "no worker 3\n",
      "no worker 4\n",
      "no worker 5\n",
      "no worker 6\n",
      "no worker 2\n",
      "no worker 3\n",
      "no worker 4\n",
      "no worker 5\n",
      "no worker 6\n",
      "no worker 2\n",
      "no worker 3\n",
      "no worker 4\n",
      "no worker 5\n",
      "no worker 6\n",
      "no worker 2\n",
      "no worker 3\n",
      "no worker 4\n",
      "no worker 5\n",
      "no worker 6\n",
      "no worker 2\n",
      "no worker 3\n",
      "no worker 4\n",
      "no worker 5\n",
      "no worker 6\n",
      "no worker 2\n",
      "no worker 3\n",
      "no worker 4\n",
      "no worker 5\n",
      "no worker 6\n",
      "no worker 2\n",
      "no worker 3\n",
      "no worker 4\n",
      "no worker 5\n",
      "no worker 6\n",
      "no worker 2\n",
      "no worker 3\n",
      "no worker 4\n",
      "no worker 5\n",
      "no worker 6\n",
      "no worker 2\n",
      "no worker 3\n",
      "no worker 4\n",
      "no worker 5\n",
      "no worker 6\n",
      "no worker 2\n",
      "no worker 3\n",
      "no worker 4\n",
      "no worker 5\n",
      "no worker 6\n",
      "no worker 2\n",
      "no worker 3\n",
      "no worker 4\n",
      "no worker 5\n",
      "no worker 6\n"
     ]
    },
    {
     "name": "stderr",
     "output_type": "stream",
     "text": [
      "/storage/conda_envs/bert_test/lib/python3.6/site-packages/ipykernel_launcher.py:10: ParserWarning: Falling back to the 'python' engine because the 'c' engine does not support regex separators (separators > 1 char and different from '\\s+' are interpreted as regex); you can avoid this warning by specifying engine='python'.\n",
      "  # Remove the CWD from sys.path while we load stuff.\n",
      "/storage/conda_envs/bert_test/lib/python3.6/site-packages/ipykernel_launcher.py:10: ParserWarning: Falling back to the 'python' engine because the 'c' engine does not support regex separators (separators > 1 char and different from '\\s+' are interpreted as regex); you can avoid this warning by specifying engine='python'.\n",
      "  # Remove the CWD from sys.path while we load stuff.\n",
      "/storage/conda_envs/bert_test/lib/python3.6/site-packages/ipykernel_launcher.py:10: ParserWarning: Falling back to the 'python' engine because the 'c' engine does not support regex separators (separators > 1 char and different from '\\s+' are interpreted as regex); you can avoid this warning by specifying engine='python'.\n",
      "  # Remove the CWD from sys.path while we load stuff.\n",
      "/storage/conda_envs/bert_test/lib/python3.6/site-packages/ipykernel_launcher.py:10: ParserWarning: Falling back to the 'python' engine because the 'c' engine does not support regex separators (separators > 1 char and different from '\\s+' are interpreted as regex); you can avoid this warning by specifying engine='python'.\n",
      "  # Remove the CWD from sys.path while we load stuff.\n",
      "/storage/conda_envs/bert_test/lib/python3.6/site-packages/ipykernel_launcher.py:10: ParserWarning: Falling back to the 'python' engine because the 'c' engine does not support regex separators (separators > 1 char and different from '\\s+' are interpreted as regex); you can avoid this warning by specifying engine='python'.\n",
      "  # Remove the CWD from sys.path while we load stuff.\n",
      "/storage/conda_envs/bert_test/lib/python3.6/site-packages/ipykernel_launcher.py:10: ParserWarning: Falling back to the 'python' engine because the 'c' engine does not support regex separators (separators > 1 char and different from '\\s+' are interpreted as regex); you can avoid this warning by specifying engine='python'.\n",
      "  # Remove the CWD from sys.path while we load stuff.\n",
      "/storage/conda_envs/bert_test/lib/python3.6/site-packages/ipykernel_launcher.py:10: ParserWarning: Falling back to the 'python' engine because the 'c' engine does not support regex separators (separators > 1 char and different from '\\s+' are interpreted as regex); you can avoid this warning by specifying engine='python'.\n",
      "  # Remove the CWD from sys.path while we load stuff.\n",
      "/storage/conda_envs/bert_test/lib/python3.6/site-packages/ipykernel_launcher.py:10: ParserWarning: Falling back to the 'python' engine because the 'c' engine does not support regex separators (separators > 1 char and different from '\\s+' are interpreted as regex); you can avoid this warning by specifying engine='python'.\n",
      "  # Remove the CWD from sys.path while we load stuff.\n",
      "/storage/conda_envs/bert_test/lib/python3.6/site-packages/ipykernel_launcher.py:10: ParserWarning: Falling back to the 'python' engine because the 'c' engine does not support regex separators (separators > 1 char and different from '\\s+' are interpreted as regex); you can avoid this warning by specifying engine='python'.\n",
      "  # Remove the CWD from sys.path while we load stuff.\n",
      "/storage/conda_envs/bert_test/lib/python3.6/site-packages/ipykernel_launcher.py:10: ParserWarning: Falling back to the 'python' engine because the 'c' engine does not support regex separators (separators > 1 char and different from '\\s+' are interpreted as regex); you can avoid this warning by specifying engine='python'.\n",
      "  # Remove the CWD from sys.path while we load stuff.\n",
      "/storage/conda_envs/bert_test/lib/python3.6/site-packages/ipykernel_launcher.py:10: ParserWarning: Falling back to the 'python' engine because the 'c' engine does not support regex separators (separators > 1 char and different from '\\s+' are interpreted as regex); you can avoid this warning by specifying engine='python'.\n",
      "  # Remove the CWD from sys.path while we load stuff.\n",
      "/storage/conda_envs/bert_test/lib/python3.6/site-packages/ipykernel_launcher.py:10: ParserWarning: Falling back to the 'python' engine because the 'c' engine does not support regex separators (separators > 1 char and different from '\\s+' are interpreted as regex); you can avoid this warning by specifying engine='python'.\n",
      "  # Remove the CWD from sys.path while we load stuff.\n",
      "/storage/conda_envs/bert_test/lib/python3.6/site-packages/ipykernel_launcher.py:10: ParserWarning: Falling back to the 'python' engine because the 'c' engine does not support regex separators (separators > 1 char and different from '\\s+' are interpreted as regex); you can avoid this warning by specifying engine='python'.\n",
      "  # Remove the CWD from sys.path while we load stuff.\n",
      "/storage/conda_envs/bert_test/lib/python3.6/site-packages/ipykernel_launcher.py:10: ParserWarning: Falling back to the 'python' engine because the 'c' engine does not support regex separators (separators > 1 char and different from '\\s+' are interpreted as regex); you can avoid this warning by specifying engine='python'.\n",
      "  # Remove the CWD from sys.path while we load stuff.\n",
      "/storage/conda_envs/bert_test/lib/python3.6/site-packages/ipykernel_launcher.py:10: ParserWarning: Falling back to the 'python' engine because the 'c' engine does not support regex separators (separators > 1 char and different from '\\s+' are interpreted as regex); you can avoid this warning by specifying engine='python'.\n",
      "  # Remove the CWD from sys.path while we load stuff.\n",
      "/storage/conda_envs/bert_test/lib/python3.6/site-packages/ipykernel_launcher.py:10: ParserWarning: Falling back to the 'python' engine because the 'c' engine does not support regex separators (separators > 1 char and different from '\\s+' are interpreted as regex); you can avoid this warning by specifying engine='python'.\n",
      "  # Remove the CWD from sys.path while we load stuff.\n",
      "/storage/conda_envs/bert_test/lib/python3.6/site-packages/ipykernel_launcher.py:10: ParserWarning: Falling back to the 'python' engine because the 'c' engine does not support regex separators (separators > 1 char and different from '\\s+' are interpreted as regex); you can avoid this warning by specifying engine='python'.\n",
      "  # Remove the CWD from sys.path while we load stuff.\n",
      "/storage/conda_envs/bert_test/lib/python3.6/site-packages/ipykernel_launcher.py:10: ParserWarning: Falling back to the 'python' engine because the 'c' engine does not support regex separators (separators > 1 char and different from '\\s+' are interpreted as regex); you can avoid this warning by specifying engine='python'.\n",
      "  # Remove the CWD from sys.path while we load stuff.\n",
      "/storage/conda_envs/bert_test/lib/python3.6/site-packages/ipykernel_launcher.py:10: ParserWarning: Falling back to the 'python' engine because the 'c' engine does not support regex separators (separators > 1 char and different from '\\s+' are interpreted as regex); you can avoid this warning by specifying engine='python'.\n",
      "  # Remove the CWD from sys.path while we load stuff.\n",
      "/storage/conda_envs/bert_test/lib/python3.6/site-packages/ipykernel_launcher.py:10: ParserWarning: Falling back to the 'python' engine because the 'c' engine does not support regex separators (separators > 1 char and different from '\\s+' are interpreted as regex); you can avoid this warning by specifying engine='python'.\n",
      "  # Remove the CWD from sys.path while we load stuff.\n",
      "/storage/conda_envs/bert_test/lib/python3.6/site-packages/ipykernel_launcher.py:10: ParserWarning: Falling back to the 'python' engine because the 'c' engine does not support regex separators (separators > 1 char and different from '\\s+' are interpreted as regex); you can avoid this warning by specifying engine='python'.\n",
      "  # Remove the CWD from sys.path while we load stuff.\n",
      "/storage/conda_envs/bert_test/lib/python3.6/site-packages/ipykernel_launcher.py:10: ParserWarning: Falling back to the 'python' engine because the 'c' engine does not support regex separators (separators > 1 char and different from '\\s+' are interpreted as regex); you can avoid this warning by specifying engine='python'.\n",
      "  # Remove the CWD from sys.path while we load stuff.\n",
      "/storage/conda_envs/bert_test/lib/python3.6/site-packages/ipykernel_launcher.py:10: ParserWarning: Falling back to the 'python' engine because the 'c' engine does not support regex separators (separators > 1 char and different from '\\s+' are interpreted as regex); you can avoid this warning by specifying engine='python'.\n",
      "  # Remove the CWD from sys.path while we load stuff.\n",
      "/storage/conda_envs/bert_test/lib/python3.6/site-packages/ipykernel_launcher.py:10: ParserWarning: Falling back to the 'python' engine because the 'c' engine does not support regex separators (separators > 1 char and different from '\\s+' are interpreted as regex); you can avoid this warning by specifying engine='python'.\n",
      "  # Remove the CWD from sys.path while we load stuff.\n",
      "/storage/conda_envs/bert_test/lib/python3.6/site-packages/ipykernel_launcher.py:10: ParserWarning: Falling back to the 'python' engine because the 'c' engine does not support regex separators (separators > 1 char and different from '\\s+' are interpreted as regex); you can avoid this warning by specifying engine='python'.\n",
      "  # Remove the CWD from sys.path while we load stuff.\n",
      "/storage/conda_envs/bert_test/lib/python3.6/site-packages/ipykernel_launcher.py:10: ParserWarning: Falling back to the 'python' engine because the 'c' engine does not support regex separators (separators > 1 char and different from '\\s+' are interpreted as regex); you can avoid this warning by specifying engine='python'.\n",
      "  # Remove the CWD from sys.path while we load stuff.\n",
      "/storage/conda_envs/bert_test/lib/python3.6/site-packages/ipykernel_launcher.py:10: ParserWarning: Falling back to the 'python' engine because the 'c' engine does not support regex separators (separators > 1 char and different from '\\s+' are interpreted as regex); you can avoid this warning by specifying engine='python'.\n",
      "  # Remove the CWD from sys.path while we load stuff.\n"
     ]
    }
   ],
   "source": [
    "epoch_dfs = []\n",
    "for epoch in range(27):\n",
    "    cur_path = path + str(epoch)\n",
    "    dfs = []\n",
    "    # iterate over different workers for same epoch\n",
    "    for j in range(7):\n",
    "        if not os.path.isfile(f'{cur_path}/w{j}.txt'):\n",
    "            print(f'no worker {j}')\n",
    "        else:\n",
    "            dfs.append(pd.read_csv(f'{cur_path}/w{j}.txt', header=None, sep=\"##g##\", engine='python'))\n",
    "    \n",
    "    # concatenate different workers\n",
    "    df = pd.concat(dfs)\n",
    "    df.columns = ['orig_sent', 'episode', 'score', 'sent']\n",
    "    df = df.sort_values('episode')\n",
    "    df = df.reset_index(drop=True)\n",
    "    df['epoch'] = epoch\n",
    "    # add specific epoch to list\n",
    "    epoch_dfs.append(df)\n",
    "\n",
    "# concatenate all epochs\n",
    "df_test = pd.concat(epoch_dfs)\n",
    "df_test = df_test.reset_index(drop=True)"
   ]
  },
  {
   "cell_type": "markdown",
   "metadata": {},
   "source": [
    "### plots"
   ]
  },
  {
   "cell_type": "code",
   "execution_count": 6,
   "metadata": {},
   "outputs": [
    {
     "data": {
      "text/plain": [
       "[<matplotlib.lines.Line2D at 0x7fc0c39c1dd0>]"
      ]
     },
     "execution_count": 6,
     "metadata": {},
     "output_type": "execute_result"
    },
    {
     "data": {
      "image/png": "[encoded data removed]",
      "text/plain": [
       "<Figure size 432x288 with 1 Axes>"
      ]
     },
     "metadata": {
      "needs_background": "light"
     },
     "output_type": "display_data"
    }
   ],
   "source": [
    "N = 100\n",
    "plt.plot(df_train.score)\n",
    "plt.plot(np.convolve(df_train.score, np.ones((N,))/N, mode='valid'))"
   ]
  },
  {
   "cell_type": "code",
   "execution_count": 7,
   "metadata": {},
   "outputs": [
    {
     "data": {
      "text/plain": [
       "10"
      ]
     },
     "execution_count": 7,
     "metadata": {},
     "output_type": "execute_result"
    }
   ],
   "source": [
    "(df_train.groupby('orig_sent').score.max()> 70).sum()"
   ]
  },
  {
   "cell_type": "code",
   "execution_count": 10,
   "metadata": {
    "scrolled": true
   },
   "outputs": [
    {
     "data": {
      "image/png": "[encoded data removed]",
      "text/plain": [
       "<Figure size 432x288 with 1 Axes>"
      ]
     },
     "metadata": {
      "needs_background": "light"
     },
     "output_type": "display_data"
    },
    {
     "data": {
      "image/png": "[encoded data removed]",
      "text/plain": [
       "<Figure size 432x288 with 1 Axes>"
      ]
     },
     "metadata": {
      "needs_background": "light"
     },
     "output_type": "display_data"
    },
    {
     "data": {
      "image/png": "[encoded data removed]",
      "text/plain": [
       "<Figure size 432x288 with 1 Axes>"
      ]
     },
     "metadata": {
      "needs_background": "light"
     },
     "output_type": "display_data"
    },
    {
     "data": {
      "image/png": "[encoded data removed]",
      "text/plain": [
       "<Figure size 432x288 with 1 Axes>"
      ]
     },
     "metadata": {
      "needs_background": "light"
     },
     "output_type": "display_data"
    },
    {
     "data": {
      "image/png": "[encoded data removed]",
      "text/plain": [
       "<Figure size 432x288 with 1 Axes>"
      ]
     },
     "metadata": {
      "needs_background": "light"
     },
     "output_type": "display_data"
    },
    {
     "data": {
      "image/png": "[encoded data removed]",
      "text/plain": [
       "<Figure size 432x288 with 1 Axes>"
      ]
     },
     "metadata": {
      "needs_background": "light"
     },
     "output_type": "display_data"
    },
    {
     "data": {
      "image/png": "[encoded data removed]",
      "text/plain": [
       "<Figure size 432x288 with 1 Axes>"
      ]
     },
     "metadata": {
      "needs_background": "light"
     },
     "output_type": "display_data"
    },
    {
     "data": {
      "image/png": "[encoded data removed]",
      "text/plain": [
       "<Figure size 432x288 with 1 Axes>"
      ]
     },
     "metadata": {
      "needs_background": "light"
     },
     "output_type": "display_data"
    },
    {
     "data": {
      "image/png": "[encoded data removed]",
      "text/plain": [
       "<Figure size 432x288 with 1 Axes>"
      ]
     },
     "metadata": {
      "needs_background": "light"
     },
     "output_type": "display_data"
    },
    {
     "data": {
      "image/png": "[encoded data removed]",
      "text/plain": [
       "<Figure size 432x288 with 1 Axes>"
      ]
     },
     "metadata": {
      "needs_background": "light"
     },
     "output_type": "display_data"
    }
   ],
   "source": [
    "N = 100\n",
    "result_groups = {'easy': 0, 'converged': 0, 'success': 0, 'unsuccess': 0}\n",
    "mean_reward_lunatc = np.zeros(1000-N)\n",
    "df = df_train\n",
    "\n",
    "for orig in df.orig_sent.unique():\n",
    "    plt.scatter(range(len(df[df.orig_sent == orig])), df[df.orig_sent == orig].score)\n",
    "    smooth_r = np.convolve(df[df.orig_sent == orig].score, np.ones((N,))/N, mode='valid')\n",
    "    plt.plot(smooth_r, 'r')\n",
    "    result_groups[find_train_group(df[df.orig_sent == orig].score, N)] += 1  # update which group it is\n",
    "    mean_reward_lunatc[-len(smooth_r[:1000-N]):] += smooth_r[:1000-N]  # aggregate all smoothed rewards for mean\n",
    "    plt.title(orig)\n",
    "    plt.show()\n",
    "\n",
    "mean_reward_lunatc /= df.orig_sent.nunique()"
   ]
  },
  {
   "cell_type": "code",
   "execution_count": 24,
   "metadata": {},
   "outputs": [
    {
     "data": {
      "text/plain": [
       "923"
      ]
     },
     "execution_count": 24,
     "metadata": {},
     "output_type": "execute_result"
    }
   ],
   "source": [
    "df_train.groupby('orig_sent').apply(len).values.min()"
   ]
  },
  {
   "cell_type": "markdown",
   "metadata": {},
   "source": [
    "#### plot universal vs. individual smoothed reward plot"
   ]
  },
  {
   "cell_type": "code",
   "execution_count": 35,
   "metadata": {},
   "outputs": [
    {
     "data": {
      "image/png": "[encoded data removed]",
      "text/plain": [
       "<Figure size 720x360 with 1 Axes>"
      ]
     },
     "metadata": {
      "needs_background": "light"
     },
     "output_type": "display_data"
    }
   ],
   "source": [
    "plt.figure(figsize=(10,5))\n",
    "plt.plot(mean_reward_lunatc[77:], label=\"LUNATC\")  # We clip the beginning as it is zero filled by defualt for text which have less than 1000 rounds\n",
    "plt.plot(mean_train_reward, label=\"LUNATC-indi\")\n",
    "plt.xlabel('round number (n indicates the mean of rounds n to n+100)')\n",
    "plt.ylabel('mean of the smoothed training reward')\n",
    "plt.legend()\n",
    "plt.title('Mean of a smoothed training reward for all attacked texts - Toxic-Wikipedia TP')\n",
    "plt.savefig('Toxic-TP', dpi=300)\n",
    "plt.show()"
   ]
  },
  {
   "cell_type": "code",
   "execution_count": 272,
   "metadata": {},
   "outputs": [
    {
     "data": {
      "image/png": "[encoded data removed]",
      "text/plain": [
       "<Figure size 720x360 with 1 Axes>"
      ]
     },
     "metadata": {
      "needs_background": "light"
     },
     "output_type": "display_data"
    }
   ],
   "source": [
    "plt.figure(figsize=(10,5))\n",
    "plt.plot(mean_reward_lunatc[64:], label=\"LUNATC\")  # We clip the beginning as it is zero filled by defualt for text which have less than 1000 rounds\n",
    "plt.plot(mean_train_reward, label='individual')\n",
    "plt.xlabel('round number (n indicates the mean of rounds n to n+100)')\n",
    "plt.ylabel('mean of the smoothed training reward')\n",
    "plt.legend()\n",
    "plt.title('Mean of a smoothed training reward for all attacked texts - Toxic-Wikipedia TP')\n",
    "plt.savefig('Toxic-TP', dpi=300)\n",
    "plt.show()"
   ]
  },
  {
   "cell_type": "markdown",
   "metadata": {},
   "source": [
    "ablation study"
   ]
  },
  {
   "cell_type": "code",
   "execution_count": 252,
   "metadata": {},
   "outputs": [
    {
     "data": {
      "image/png": "[encoded data removed]",
      "text/plain": [
       "<Figure size 720x360 with 1 Axes>"
      ]
     },
     "metadata": {
      "needs_background": "light"
     },
     "output_type": "display_data"
    }
   ],
   "source": [
    "plt.figure(figsize=(10,5))\n",
    "plt.plot(mean_reward_lunatc[20:], label=\"ReLAX\")  # We clip the beginning as it is zero filled by defualt for text which have less than 1000 rounds\n",
    "plt.plot(mean_reward_no_norm[20:], label=\"No normalising\")  # We clip the beginning as it is zero filled by defualt for text which have less than 1000 rounds\n",
    "plt.plot(mean_reward_luni[20:], label=\"LUNATC\")\n",
    "plt.plot(mean_train_reward, label='individual')\n",
    "plt.xlabel('round number (n indicates the mean of rounds n to n+100)')\n",
    "plt.ylabel('mean of the smoothed training reward')\n",
    "plt.legend()\n",
    "plt.title('Mean of a smoothed training reward for all attacked texts - IMDB TP')\n",
    "plt.savefig('Ablation study', dpi=300)\n",
    "plt.show()"
   ]
  },
  {
   "cell_type": "markdown",
   "metadata": {
    "heading_collapsed": true
   },
   "source": [
    "## multi sentence training evaluation"
   ]
  },
  {
   "cell_type": "code",
   "execution_count": null,
   "metadata": {
    "hidden": true
   },
   "outputs": [],
   "source": [
    "base_path = 'data/aclImdb/imdb_a3c_results_20sents'\n",
    "path = base_path + '/train/0'"
   ]
  },
  {
   "cell_type": "code",
   "execution_count": null,
   "metadata": {
    "hidden": true
   },
   "outputs": [],
   "source": [
    "dfs = []\n",
    "for j in range(6):\n",
    "    if not os.path.isfile(f'{path}/w{j}.txt'):\n",
    "        print(f'no worker {j}')\n",
    "    else:\n",
    "        dfs.append(pd.read_csv(f'{path}/w{j}.txt', header=None, sep=\"##g##\"))"
   ]
  },
  {
   "cell_type": "code",
   "execution_count": null,
   "metadata": {
    "hidden": true
   },
   "outputs": [],
   "source": [
    "df = pd.concat(dfs)\n",
    "df.columns = ['orig_sent', 'episode', 'score', 'sent']\n",
    "df = df.sort_values('episode')\n",
    "df = df.reset_index(drop=True)"
   ]
  },
  {
   "cell_type": "code",
   "execution_count": null,
   "metadata": {
    "hidden": true
   },
   "outputs": [],
   "source": [
    "len(df)"
   ]
  },
  {
   "cell_type": "code",
   "execution_count": null,
   "metadata": {
    "hidden": true
   },
   "outputs": [],
   "source": [
    "df.orig_sent.value_counts()"
   ]
  },
  {
   "cell_type": "markdown",
   "metadata": {
    "hidden": true
   },
   "source": [
    "### try to evaluate if learning "
   ]
  },
  {
   "cell_type": "markdown",
   "metadata": {
    "hidden": true
   },
   "source": [
    "#### see general graph"
   ]
  },
  {
   "cell_type": "code",
   "execution_count": null,
   "metadata": {
    "hidden": true
   },
   "outputs": [],
   "source": [
    "N = 1000\n",
    "plt.scatter(df.episode, df.score)\n",
    "plt.plot(np.convolve(df.score, np.ones((N,))/N, mode='valid'), 'r')\n",
    "plt.show()"
   ]
  },
  {
   "cell_type": "markdown",
   "metadata": {
    "hidden": true
   },
   "source": [
    "#### see improvement of each sentence seperately "
   ]
  },
  {
   "cell_type": "code",
   "execution_count": null,
   "metadata": {
    "hidden": true
   },
   "outputs": [],
   "source": [
    "N = 50\n",
    "for orig in df.orig_sent.unique():\n",
    "    plt.scatter(df[df.orig_sent == orig].episode, df[df.orig_sent == orig].score)\n",
    "    plt.plot(df[df.orig_sent == orig].episode[:-N+1], np.convolve(df[df.orig_sent == orig].score, np.ones((N,))/N, mode='valid'), 'r')\n",
    "    plt.title(orig)\n",
    "    plt.show()"
   ]
  },
  {
   "cell_type": "markdown",
   "metadata": {
    "hidden": true
   },
   "source": [
    "#### generate paper graph"
   ]
  },
  {
   "cell_type": "code",
   "execution_count": null,
   "metadata": {
    "hidden": true
   },
   "outputs": [],
   "source": [
    "grouped = df.groupby('orig_sent').apply(lambda g: g.max().score > 70)\n",
    "df['keep'] = df.orig_sent.apply(lambda x: grouped.loc[x])"
   ]
  },
  {
   "cell_type": "code",
   "execution_count": null,
   "metadata": {
    "hidden": true
   },
   "outputs": [],
   "source": [
    "plt.figure(figsize=(8,2.5))\n",
    "N = 50\n",
    "lens = []\n",
    "for orig in df[df.keep].orig_sent.unique()[[0,2,3,4, 6]]:\n",
    "    plt.plot(df[df.orig_sent == orig].episode[:-N+1], np.convolve(df[df.orig_sent == orig].score, np.ones((N,))/N, mode='valid'), '--', alpha=0.5)\n",
    "    lens.append(df[df.orig_sent == orig].episode[:-N+1].max())\n",
    "\n",
    "N=300\n",
    "plt.plot(df[df.keep & (df.episode < np.max(lens))].episode[:-N+1], np.convolve(df[df.keep & (df.episode < np.max(lens))].score, np.ones((N,))/N, mode='valid'), 'r', label=\"all texts mean\")\n",
    "plt.xlabel('Number of rounds')\n",
    "plt.ylabel('Moving avrage of reward')\n",
    "# plt.title('Reward moving average for each sentence')\n",
    "plt.legend(loc=\"lower right\")\n",
    "\n",
    "# plt.show()\n",
    "plt.savefig('20_text_convergence-small.png', dpi=300, bbox_inches='tight')"
   ]
  },
  {
   "cell_type": "markdown",
   "metadata": {},
   "source": [
    "## multiple sentence evaluation"
   ]
  },
  {
   "cell_type": "markdown",
   "metadata": {
    "heading_collapsed": true
   },
   "source": [
    "### produce csvs"
   ]
  },
  {
   "cell_type": "code",
   "execution_count": 396,
   "metadata": {
    "hidden": true
   },
   "outputs": [],
   "source": [
    "base_path = 'data/spam/spam'\n",
    "data_path = base_path + '_random_results' # '_random_results'\n",
    "sample_path = base_path + '_sample.csv'\n",
    "out_path = data_path + '/results.csv'"
   ]
  },
  {
   "cell_type": "code",
   "execution_count": 397,
   "metadata": {
    "hidden": true,
    "scrolled": true
   },
   "outputs": [
    {
     "name": "stdout",
     "output_type": "stream",
     "text": [
      "no worker 4\n",
      "no worker 5\n",
      "no worker 4\n",
      "no worker 5\n",
      "no worker 4\n",
      "no worker 5\n",
      "no worker 4\n",
      "no worker 5\n",
      "no worker 4\n",
      "no worker 5\n",
      "no worker 4\n",
      "no worker 5\n",
      "no worker 4\n",
      "no worker 5\n",
      "no worker 4\n",
      "no worker 5\n",
      "no worker 4\n",
      "no worker 5\n",
      "no worker 4\n",
      "no worker 5\n",
      "no worker 4\n",
      "no worker 5\n",
      "no worker 4\n",
      "no worker 5\n",
      "no worker 4\n",
      "no worker 5\n",
      "no worker 4\n",
      "no worker 5\n",
      "no worker 4\n",
      "no worker 5\n",
      "no worker 4\n",
      "no worker 5\n",
      "no worker 4\n",
      "no worker 5\n",
      "no worker 4\n",
      "no worker 5\n",
      "no worker 4\n",
      "no worker 5\n",
      "no worker 4\n",
      "no worker 5\n",
      "no worker 4\n",
      "no worker 5\n",
      "no worker 4\n",
      "no worker 5\n",
      "no worker 4\n",
      "no worker 5\n",
      "no worker 4\n",
      "no worker 5\n",
      "no worker 4\n",
      "no worker 5\n",
      "no worker 4\n",
      "no worker 5\n",
      "no worker 4\n",
      "no worker 5\n",
      "no worker 4\n",
      "no worker 5\n",
      "no worker 4\n",
      "no worker 5\n",
      "no worker 4\n",
      "no worker 5\n",
      "no worker 4\n",
      "no worker 5\n",
      "no worker 4\n",
      "no worker 5\n",
      "no worker 4\n",
      "no worker 5\n",
      "no worker 4\n",
      "no worker 5\n",
      "no worker 4\n",
      "no worker 5\n",
      "no worker 4\n",
      "no worker 5\n",
      "no worker 4\n",
      "no worker 5\n",
      "no worker 4\n",
      "no worker 5\n",
      "no worker 4\n",
      "no worker 5\n",
      "no worker 4\n",
      "no worker 5\n",
      "no worker 4\n",
      "no worker 5\n",
      "no worker 4\n",
      "no worker 5\n",
      "no worker 4\n",
      "no worker 5\n",
      "no worker 4\n",
      "no worker 5\n",
      "no worker 4\n",
      "no worker 5\n",
      "no worker 4\n",
      "no worker 5\n",
      "no worker 4\n",
      "no worker 5\n",
      "no worker 4\n",
      "no worker 5\n",
      "no worker 4\n",
      "no worker 5\n",
      "no worker 4\n",
      "no worker 5\n",
      "no worker 4\n",
      "no worker 5\n",
      "no worker 4\n",
      "no worker 5\n",
      "no worker 4\n",
      "no worker 5\n",
      "no worker 4\n",
      "no worker 5\n",
      "no worker 4\n",
      "no worker 5\n",
      "no worker 4\n",
      "no worker 5\n",
      "no worker 4\n",
      "no worker 5\n",
      "no worker 4\n",
      "no worker 5\n",
      "no worker 4\n",
      "no worker 5\n",
      "no worker 4\n",
      "no worker 5\n",
      "no worker 4\n",
      "no worker 5\n",
      "no worker 4\n",
      "no worker 5\n",
      "no worker 4\n",
      "no worker 5\n",
      "no worker 4\n",
      "no worker 5\n",
      "no worker 4\n",
      "no worker 5\n",
      "no worker 4\n",
      "no worker 5\n",
      "no worker 4\n",
      "no worker 5\n",
      "no worker 4\n",
      "no worker 5\n",
      "no worker 4\n",
      "no worker 5\n",
      "no worker 4\n",
      "no worker 5\n",
      "no worker 4\n",
      "no worker 5\n",
      "no worker 4\n",
      "no worker 5\n",
      "no worker 4\n",
      "no worker 5\n",
      "no worker 4\n",
      "no worker 5\n",
      "no worker 4\n",
      "no worker 5\n",
      "no worker 4\n",
      "no worker 5\n",
      "no worker 4\n",
      "no worker 5\n",
      "no worker 4\n",
      "no worker 5\n",
      "no worker 4\n",
      "no worker 5\n",
      "no worker 4\n",
      "no worker 5\n",
      "no worker 4\n",
      "no worker 5\n",
      "no worker 4\n",
      "no worker 5\n",
      "no worker 4\n",
      "no worker 5\n",
      "no worker 4\n",
      "no worker 5\n",
      "no worker 4\n",
      "no worker 5\n",
      "no worker 4\n",
      "no worker 5\n",
      "no worker 4\n",
      "no worker 5\n",
      "no worker 4\n",
      "no worker 5\n",
      "no worker 4\n",
      "no worker 5\n",
      "no worker 4\n",
      "no worker 5\n",
      "no worker 4\n",
      "no worker 5\n",
      "no worker 4\n",
      "no worker 5\n",
      "no worker 4\n",
      "no worker 5\n",
      "no worker 4\n",
      "no worker 5\n",
      "no worker 4\n",
      "no worker 5\n",
      "no worker 4\n",
      "no worker 5\n",
      "no worker 4\n",
      "no worker 5\n",
      "no worker 4\n",
      "no worker 5\n",
      "no worker 4\n",
      "no worker 5\n",
      "no worker 4\n",
      "no worker 5\n",
      "no worker 4\n",
      "no worker 5\n",
      "no worker 4\n",
      "no worker 5\n",
      "no worker 4\n",
      "no worker 5\n",
      "no worker 4\n",
      "no worker 5\n",
      "no worker 4\n",
      "no worker 5\n",
      "no worker 4\n",
      "no worker 5\n",
      "no worker 4\n",
      "no worker 5\n",
      "no worker 4\n",
      "no worker 5\n",
      "no worker 4\n",
      "no worker 5\n",
      "no worker 4\n",
      "no worker 5\n",
      "no worker 4\n",
      "no worker 5\n",
      "no worker 4\n",
      "no worker 5\n",
      "no worker 4\n",
      "no worker 5\n",
      "no worker 4\n",
      "no worker 5\n",
      "no worker 4\n",
      "no worker 5\n",
      "no worker 4\n",
      "no worker 5\n",
      "no worker 4\n",
      "no worker 5\n",
      "no worker 4\n",
      "no worker 5\n",
      "no worker 4\n",
      "no worker 5\n",
      "no worker 4\n",
      "no worker 5\n",
      "no worker 4\n",
      "no worker 5\n",
      "no worker 4\n",
      "no worker 5\n",
      "no worker 4\n",
      "no worker 5\n",
      "no worker 4\n",
      "no worker 5\n",
      "no worker 4\n",
      "no worker 5\n",
      "no worker 4\n",
      "no worker 5\n",
      "no worker 4\n",
      "no worker 5\n",
      "no worker 4\n",
      "no worker 5\n",
      "no worker 4\n",
      "no worker 5\n",
      "no worker 4\n",
      "no worker 5\n",
      "no worker 4\n",
      "no worker 5\n",
      "no worker 4\n",
      "no worker 5\n",
      "no worker 4\n",
      "no worker 5\n",
      "no worker 4\n",
      "no worker 5\n",
      "no worker 4\n",
      "no worker 5\n",
      "no worker 4\n",
      "no worker 5\n",
      "no worker 4\n",
      "no worker 5\n",
      "no worker 4\n",
      "no worker 5\n",
      "no worker 4\n",
      "no worker 5\n",
      "no worker 4\n",
      "no worker 5\n",
      "no worker 4\n",
      "no worker 5\n",
      "no worker 4\n",
      "no worker 5\n",
      "no worker 4\n",
      "no worker 5\n",
      "no worker 4\n",
      "no worker 5\n",
      "no worker 4\n",
      "no worker 5\n",
      "no worker 4\n",
      "no worker 5\n",
      "no worker 4\n",
      "no worker 5\n",
      "no worker 4\n",
      "no worker 5\n",
      "no worker 4\n",
      "no worker 5\n",
      "no worker 4\n",
      "no worker 5\n",
      "no worker 4\n",
      "no worker 5\n",
      "no worker 4\n",
      "no worker 5\n",
      "no worker 4\n",
      "no worker 5\n",
      "no worker 4\n",
      "no worker 5\n",
      "no worker 4\n",
      "no worker 5\n",
      "no worker 4\n",
      "no worker 5\n",
      "no worker 4\n",
      "no worker 5\n",
      "no worker 4\n",
      "no worker 5\n",
      "no worker 4\n",
      "no worker 5\n",
      "no worker 4\n",
      "no worker 5\n",
      "no worker 4\n",
      "no worker 5\n"
     ]
    }
   ],
   "source": [
    "num_episodes = 1000\n",
    "num_examples = 500\n",
    "df_sample = pd.read_csv(sample_path)\n",
    "df_sample = df_sample.head(num_examples)\n",
    "\n",
    "max_scores = []\n",
    "epoch_found = []\n",
    "best_sent = []\n",
    "\n",
    "\n",
    "for sent_num in range(num_examples):\n",
    "\n",
    "    sent_path = data_path + '/' + str(sent_num)\n",
    "    \n",
    "    dfs = []\n",
    "    for j in range(6):\n",
    "        if not os.path.isfile(f'{sent_path}/w{j}.txt'):\n",
    "            print(f'no worker {j}')\n",
    "        else:\n",
    "            dfs.append(pd.read_csv(f'{sent_path}/w{j}.txt', header=None, sep=\"##g##\", engine='python'))\n",
    "\n",
    "    df = pd.concat(dfs)\n",
    "    df.columns = ['orig_sent', 'episode', 'score', 'sent']\n",
    "    df = df.sort_values('episode')\n",
    "    df = df.reset_index(drop=True)\n",
    "    df = df.head(num_episodes)\n",
    "    \n",
    "    epoch_found.append(df.iloc[df.score.idxmax()].episode)\n",
    "    max_scores.append(df.iloc[df.score.idxmax()].score)\n",
    "    best_sent.append(df.iloc[df.score.idxmax()].sent)\n",
    "    \n",
    "df_sample[\"max_scores\"] = max_scores\n",
    "df_sample[\"epoch_found\"] = epoch_found\n",
    "df_sample[\"best_sent\"] = best_sent\n",
    "df_sample[\"orig_sent_len\"] = df_sample.content.apply(lambda x: len(x.split()))\n",
    "df_sample[\"words_changed\"] = df_sample.apply(lambda x: (np.array(x.content.split())!=np.array(x.best_sent.split())).sum(), axis=1)\n",
    "\n",
    "df_sample.to_csv(out_path, index=False)"
   ]
  },
  {
   "cell_type": "markdown",
   "metadata": {
    "heading_collapsed": true
   },
   "source": [
    "### produce first success epoch csv"
   ]
  },
  {
   "cell_type": "code",
   "execution_count": 701,
   "metadata": {
    "hidden": true
   },
   "outputs": [],
   "source": [
    "base_path = 'data/toxic/toxic'\n",
    "data_path = base_path + '_random_results' # '_random_results'\n",
    "sample_path = base_path + '_sample.csv'\n",
    "out_path = data_path + '/first_success.csv'"
   ]
  },
  {
   "cell_type": "code",
   "execution_count": 702,
   "metadata": {
    "hidden": true,
    "scrolled": true
   },
   "outputs": [
    {
     "name": "stdout",
     "output_type": "stream",
     "text": [
      "no worker 5\n",
      "no worker 5\n",
      "no worker 5\n",
      "no worker 5\n",
      "no worker 5\n",
      "no worker 4\n",
      "no worker 5\n",
      "no worker 5\n",
      "no worker 5\n",
      "no worker 4\n",
      "no worker 5\n"
     ]
    }
   ],
   "source": [
    "num_episodes = 5000\n",
    "num_examples = 500\n",
    "df_sample = pd.read_csv(sample_path)\n",
    "df_sample = df_sample.head(num_examples)\n",
    "\n",
    "max_scores = []\n",
    "epoch_found = []\n",
    "best_sent = []\n",
    "\n",
    "\n",
    "for sent_num in range(num_examples):\n",
    "\n",
    "    sent_path = data_path + '/' + str(sent_num)\n",
    "    \n",
    "    dfs = []\n",
    "    for j in range(6):\n",
    "        if not os.path.isfile(f'{sent_path}/w{j}.txt'):\n",
    "            print(f'no worker {j}')\n",
    "        else:\n",
    "            dfs.append(pd.read_csv(f'{sent_path}/w{j}.txt', header=None, sep=\"##g##\", engine='python'))\n",
    "\n",
    "    df = pd.concat(dfs)\n",
    "    df.columns = ['episode', 'score', 'sent']\n",
    "    df = df.sort_values('episode')\n",
    "    df = df.reset_index(drop=True)\n",
    "    df = df.head(num_episodes)\n",
    "    \n",
    "    epoch_found.append(df.iloc[(df.score > 70).idxmax()].episode)\n",
    "    max_scores.append(df.iloc[(df.score > 70).idxmax()].score)\n",
    "    best_sent.append(df.iloc[(df.score > 70).idxmax()].sent)\n",
    "    \n",
    "df_sample[\"max_scores\"] = max_scores\n",
    "df_sample[\"epoch_found\"] = epoch_found\n",
    "df_sample[\"best_sent\"] = best_sent\n",
    "df_sample[\"orig_sent_len\"] = df_sample.content.apply(lambda x: len(x.split()))\n",
    "df_sample[\"words_changed\"] = df_sample.apply(lambda x: (np.array(x.content.split())!=np.array(x.best_sent.split())).sum(), axis=1)\n",
    "\n",
    "df_sample.to_csv(out_path, index=False)"
   ]
  },
  {
   "cell_type": "markdown",
   "metadata": {
    "heading_collapsed": true
   },
   "source": [
    "### produce last success epoch csv"
   ]
  },
  {
   "cell_type": "code",
   "execution_count": 1,
   "metadata": {
    "hidden": true
   },
   "outputs": [],
   "source": [
    "base_path = 'data/aclImdb/imdb'\n",
    "data_path = base_path + '_a3c_results_indi_syn' # '_random_results'\n",
    "sample_path = base_path + '_sample.csv'\n",
    "out_path = data_path + '/last_success.csv'"
   ]
  },
  {
   "cell_type": "code",
   "execution_count": null,
   "metadata": {
    "hidden": true
   },
   "outputs": [],
   "source": [
    "num_episodes = 1000\n",
    "num_examples = 500\n",
    "df_sample = pd.read_csv(sample_path)\n",
    "df_sample = df_sample.head(num_examples)\n",
    "\n",
    "max_scores = []\n",
    "epoch_found = []\n",
    "best_sent = []\n",
    "\n",
    "\n",
    "for sent_num in range(num_examples):\n",
    "\n",
    "    sent_path = data_path + '/' + str(sent_num)\n",
    "    \n",
    "    dfs = []\n",
    "    for j in range(6):\n",
    "        if not os.path.isfile(f'{sent_path}/w{j}.txt'):\n",
    "            print(f'no worker {j}')\n",
    "        else:\n",
    "            dfs.append(pd.read_csv(f'{sent_path}/w{j}.txt', header=None, sep=\"##g##\", engine='python'))\n",
    "\n",
    "    df = pd.concat(dfs)\n",
    "    df.columns = ['orig_sent', 'episode', 'score', 'sent']\n",
    "    df = df.sort_values('episode')\n",
    "    df = df.reset_index(drop=True)\n",
    "    df = df.head(num_episodes)\n",
    "    \n",
    "    if (df.score > 70).any():\n",
    "        final_ind = df[(df.score > 70)].episode.idxmax()\n",
    "        epoch_found.append(df.iloc[final_ind].episode)\n",
    "        max_scores.append(df.iloc[final_ind].score)\n",
    "        best_sent.append(df.iloc[final_ind].sent)\n",
    "    else:\n",
    "        final_episode = 0\n",
    "        epoch_found.append(final_episode)\n",
    "        max_scores.append(-1)\n",
    "        best_sent.append(\"\")\n",
    "    \n",
    "df_sample[\"max_scores\"] = max_scores\n",
    "df_sample[\"epoch_found\"] = epoch_found\n",
    "df_sample[\"best_sent\"] = best_sent\n",
    "df_sample[\"orig_sent_len\"] = df_sample.content.apply(lambda x: len(x.split()))\n",
    "# df_sample[\"words_changed\"] = df_sample.apply(lambda x: (np.array(x.content.split())!=np.array(x.best_sent.split())).sum(), axis=1)\n",
    "\n",
    "df_sample.to_csv(out_path, index=False)"
   ]
  },
  {
   "cell_type": "markdown",
   "metadata": {
    "heading_collapsed": true
   },
   "source": [
    "### calculate oracle usage"
   ]
  },
  {
   "cell_type": "code",
   "execution_count": null,
   "metadata": {
    "hidden": true
   },
   "outputs": [],
   "source": [
    "base_path = '../text-xai/data/clickbait/clickbait'\n",
    "data_path = base_path + '_a3c_results' # '_random_results'"
   ]
  },
  {
   "cell_type": "code",
   "execution_count": null,
   "metadata": {
    "hidden": true
   },
   "outputs": [],
   "source": [
    "num_episodes = 5000\n",
    "num_examples = 500\n",
    "bad_oracle_usage = []\n",
    "good_oracle_usage = []\n",
    "\n",
    "for sent_num in range(num_examples):\n",
    "\n",
    "    sent_path = data_path + '/' + str(sent_num)\n",
    "   \n",
    "    dfs = []\n",
    "    states = set()\n",
    "    for j in range(6):\n",
    "        if not os.path.isfile(f'{sent_path}/w{j}.txt'):\n",
    "            print(f'no worker {j}')\n",
    "        else:\n",
    "            dfs.append(pd.read_csv(f'{sent_path}/w{j}.txt', header=None, sep=\"##g##\", engine='python'))\n",
    "       \n",
    "        if not os.path.isfile(f'{sent_path}/w{j}_states.txt'):\n",
    "            print(f'no worker {j}')\n",
    "        else:\n",
    "            with open(f'{sent_path}/w{j}_states.txt', 'rb') as f:\n",
    "                content = f.readlines()\n",
    "            states = (states | (set([x.rstrip() for x in content])))\n",
    "    df = pd.concat(dfs)\n",
    "    df.columns = ['orig_sent', 'episode', 'score', 'sent']\n",
    "    if len(df) >= 1000:\n",
    "        bad_oracle_usage.append(len(states))\n",
    "    else:\n",
    "        good_oracle_usage.append(len(states))"
   ]
  },
  {
   "cell_type": "code",
   "execution_count": null,
   "metadata": {
    "hidden": true
   },
   "outputs": [],
   "source": [
    "len(good_oracle_usage), len(bad_oracle_usage)"
   ]
  },
  {
   "cell_type": "code",
   "execution_count": null,
   "metadata": {
    "hidden": true
   },
   "outputs": [],
   "source": [
    "np.median(good_oracle_usage), np.median(bad_oracle_usage)"
   ]
  },
  {
   "cell_type": "markdown",
   "metadata": {},
   "source": [
    "### analyse CSVs"
   ]
  },
  {
   "cell_type": "markdown",
   "metadata": {
    "heading_collapsed": true
   },
   "source": [
    "#### similarity calulation utility"
   ]
  },
  {
   "cell_type": "code",
   "execution_count": null,
   "metadata": {
    "hidden": true
   },
   "outputs": [],
   "source": [
    "# calculate success\n",
    "import tensorflow as tf\n",
    "import tensorflow_hub as hub\n",
    "\n",
    "embed = hub.Module(\"resources/tf_hub_modules/USE\")\n",
    "\n",
    "# sentence similarity - placed globally to avoid leakage\n",
    "similarity_input_placeholder = tf.placeholder(tf.string, shape=(None))\n",
    "similarity_message_encodings = embed(similarity_input_placeholder)\n",
    "\n",
    "def get_similarity(messages, sess):\n",
    "    \"\"\" calculates the similarity between the first message and the others using Universal Sentence encoder\"\"\"\n",
    "    message_embeddings = sess.run(similarity_message_encodings, feed_dict={similarity_input_placeholder: messages})\n",
    "    corr = np.inner(message_embeddings[0], message_embeddings[1:])\n",
    "    return corr"
   ]
  },
  {
   "cell_type": "code",
   "execution_count": null,
   "metadata": {
    "hidden": true
   },
   "outputs": [],
   "source": [
    "sess = tf.Session()\n",
    "sess.run([tf.global_variables_initializer(), tf.tables_initializer()])"
   ]
  },
  {
   "cell_type": "markdown",
   "metadata": {
    "heading_collapsed": true
   },
   "source": [
    "#### load dataset CSVs"
   ]
  },
  {
   "cell_type": "code",
   "execution_count": null,
   "metadata": {
    "hidden": true
   },
   "outputs": [],
   "source": [
    "csv_paths = ['aclImdb/imdb', 'spam/spam', 'clickbait/clickbait', 'toxic/toxic']\n",
    "csv_paths = ['clickbait/clickbait']\n",
    "# load dataframes\n",
    "df_list = [pd.read_csv('../text-xai4/data/' + dataset + '_a3c_results_indi_synmis/results.csv') for dataset in csv_paths]\n",
    "random_df_list = [pd.read_csv('../text-xai4/data/' + dataset + '_random_results_indi_synmis/results.csv') for dataset in csv_paths]\n",
    "\n",
    "# calculate similarity\n",
    "for df in df_list:\n",
    "    df.best_sent = df.best_sent.fillna('') # fill nan - for when agent deleted all words in string\n",
    "    df[\"similarity\"] = df.apply(lambda x: get_similarity([x.content, x.best_sent], sess)[0], axis=1)\n",
    "    \n",
    "for df in random_df_list:\n",
    "    df.best_sent = df.best_sent.fillna('')  # fill nan - for when agent deleted all words in string\n",
    "    df[\"similarity\"] = df.apply(lambda x: get_similarity([x.content, x.best_sent], sess)[0], axis=1)\n",
    "\n",
    "# calculate masks\n",
    "mask_list = [(df.max_scores>70) & (df.similarity > 0.7) for df in df_list]\n",
    "random_mask_list = [(df.max_scores>70) & (df.similarity > 0.7) for df in random_df_list] \n",
    "\n",
    "mask_list = [(df.max_scores>70) for df in df_list]\n",
    "random_mask_list = [(df.max_scores>70) for df in random_df_list] "
   ]
  },
  {
   "cell_type": "markdown",
   "metadata": {
    "heading_collapsed": true
   },
   "source": [
    "#### Textfooler"
   ]
  },
  {
   "cell_type": "code",
   "execution_count": null,
   "metadata": {
    "hidden": true
   },
   "outputs": [],
   "source": [
    "df_mits = [pd.read_csv('data/' + dataset + '_mit.csv').head(500) for dataset in csv_paths]\n",
    "# calculate words changed\n",
    "for j in range(len(csv_paths)):\n",
    "    df_mits[j][\"words_changed\"] = df_mits[j].apply(lambda x: (np.array(x.content.split())!=np.array(x.best_sent.split())).sum(), axis=1)\n",
    "#     df_mits[j][\"max_actions\"] = df_mits[j].content.apply(number_of_actions)\n",
    "#     df_mits[j][\"oracle_usage\"] = df_mits[j][\"max_actions\"] + df_mits[j][\"words_changed\"]\n",
    "    \n",
    "masks_mit = [df.max_score > .7 for df in df_mits]"
   ]
  },
  {
   "cell_type": "markdown",
   "metadata": {
    "heading_collapsed": true
   },
   "source": [
    "#### PWWS"
   ]
  },
  {
   "cell_type": "code",
   "execution_count": null,
   "metadata": {
    "hidden": true
   },
   "outputs": [],
   "source": [
    "df_pwws = [pd.read_csv('data/' + dataset + '_pwws.csv').head(500) for dataset in csv_paths]\n",
    "# calculate words changed\n",
    "# for j in range(len(csv_paths)):\n",
    "#     df_pwws[j][\"words_changed\"] = df_pwws[j].apply(lambda x: (np.array(x.content.split())!=np.array(x.best_sent.split())).sum(), axis=1)\n",
    "#     df_pwws[j][\"max_actions\"] = df_pwws[j].content.apply(number_of_actions)\n",
    "#     df_pwws[j][\"oracle_usage\"] = df_pwws[j][\"max_actions\"] + df_pwws[j][\"words_changed\"]\n",
    "    \n",
    "masks_pwws = [df.max_score > .7 for df in df_pwws]"
   ]
  },
  {
   "cell_type": "markdown",
   "metadata": {
    "heading_collapsed": true
   },
   "source": [
    "#### calculate mean USE similarities for each approach on succesful"
   ]
  },
  {
   "cell_type": "code",
   "execution_count": null,
   "metadata": {
    "hidden": true
   },
   "outputs": [],
   "source": [
    "for i in range(len(csv_paths)):\n",
    "    mask = mask_list[i] & random_mask_list[i] & masks_mit[i] & masks_pwws[i]\n",
    "    print(csv_paths[i], df_list[i][mask].similarity.mean(), random_df_list[i][mask].similarity.mean(), df_mits[i][mask].max_score.mean(), df_pwws[i][mask].max_score.mean())"
   ]
  },
  {
   "cell_type": "markdown",
   "metadata": {
    "heading_collapsed": true
   },
   "source": [
    "#### plot success rate as function of available words"
   ]
  },
  {
   "cell_type": "code",
   "execution_count": 448,
   "metadata": {
    "hidden": true
   },
   "outputs": [
    {
     "name": "stderr",
     "output_type": "stream",
     "text": [
      "/storage/conda_envs/bert_test/lib/python3.6/site-packages/smart_open/smart_open_lib.py:398: UserWarning: This function is deprecated, use smart_open.open instead. See the migration notes for details: https://github.com/RaRe-Technologies/smart_open/blob/master/README.rst#migrating-to-the-new-open-function\n",
      "  'See the migration notes for details: %s' % _MIGRATION_NOTES_URL\n"
     ]
    }
   ],
   "source": [
    "from gensim.models import KeyedVectors\n",
    "from nltk.corpus import stopwords\n",
    "STOPWORDS = stopwords.words('english')\n",
    "word_vectors = KeyedVectors.load_word2vec_format(\"resources/word_vectors/counter-fitted-vectors_formatted.txt\", binary=False)"
   ]
  },
  {
   "cell_type": "code",
   "execution_count": 742,
   "metadata": {
    "collapsed": true,
    "hidden": true
   },
   "outputs": [
    {
     "data": {
      "text/plain": [
       "['i',\n",
       " 'me',\n",
       " 'my',\n",
       " 'myself',\n",
       " 'we',\n",
       " 'our',\n",
       " 'ours',\n",
       " 'ourselves',\n",
       " 'you',\n",
       " \"you're\",\n",
       " \"you've\",\n",
       " \"you'll\",\n",
       " \"you'd\",\n",
       " 'your',\n",
       " 'yours',\n",
       " 'yourself',\n",
       " 'yourselves',\n",
       " 'he',\n",
       " 'him',\n",
       " 'his',\n",
       " 'himself',\n",
       " 'she',\n",
       " \"she's\",\n",
       " 'her',\n",
       " 'hers',\n",
       " 'herself',\n",
       " 'it',\n",
       " \"it's\",\n",
       " 'its',\n",
       " 'itself',\n",
       " 'they',\n",
       " 'them',\n",
       " 'their',\n",
       " 'theirs',\n",
       " 'themselves',\n",
       " 'what',\n",
       " 'which',\n",
       " 'who',\n",
       " 'whom',\n",
       " 'this',\n",
       " 'that',\n",
       " \"that'll\",\n",
       " 'these',\n",
       " 'those',\n",
       " 'am',\n",
       " 'is',\n",
       " 'are',\n",
       " 'was',\n",
       " 'were',\n",
       " 'be',\n",
       " 'been',\n",
       " 'being',\n",
       " 'have',\n",
       " 'has',\n",
       " 'had',\n",
       " 'having',\n",
       " 'do',\n",
       " 'does',\n",
       " 'did',\n",
       " 'doing',\n",
       " 'a',\n",
       " 'an',\n",
       " 'the',\n",
       " 'and',\n",
       " 'but',\n",
       " 'if',\n",
       " 'or',\n",
       " 'because',\n",
       " 'as',\n",
       " 'until',\n",
       " 'while',\n",
       " 'of',\n",
       " 'at',\n",
       " 'by',\n",
       " 'for',\n",
       " 'with',\n",
       " 'about',\n",
       " 'against',\n",
       " 'between',\n",
       " 'into',\n",
       " 'through',\n",
       " 'during',\n",
       " 'before',\n",
       " 'after',\n",
       " 'above',\n",
       " 'below',\n",
       " 'to',\n",
       " 'from',\n",
       " 'up',\n",
       " 'down',\n",
       " 'in',\n",
       " 'out',\n",
       " 'on',\n",
       " 'off',\n",
       " 'over',\n",
       " 'under',\n",
       " 'again',\n",
       " 'further',\n",
       " 'then',\n",
       " 'once',\n",
       " 'here',\n",
       " 'there',\n",
       " 'when',\n",
       " 'where',\n",
       " 'why',\n",
       " 'how',\n",
       " 'all',\n",
       " 'any',\n",
       " 'both',\n",
       " 'each',\n",
       " 'few',\n",
       " 'more',\n",
       " 'most',\n",
       " 'other',\n",
       " 'some',\n",
       " 'such',\n",
       " 'no',\n",
       " 'nor',\n",
       " 'not',\n",
       " 'only',\n",
       " 'own',\n",
       " 'same',\n",
       " 'so',\n",
       " 'than',\n",
       " 'too',\n",
       " 'very',\n",
       " 's',\n",
       " 't',\n",
       " 'can',\n",
       " 'will',\n",
       " 'just',\n",
       " 'don',\n",
       " \"don't\",\n",
       " 'should',\n",
       " \"should've\",\n",
       " 'now',\n",
       " 'd',\n",
       " 'll',\n",
       " 'm',\n",
       " 'o',\n",
       " 're',\n",
       " 've',\n",
       " 'y',\n",
       " 'ain',\n",
       " 'aren',\n",
       " \"aren't\",\n",
       " 'couldn',\n",
       " \"couldn't\",\n",
       " 'didn',\n",
       " \"didn't\",\n",
       " 'doesn',\n",
       " \"doesn't\",\n",
       " 'hadn',\n",
       " \"hadn't\",\n",
       " 'hasn',\n",
       " \"hasn't\",\n",
       " 'haven',\n",
       " \"haven't\",\n",
       " 'isn',\n",
       " \"isn't\",\n",
       " 'ma',\n",
       " 'mightn',\n",
       " \"mightn't\",\n",
       " 'mustn',\n",
       " \"mustn't\",\n",
       " 'needn',\n",
       " \"needn't\",\n",
       " 'shan',\n",
       " \"shan't\",\n",
       " 'shouldn',\n",
       " \"shouldn't\",\n",
       " 'wasn',\n",
       " \"wasn't\",\n",
       " 'weren',\n",
       " \"weren't\",\n",
       " 'won',\n",
       " \"won't\",\n",
       " 'wouldn',\n",
       " \"wouldn't\"]"
      ]
     },
     "execution_count": 742,
     "metadata": {},
     "output_type": "execute_result"
    }
   ],
   "source": [
    "STOPWORDS"
   ]
  },
  {
   "cell_type": "code",
   "execution_count": 449,
   "metadata": {
    "hidden": true
   },
   "outputs": [],
   "source": [
    "# first calculate the number of available actions\n",
    "def number_of_actions(text):\n",
    "    words = text.split()\n",
    "    content_words = [i for i,w in enumerate(words) if w not in STOPWORDS and w in word_vectors]\n",
    "    return len(content_words)"
   ]
  },
  {
   "cell_type": "code",
   "execution_count": 1077,
   "metadata": {
    "hidden": true
   },
   "outputs": [],
   "source": [
    "for j in range(len(csv_paths)):\n",
    "    df_list[j][\"num_actions_max\"] = df_list[j].content.apply(number_of_actions)\n",
    "    random_df_list[j][\"num_actions_max\"] = random_df_list[j].content.apply(number_of_actions)"
   ]
  },
  {
   "cell_type": "code",
   "execution_count": 1066,
   "metadata": {
    "hidden": true
   },
   "outputs": [
    {
     "data": {
      "text/plain": [
       "<matplotlib.axes._subplots.AxesSubplot at 0x7f707b092b00>"
      ]
     },
     "execution_count": 1066,
     "metadata": {},
     "output_type": "execute_result"
    },
    {
     "data": {
      "image/png": "[encoded data removed]",
      "text/plain": [
       "<Figure size 432x288 with 1 Axes>"
      ]
     },
     "metadata": {
      "needs_background": "light"
     },
     "output_type": "display_data"
    }
   ],
   "source": [
    "df_list[0].num_actions_max.hist(bins=30)"
   ]
  },
  {
   "cell_type": "code",
   "execution_count": 669,
   "metadata": {
    "hidden": true
   },
   "outputs": [
    {
     "data": {
      "text/plain": [
       "<matplotlib.axes._subplots.AxesSubplot at 0x7f7087e70fd0>"
      ]
     },
     "execution_count": 669,
     "metadata": {},
     "output_type": "execute_result"
    },
    {
     "data": {
      "image/png": "[encoded data removed]",
      "text/plain": [
       "<Figure size 432x288 with 1 Axes>"
      ]
     },
     "metadata": {
      "needs_background": "light"
     },
     "output_type": "display_data"
    }
   ],
   "source": [
    "df_list[2].num_actions_max.hist(bins=30)"
   ]
  },
  {
   "cell_type": "code",
   "execution_count": 652,
   "metadata": {
    "hidden": true
   },
   "outputs": [
    {
     "data": {
      "text/plain": [
       "<matplotlib.collections.PathCollection at 0x7f7088513a20>"
      ]
     },
     "execution_count": 652,
     "metadata": {},
     "output_type": "execute_result"
    },
    {
     "data": {
      "image/png": "[encoded data removed]",
      "text/plain": [
       "<Figure size 432x288 with 1 Axes>"
      ]
     },
     "metadata": {
      "needs_background": "light"
     },
     "output_type": "display_data"
    }
   ],
   "source": [
    "plt.scatter(df_list[0].num_actions_max, df_list[0].max_scores)"
   ]
  },
  {
   "cell_type": "code",
   "execution_count": 775,
   "metadata": {
    "hidden": true
   },
   "outputs": [],
   "source": [
    "scores = []\n",
    "rand_scores = []\n",
    "for j in range(4):\n",
    "    df_list[j]['success'] = mask_list[j]\n",
    "    scores.append(df_list[j].groupby(df_list[j].num_actions_max//10).apply(np.mean))\n",
    "    \n",
    "    random_df_list[j]['success'] = random_mask_list[j]\n",
    "    rand_scores.append(random_df_list[j].groupby(df_list[j].num_actions_max//10).apply(np.mean))"
   ]
  },
  {
   "cell_type": "code",
   "execution_count": 732,
   "metadata": {
    "hidden": true
   },
   "outputs": [
    {
     "data": {
      "text/plain": [
       "Text(0.5, 1.0, 'aclImdb/imdb')"
      ]
     },
     "execution_count": 732,
     "metadata": {},
     "output_type": "execute_result"
    },
    {
     "data": {
      "image/png": "[encoded data removed]",
      "text/plain": [
       "<Figure size 432x288 with 1 Axes>"
      ]
     },
     "metadata": {
      "needs_background": "light"
     },
     "output_type": "display_data"
    }
   ],
   "source": [
    "plt.bar(['0-9', '10-19', '20-29', '30-39'], scores[0].success)\n",
    "plt.title(csv_paths[0])"
   ]
  },
  {
   "cell_type": "code",
   "execution_count": 733,
   "metadata": {
    "hidden": true
   },
   "outputs": [
    {
     "data": {
      "text/plain": [
       "Text(0.5, 1.0, 'aclImdb/imdb')"
      ]
     },
     "execution_count": 733,
     "metadata": {},
     "output_type": "execute_result"
    },
    {
     "data": {
      "image/png": "[encoded data removed]",
      "text/plain": [
       "<Figure size 432x288 with 1 Axes>"
      ]
     },
     "metadata": {
      "needs_background": "light"
     },
     "output_type": "display_data"
    }
   ],
   "source": [
    "plt.bar(['0-9', '10-19', '20-29', '30-39'], scores[0].success - rand_scores[0].success)\n",
    "plt.title(csv_paths[0])"
   ]
  },
  {
   "cell_type": "code",
   "execution_count": 718,
   "metadata": {
    "hidden": true
   },
   "outputs": [
    {
     "data": {
      "text/plain": [
       "Text(0.5, 1.0, 'spam/spam')"
      ]
     },
     "execution_count": 718,
     "metadata": {},
     "output_type": "execute_result"
    },
    {
     "data": {
      "image/png": "[encoded data removed]",
      "text/plain": [
       "<Figure size 432x288 with 1 Axes>"
      ]
     },
     "metadata": {
      "needs_background": "light"
     },
     "output_type": "display_data"
    }
   ],
   "source": [
    "plt.bar(['0-9', '10-19', '20-29'], scores[1].success)\n",
    "plt.title(csv_paths[1])"
   ]
  },
  {
   "cell_type": "code",
   "execution_count": 734,
   "metadata": {
    "hidden": true
   },
   "outputs": [
    {
     "data": {
      "text/plain": [
       "Text(0.5, 1.0, 'spam/spam')"
      ]
     },
     "execution_count": 734,
     "metadata": {},
     "output_type": "execute_result"
    },
    {
     "data": {
      "image/png": "[encoded data removed]",
      "text/plain": [
       "<Figure size 432x288 with 1 Axes>"
      ]
     },
     "metadata": {
      "needs_background": "light"
     },
     "output_type": "display_data"
    }
   ],
   "source": [
    "plt.bar(['0-9', '10-19', '20-29'], scores[1].success - rand_scores[1].success)\n",
    "plt.title(csv_paths[1])"
   ]
  },
  {
   "cell_type": "code",
   "execution_count": 719,
   "metadata": {
    "hidden": true
   },
   "outputs": [
    {
     "data": {
      "text/plain": [
       "Text(0.5, 1.0, 'clickbait/clickbait')"
      ]
     },
     "execution_count": 719,
     "metadata": {},
     "output_type": "execute_result"
    },
    {
     "data": {
      "image/png": "[encoded data removed]",
      "text/plain": [
       "<Figure size 432x288 with 1 Axes>"
      ]
     },
     "metadata": {
      "needs_background": "light"
     },
     "output_type": "display_data"
    }
   ],
   "source": [
    "plt.bar(['0-9', '10-19'], scores[2].success)\n",
    "plt.title(csv_paths[2])"
   ]
  },
  {
   "cell_type": "code",
   "execution_count": 735,
   "metadata": {
    "hidden": true
   },
   "outputs": [
    {
     "data": {
      "text/plain": [
       "Text(0.5, 1.0, 'clickbait/clickbait')"
      ]
     },
     "execution_count": 735,
     "metadata": {},
     "output_type": "execute_result"
    },
    {
     "data": {
      "image/png": "[encoded data removed]",
      "text/plain": [
       "<Figure size 432x288 with 1 Axes>"
      ]
     },
     "metadata": {
      "needs_background": "light"
     },
     "output_type": "display_data"
    }
   ],
   "source": [
    "plt.bar(['0-9', '10-19'], scores[2].success - rand_scores[2].success)\n",
    "plt.title(csv_paths[2])"
   ]
  },
  {
   "cell_type": "code",
   "execution_count": 720,
   "metadata": {
    "hidden": true
   },
   "outputs": [
    {
     "data": {
      "text/plain": [
       "Text(0.5, 1.0, 'toxic/toxic')"
      ]
     },
     "execution_count": 720,
     "metadata": {},
     "output_type": "execute_result"
    },
    {
     "data": {
      "image/png": "[encoded data removed]",
      "text/plain": [
       "<Figure size 432x288 with 1 Axes>"
      ]
     },
     "metadata": {
      "needs_background": "light"
     },
     "output_type": "display_data"
    }
   ],
   "source": [
    "plt.bar(['0-9', '10-19', '20-29', '30-39', '40-49'], scores[3].success)\n",
    "plt.title(csv_paths[3])"
   ]
  },
  {
   "cell_type": "code",
   "execution_count": 736,
   "metadata": {
    "hidden": true,
    "scrolled": true
   },
   "outputs": [
    {
     "data": {
      "text/plain": [
       "Text(0.5, 1.0, 'toxic/toxic')"
      ]
     },
     "execution_count": 736,
     "metadata": {},
     "output_type": "execute_result"
    },
    {
     "data": {
      "image/png": "[encoded data removed]",
      "text/plain": [
       "<Figure size 432x288 with 1 Axes>"
      ]
     },
     "metadata": {
      "needs_background": "light"
     },
     "output_type": "display_data"
    }
   ],
   "source": [
    "plt.bar(['0-9', '10-19', '20-29', '30-39', '40-49'], scores[3].success - rand_scores[3].success)\n",
    "plt.title(csv_paths[3])"
   ]
  },
  {
   "cell_type": "code",
   "execution_count": null,
   "metadata": {
    "hidden": true
   },
   "outputs": [],
   "source": [
    "list_no_spam = [df_list[0], df_list[2], df_list[3]]\n",
    "tmp = pd.concat(df_list)\n",
    "tmp2 = pd.concat(list_no_spam)"
   ]
  },
  {
   "cell_type": "code",
   "execution_count": null,
   "metadata": {
    "hidden": true
   },
   "outputs": [],
   "source": [
    "res = tmp.groupby(tmp.num_actions_max//5).apply(np.mean)\n",
    "res2 = tmp2.groupby(tmp2.num_actions_max//10).apply(np.mean)"
   ]
  },
  {
   "cell_type": "code",
   "execution_count": null,
   "metadata": {
    "hidden": true
   },
   "outputs": [],
   "source": [
    "import random\n",
    "import matplotlib.pyplot as plt\n",
    "\n",
    "fig = plt.figure(figsize=(10,5))\n",
    "ax = fig.add_subplot(211)    # The big subplot\n",
    "ax1 = fig.add_subplot(221)\n",
    "ax2 = fig.add_subplot(222)\n",
    "\n",
    "# Turn off axis lines and ticks of the big subplot\n",
    "ax.spines['top'].set_color('none')\n",
    "ax.spines['bottom'].set_color('none')\n",
    "ax.spines['left'].set_color('none')\n",
    "ax.spines['right'].set_color('none')\n",
    "ax.tick_params(labelcolor='w', top=False, bottom=False, left=False, right=False)\n",
    "\n",
    "ax1.bar(['0-9', '10-19', '20-29', '30-39'], scores[1].success)\n",
    "ax2.bar(['0-9', '10-19', '20-29', '30-39', '40-49', '50-59'], res2.success)\n",
    "\n",
    "ax1.set_title('Spam dataset')\n",
    "ax2.set_title('All other datasets except spam')\n",
    "\n",
    "ax1.set_xlabel('Number of possible actions at initial state')\n",
    "ax1.set_ylabel('Attack success rate')\n",
    "ax2.set_xlabel('Number of possible actions at initial state')\n",
    "ax2.set_ylabel('Attack success rate')\n",
    "\n",
    "plt.savefig('success_rate.png', dpi=300)"
   ]
  },
  {
   "cell_type": "markdown",
   "metadata": {
    "heading_collapsed": true
   },
   "source": [
    "#### success rate as function of rounds"
   ]
  },
  {
   "cell_type": "code",
   "execution_count": null,
   "metadata": {
    "hidden": true
   },
   "outputs": [],
   "source": [
    "csv_paths = ['toxic/toxic', 'clickbait/clickbait']\n",
    "df_list = [pd.read_csv('data/' + dataset + '_a3c_results_indi_synmis/first_success.csv') for dataset in csv_paths]\n",
    "mask_list = [df.max_scores>70 for df in df_list]\n",
    "random_df_list = [pd.read_csv('data/' + dataset + '_random_results_indi_synmis/first_success.csv') for dataset in csv_paths]\n",
    "random_mask_list = [df.max_scores>70 for df in random_df_list] "
   ]
  },
  {
   "cell_type": "code",
   "execution_count": null,
   "metadata": {
    "hidden": true
   },
   "outputs": [],
   "source": [
    "fig = plt.figure(figsize=(11,3.5))\n",
    "\n",
    "ax = [fig.add_subplot(121), fig.add_subplot(122)]\n",
    "display_names = ['Toxic-Wikipedia', 'Clickbait']\n",
    "\n",
    "for j in range(len(csv_paths)):\n",
    "    # a3c\n",
    "    df_list[0][\"success\"] = mask_list[0]\n",
    "    sorted_df = df_list[0].sort_values(\"epoch_found\")\n",
    "#     print(\"num of rounds before surpassing MIT: \", sorted_df.loc[((sorted_df.success.cumsum()/len(sorted_df)) > 0.216).idxmax()].epoch_found)\n",
    "    ax[j].plot(sorted_df.epoch_found, sorted_df.success.cumsum()/len(sorted_df), label='ReLegGATe (syn-mis)')\n",
    "    \n",
    "    # TEXTFOOLER\n",
    "    ax[j].plot(masks_mit[j].mean() * np.ones(1000), label='Textfooler')\n",
    "    # PWWS\n",
    "    ax[j].plot(masks_pwws[j].mean() * np.ones(1000), label='PWWS')\n",
    "    \n",
    "    # random\n",
    "    random_df_list[0][\"success\"] = random_mask_list[0]\n",
    "    sorted_df = random_df_list[0].sort_values(\"epoch_found\")\n",
    "#     print(\"num of rounds before surpassing MIT: \", sorted_df.loc[((sorted_df.success.cumsum()/len(sorted_df)) > 0.216).idxmax()].epoch_found)\n",
    "    ax[j].plot(sorted_df.epoch_found, sorted_df.success.cumsum()/len(sorted_df), label='Basic search (syn-mis)')\n",
    "\n",
    "    ax[j].set_xlabel('Number of rounds')\n",
    "    ax[j].set_ylabel('Attack success rate')\n",
    "    ax[j].set_title(f'{display_names[j]}')\n",
    "    \n",
    "    \n",
    "ax[0].legend()    \n",
    "# plt.show()\n",
    "plt.savefig('success_rate_vs_rounds.png', dpi=300, bbox_inches='tight')"
   ]
  },
  {
   "cell_type": "markdown",
   "metadata": {
    "heading_collapsed": true
   },
   "source": [
    "### success rate at the end to evaluate learning"
   ]
  },
  {
   "cell_type": "code",
   "execution_count": null,
   "metadata": {
    "hidden": true
   },
   "outputs": [],
   "source": [
    "csv_paths = ['toxic/toxic', 'aclImdb/imdb']\n",
    "df_list = [pd.read_csv('data/' + dataset + '_a3c_results_indi_syn/last_success.csv') for dataset in csv_paths]\n",
    "mask_list = [df.max_scores>70 for df in df_list]\n",
    "random_df_list = [pd.read_csv('data/' + dataset + '_random_results_indi_syn/last_success.csv') for dataset in csv_paths]\n",
    "random_mask_list = [df.max_scores>70 for df in random_df_list] "
   ]
  },
  {
   "cell_type": "code",
   "execution_count": null,
   "metadata": {
    "hidden": true
   },
   "outputs": [],
   "source": [
    "import random\n",
    "import matplotlib.pyplot as plt\n",
    "\n",
    "fig = plt.figure(figsize=(6,4))\n",
    "# ax = fig.add_subplot(211)    # The big subplot\n",
    "ax1 = fig.add_subplot(211, xscale='log')\n",
    "ax2 = fig.add_subplot(212, xscale='log')\n",
    "\n",
    "# Turn off axis lines and ticks of the big subplot\n",
    "# ax.spines['top'].set_color('none')\n",
    "# ax.spines['bottom'].set_color('none')\n",
    "# ax.spines['left'].set_color('none')\n",
    "# ax.spines['right'].set_color('none')\n",
    "# ax.tick_params(labelcolor='w', top=False, bottom=False, left=False, right=False)\n",
    "\n",
    "# first plot one dataset\n",
    "# a3c\n",
    "df_list[0][\"success\"] = mask_list[0]\n",
    "df_list[0].epoch_found = df_list[0].epoch_found.clip(upper=1000)\n",
    "sorted_df = df_list[0].sort_values(\"epoch_found\", ascending=False)\n",
    "ax1.plot(1000-sorted_df.epoch_found, sorted_df.success.cumsum()/len(df_list[0]), 'b', label='ReLeGATe')\n",
    "\n",
    "# random\n",
    "random_df_list[0][\"success\"] = random_mask_list[0]\n",
    "random_df_list[0].epoch_found = random_df_list[0].epoch_found.clip(upper=1000)\n",
    "sorted_df = random_df_list[0].sort_values(\"epoch_found\", ascending=False)\n",
    "ax1.plot(1000-sorted_df.epoch_found, sorted_df.success.cumsum()/len(random_df_list[0]), 'r--', label='basic search')\n",
    "\n",
    "# MIT\n",
    "ax1.plot(1000*[masks_mit[0].mean()], ':', label='Textfooler baseline')\n",
    "\n",
    "# plot second dataset    \n",
    "# a3c\n",
    "df_list[1][\"success\"] = mask_list[1]\n",
    "df_list[1].epoch_found = df_list[1].epoch_found.clip(upper=1000)\n",
    "sorted_df = df_list[1].sort_values(\"epoch_found\", ascending=False)\n",
    "ax2.plot(1000-sorted_df.epoch_found, sorted_df.success.cumsum()/len(df_list[1]), 'b', label='ReLeGATe')\n",
    "\n",
    "# random\n",
    "random_df_list[1][\"success\"] = random_mask_list[1]\n",
    "random_df_list[1].epoch_found = random_df_list[1].epoch_found.clip(upper=1000)\n",
    "sorted_df = random_df_list[1].sort_values(\"epoch_found\", ascending=False)\n",
    "ax2.plot(1000-sorted_df.epoch_found, sorted_df.success.cumsum()/len(random_df_list[1]), 'r--', label='basic search')\n",
    "\n",
    "# MIT\n",
    "ax2.plot(1000*[masks_mit[1].mean()], ':', label='Textfooler baseline')\n",
    "\n",
    "ax1.legend(loc=\"lower right\")\n",
    "\n",
    "# Set common labels\n",
    "# ax.set_xlabel('Number of rounds from the end of training evaluated on')\n",
    "# ax.set_ylabel('Attack success rate')\n",
    "\n",
    "ax1.set_title('Toxic wikipedia')\n",
    "ax2.set_title('IMDB')\n",
    "ax1.set_xlabel('Number of rounds from the end of training evaluated on')\n",
    "ax1.set_ylabel('Attack success rate')\n",
    "ax2.set_xlabel('Number of rounds from the end of training evaluated on')\n",
    "ax2.set_ylabel('Attack success rate')\n",
    "\n",
    "plt.savefig('final_rounds_sr.png', dpi=300, bbox_inches='tight')"
   ]
  },
  {
   "cell_type": "markdown",
   "metadata": {
    "heading_collapsed": true
   },
   "source": [
    "### success rate as function of similarity threshold"
   ]
  },
  {
   "cell_type": "code",
   "execution_count": null,
   "metadata": {
    "hidden": true
   },
   "outputs": [],
   "source": [
    "for i in range(len(csv_paths)):\n",
    "    df_list[i].similarity *= (df_list[i].max_scores>10)\n",
    "    random_df_list[i].similarity *= (random_df_list[i].max_scores>10)"
   ]
  },
  {
   "cell_type": "code",
   "execution_count": null,
   "metadata": {
    "hidden": true
   },
   "outputs": [],
   "source": [
    "relegate_scores = [[] for i in range(len(csv_paths))]\n",
    "textfooler_scores = [[] for i in range(len(csv_paths))]\n",
    "pwws_scores = [[] for i in range(len(csv_paths))]\n",
    "search_scores = [[] for i in range(len(csv_paths))]\n",
    "sim_thresh = np.linspace(0., 1., 100)\n",
    "\n",
    "for thresh in sim_thresh:\n",
    "    for i in range(len(csv_paths)):\n",
    "        relegate_scores[i].append((df_list[i].similarity > thresh).sum()/500)\n",
    "        textfooler_scores[i].append((df_mits[i].max_score > thresh).sum()/500)\n",
    "        pwws_scores[i].append((df_pwws[i].max_score > thresh).sum()/500)\n",
    "        search_scores[i].append((random_df_list[i].similarity > thresh).sum()/500)"
   ]
  },
  {
   "cell_type": "code",
   "execution_count": null,
   "metadata": {
    "hidden": true
   },
   "outputs": [],
   "source": [
    "fig = plt.figure(figsize=(11,3.5))\n",
    "\n",
    "ax1 = fig.add_subplot(121)\n",
    "ax2 = fig.add_subplot(122)\n",
    "\n",
    "ax1.plot(sim_thresh, relegate_scores[0], label='ReLeGATe (syn-mis)')\n",
    "ax1.plot(sim_thresh, textfooler_scores[0], label='Textfooler')\n",
    "ax1.plot(sim_thresh, pwws_scores[0], label='PWWS')\n",
    "ax1.plot(sim_thresh, search_scores[0], label='Basic search (syn-mis)')\n",
    "ax1.legend()\n",
    "ax1.set_xlabel('USE similarity threshold')\n",
    "ax1.set_ylabel('attack success rate')\n",
    "ax1.set_title('Toxic-Wikipedia')\n",
    "\n",
    "ax2.plot(sim_thresh, relegate_scores[1], label='ReLeGATe (syn-mis)')\n",
    "ax2.plot(sim_thresh, textfooler_scores[1], label='Textfooler')\n",
    "ax2.plot(sim_thresh, pwws_scores[1], label='PWWS')\n",
    "ax2.plot(sim_thresh, search_scores[1], label='Basic search (syn-mis)')\n",
    "ax2.set_xlabel('USE similarity threshold')\n",
    "ax2.set_ylabel('attack success rate')\n",
    "ax2.set_title('Clickbait')\n",
    "\n",
    "plt.savefig('sr_for_sim_threshs.png', dpi=300, bbox_inches='tight')"
   ]
  },
  {
   "cell_type": "markdown",
   "metadata": {
    "heading_collapsed": true
   },
   "source": [
    "### compare the 3 methods"
   ]
  },
  {
   "cell_type": "markdown",
   "metadata": {
    "heading_collapsed": true,
    "hidden": true
   },
   "source": [
    "#### success rate as function of rounds"
   ]
  },
  {
   "cell_type": "code",
   "execution_count": 1012,
   "metadata": {
    "hidden": true
   },
   "outputs": [],
   "source": [
    "csv_paths = ['aclImdb/imdb', 'rt-polaritydata/polarity', 'sentiment labelled sentences/short_sentences', 'clickbait/clickbait']\n",
    "df_list = [pd.read_csv('data/' + dataset + '_a3c_results_best/first_success.csv') for dataset in csv_paths]\n",
    "mask_list = [df.max_scores>70 for df in df_list]\n",
    "random_df_list = [pd.read_csv('data/' + dataset + '_random_results_best/first_success.csv') for dataset in csv_paths]\n",
    "random_mask_list = [df.max_scores>70 for df in random_df_list] "
   ]
  },
  {
   "cell_type": "code",
   "execution_count": 712,
   "metadata": {
    "hidden": true
   },
   "outputs": [
    {
     "name": "stdout",
     "output_type": "stream",
     "text": [
      "num of rounds before surpassing MIT:  2\n",
      "num of rounds before surpassing MIT:  2\n"
     ]
    },
    {
     "data": {
      "image/png": "[encoded data removed]",
      "text/plain": [
       "<Figure size 432x288 with 1 Axes>"
      ]
     },
     "metadata": {
      "needs_background": "light"
     },
     "output_type": "display_data"
    }
   ],
   "source": [
    "for j in range(len(csv_paths)):\n",
    "    # a3c\n",
    "    df_list[0][\"success\"] = mask_list[0]\n",
    "    sorted_df = df_list[0].sort_values(\"epoch_found\")\n",
    "    print(\"num of rounds before surpassing MIT: \", sorted_df.loc[((sorted_df.success.cumsum()/len(sorted_df)) > 0.216).idxmax()].epoch_found)\n",
    "    plt.plot(sorted_df.epoch_found, sorted_df.success.cumsum()/len(sorted_df), 'b')\n",
    "\n",
    "    # random\n",
    "    random_df_list[0][\"success\"] = random_mask_list[0]\n",
    "    sorted_df = random_df_list[0].sort_values(\"epoch_found\")\n",
    "    print(\"num of rounds before surpassing MIT: \", sorted_df.loc[((sorted_df.success.cumsum()/len(sorted_df)) > 0.216).idxmax()].epoch_found)\n",
    "    plt.plot(sorted_df.epoch_found, sorted_df.success.cumsum()/len(sorted_df), 'r')\n",
    "\n",
    "    # MIT\n",
    "    plt.plot(0.216 * np.ones(500), 'g-')\n",
    "    plt.show()"
   ]
  },
  {
   "cell_type": "markdown",
   "metadata": {},
   "source": [
    "### success rate at the end to evaluate learning"
   ]
  },
  {
   "cell_type": "code",
   "execution_count": null,
   "metadata": {},
   "outputs": [],
   "source": [
    "csv_paths = ['toxic/toxic', 'aclImdb/imdb']\n",
    "df_list = [pd.read_csv('data/' + dataset + '_a3c_results_indi_syn/last_success.csv') for dataset in csv_paths]\n",
    "mask_list = [df.max_scores>70 for df in df_list]\n",
    "random_df_list = [pd.read_csv('data/' + dataset + '_random_results_indi_syn/last_success.csv') for dataset in csv_paths]\n",
    "random_mask_list = [df.max_scores>70 for df in random_df_list] "
   ]
  },
  {
   "cell_type": "code",
   "execution_count": null,
   "metadata": {},
   "outputs": [],
   "source": [
    "import random\n",
    "import matplotlib.pyplot as plt\n",
    "\n",
    "fig = plt.figure(figsize=(10,4))\n",
    "ax = fig.add_subplot(211)    # The big subplot\n",
    "ax1 = fig.add_subplot(221, xscale='log')\n",
    "ax2 = fig.add_subplot(222, xscale='log')\n",
    "\n",
    "# Turn off axis lines and ticks of the big subplot\n",
    "ax.spines['top'].set_color('none')\n",
    "ax.spines['bottom'].set_color('none')\n",
    "ax.spines['left'].set_color('none')\n",
    "ax.spines['right'].set_color('none')\n",
    "ax.tick_params(labelcolor='w', top=False, bottom=False, left=False, right=False)\n",
    "\n",
    "# first plot one dataset\n",
    "# a3c\n",
    "df_list[0][\"success\"] = mask_list[0]\n",
    "df_list[0].epoch_found = df_list[0].epoch_found.clip(upper=1000)\n",
    "sorted_df = df_list[0].sort_values(\"epoch_found\", ascending=False)\n",
    "ax1.plot(1000-sorted_df.epoch_found, sorted_df.success.cumsum()/len(df_list[0]), 'b', label='ReLAX')\n",
    "\n",
    "# random\n",
    "random_df_list[0][\"success\"] = random_mask_list[0]\n",
    "random_df_list[0].epoch_found = random_df_list[0].epoch_found.clip(upper=1000)\n",
    "sorted_df = random_df_list[0].sort_values(\"epoch_found\", ascending=False)\n",
    "ax1.plot(1000-sorted_df.epoch_found, sorted_df.success.cumsum()/len(random_df_list[0]), 'r--', label='basic search')\n",
    "\n",
    "# MIT\n",
    "ax1.plot(1000*[masks_mit[0].mean()], ':', label='Textfooler baseline')\n",
    "\n",
    "# plot second dataset    \n",
    "# a3c\n",
    "df_list[1][\"success\"] = mask_list[1]\n",
    "df_list[1].epoch_found = df_list[1].epoch_found.clip(upper=1000)\n",
    "sorted_df = df_list[1].sort_values(\"epoch_found\", ascending=False)\n",
    "ax2.plot(1000-sorted_df.epoch_found, sorted_df.success.cumsum()/len(df_list[1]), 'b', label='ReLAX')\n",
    "\n",
    "# random\n",
    "random_df_list[1][\"success\"] = random_mask_list[1]\n",
    "random_df_list[1].epoch_found = random_df_list[1].epoch_found.clip(upper=1000)\n",
    "sorted_df = random_df_list[1].sort_values(\"epoch_found\", ascending=False)\n",
    "ax2.plot(1000-sorted_df.epoch_found, sorted_df.success.cumsum()/len(random_df_list[1]), 'r--', label='basic search')\n",
    "\n",
    "# MIT\n",
    "ax2.plot(1000*[masks_mit[1].mean()], ':', label='Textfooler baseline')\n",
    "\n",
    "ax1.legend(loc=\"lower right\")\n",
    "\n",
    "# Set common labels\n",
    "# ax.set_xlabel('Number of rounds from the end of training evaluated on')\n",
    "# ax.set_ylabel('Attack success rate')\n",
    "\n",
    "ax1.set_title('Toxic wikipedia')\n",
    "ax2.set_title('IMDB')\n",
    "ax1.set_xlabel('Number of rounds from the end of training evaluated on')\n",
    "ax1.set_ylabel('Attack success rate')\n",
    "ax2.set_xlabel('Number of rounds from the end of training evaluated on')\n",
    "ax2.set_ylabel('Attack success rate')\n",
    "\n",
    "plt.savefig('final_rounds_sr.png', dpi=300, bbox_inches='tight')"
   ]
  },
  {
   "cell_type": "markdown",
   "metadata": {},
   "source": [
    "#### Compare success rates"
   ]
  },
  {
   "cell_type": "code",
   "execution_count": 6,
   "metadata": {},
   "outputs": [
    {
     "name": "stdout",
     "output_type": "stream",
     "text": [
      "!!!!!!!!!!!!!!!!A3C METHOD!!!!!!!!!!!!!!!!!!!!!!!!!!!!!!!!\n",
      "dataset name- toxic/toxic\n",
      "the score distributes with mean: 42.99480810865506, max: 102.27609813213348, min: -6.330760209059715, std: 47.70131015329985, median: 2.711155379867554\n",
      "the success rate is: 0.438\n",
      "average pertubed word precent is: 0.2315077792915374\n",
      "the score of successes distributes with mean: 96.74257037985323, max: 102.27609813213348, min: 72.06203520298006, std: 4.53390373858954, median: 98.46928139200209\n",
      "average pertubed word precent of successes is: 0.08143716210447245\n",
      "max changed_words of successes is: 19\n",
      "mean changed_words of successes is: 3.625570776255708\n",
      "median changed_words of successes is: 2.0\n",
      "------------------------\n"
     ]
    }
   ],
   "source": [
    "print(\"!!!!!!!!!!!!!!!!A3C METHOD!!!!!!!!!!!!!!!!!!!!!!!!!!!!!!!!\")\n",
    "for i in range(len(df_list)):\n",
    "    print(f'dataset name- {csv_paths[i]}')\n",
    "    print(f'the score distributes with mean: {df_list[i].max_scores.mean()}, max: {df_list[i].max_scores.max()}, min: {df_list[i].max_scores.min()}, std: {df_list[i].max_scores.std()}, median: {df_list[i].max_scores.median()}')\n",
    "    print(f'the success rate is: {np.mean(mask_list[i])}')\n",
    "    print(f'average pertubed word precent is: {(df_list[i].words_changed/df_list[i].orig_sent_len).mean()}')\n",
    "    cur_mask_df = df_list[i][mask_list[i]]\n",
    "    print(f'the score of successes distributes with mean: {cur_mask_df.max_scores.mean()}, max: {cur_mask_df.max_scores.max()}, min: {cur_mask_df.max_scores.min()}, std: {cur_mask_df.max_scores.std()}, median: {cur_mask_df.max_scores.median()}')\n",
    "    print(f'average pertubed word precent of successes is: {(df_list[i].words_changed/df_list[i].orig_sent_len)[mask_list[i]].mean()}')\n",
    "    print(f'max changed_words of successes is: {df_list[i].words_changed[mask_list[i]].max()}')\n",
    "    print(f'mean changed_words of successes is: {df_list[i].words_changed[mask_list[i]].mean()}')\n",
    "    print(f'median changed_words of successes is: {df_list[i].words_changed[mask_list[i]].median()}')\n",
    "    print('------------------------')"
   ]
  },
  {
   "cell_type": "code",
   "execution_count": 400,
   "metadata": {},
   "outputs": [
    {
     "name": "stdout",
     "output_type": "stream",
     "text": [
      "!!!!!!!!!!!!!!!!RANDOM METHOD!!!!!!!!!!!!!!!!!!!!!!!!!!!!!!!!\n",
      "dataset name- spam/spam\n",
      "the score distributes with mean: 23.505491674290237, max: 110.06114673614502, min: 0.1197639175415039, std: 39.08432894808959, median: 1.4262101951599122\n",
      "the success rate is: 0.20496894409937888\n",
      "average pertubed word precent is: 0.5958043795565956\n",
      "the score of successes distributes with mean: 95.39902570871295, max: 110.06114673614502, min: 73.20437410812377, std: 10.596618349730564, median: 97.85670525512695\n",
      "average pertubed word precent of successes is: 0.2887473128084973\n",
      "max changed_words of successes is: 19\n",
      "mean changed_words of successes is: 7.878787878787879\n",
      "median changed_words of successes is: 8.0\n",
      "------------------------\n"
     ]
    }
   ],
   "source": [
    "print(\"!!!!!!!!!!!!!!!!RANDOM METHOD!!!!!!!!!!!!!!!!!!!!!!!!!!!!!!!!\")\n",
    "for i in range(len(random_df_list)):\n",
    "    print(f'dataset name- {csv_paths[i]}')\n",
    "    print(f'the score distributes with mean: {random_df_list[i].max_scores.mean()}, max: {random_df_list[i].max_scores.max()}, min: {random_df_list[i].max_scores.min()}, std: {random_df_list[i].max_scores.std()}, median: {random_df_list[i].max_scores.median()}')\n",
    "    print(f'the success rate is: {np.mean(random_mask_list[i])}')\n",
    "    print(f'average pertubed word precent is: {(random_df_list[i].words_changed/random_df_list[i].orig_sent_len).mean()}')\n",
    "    cur_mask_df = random_df_list[i][random_mask_list[i]]\n",
    "    print(f'the score of successes distributes with mean: {cur_mask_df.max_scores.mean()}, max: {cur_mask_df.max_scores.max()}, min: {cur_mask_df.max_scores.min()}, std: {cur_mask_df.max_scores.std()}, median: {cur_mask_df.max_scores.median()}')\n",
    "    print(f'average pertubed word precent of successes is: {(random_df_list[i].words_changed/random_df_list[i].orig_sent_len)[random_mask_list[i]].mean()}')\n",
    "    print(f'max changed_words of successes is: {random_df_list[i].words_changed[random_mask_list[i]].max()}')\n",
    "    print(f'mean changed_words of successes is: {random_df_list[i].words_changed[random_mask_list[i]].mean()}')\n",
    "    print(f'median changed_words of successes is: {random_df_list[i].words_changed[random_mask_list[i]].median()}')\n",
    "    print('------------------------')"
   ]
  },
  {
   "cell_type": "code",
   "execution_count": 451,
   "metadata": {},
   "outputs": [
    {
     "name": "stdout",
     "output_type": "stream",
     "text": [
      "------------------ dataset: aclImdb/imdb ------------------\n",
      "MIT success rate: 0.272\n",
      "the score distibutes with mean: 0.2628942614793777, max: 0.9987949132919312, min: 0.0, std: 0.4295386168443151, median: 0.0\n",
      "the score of sucesses distibutes with mean: 0.9620940049781519, max: 0.9987949132919312, min: 0.7101665735244751, std: 0.05278193550885184, median: 0.9838947355747223\n",
      "median oracle usage of successful: 35.5, and unsuccessful: 59.0\n",
      "------------------ dataset: spam/spam ------------------\n",
      "MIT success rate: 0.022\n",
      "the score distibutes with mean: 0.01998396921157837, max: 0.99078631401062, min: 0.0, std: 0.13392326960732198, median: 0.0\n",
      "the score of sucesses distibutes with mean: 0.9083622368899259, max: 0.99078631401062, min: 0.7536321878433228, std: 0.08551237001492723, median: 0.9409882426261902\n",
      "median oracle usage of successful: 14.0, and unsuccessful: 19.0\n",
      "------------------ dataset: clickbait/clickbait ------------------\n",
      "MIT success rate: 0.206\n",
      "the score distibutes with mean: 0.20202251994609832, max: 0.9919369220733644, min: 0.0, std: 0.3777610627641753, median: 0.0\n",
      "the score of sucesses distibutes with mean: 0.9221591168236964, max: 0.9919369220733644, min: 0.721110463142395, std: 0.057887276191672235, median: 0.9341996908187866\n",
      "median oracle usage of successful: 10.0, and unsuccessful: 14.0\n",
      "------------------ dataset: toxic/toxic ------------------\n",
      "MIT success rate: 0.272\n",
      "the score distibutes with mean: 0.2635268270969391, max: 0.999186396598816, min: 0.0, std: 0.4285757683749461, median: 0.0\n",
      "the score of sucesses distibutes with mean: 0.9590685222955311, max: 0.999186396598816, min: 0.7340044975280762, std: 0.05428025595024672, median: 0.9841092824935913\n",
      "median oracle usage of successful: 31.5, and unsuccessful: 51.0\n"
     ]
    }
   ],
   "source": [
    "print('!!!!!!!!!!!!!!!!!!!!!!!! Textfooler !!!!!!!!!!!!!!!!!!!!!!!!!!!!')\n",
    "for i in range(len(csv_paths)):\n",
    "    print(f'------------------ dataset: {csv_paths[i]} ------------------')\n",
    "    print(f'MIT success rate: {masks_mit[i].mean()}')\n",
    "    print(f'the score distibutes with mean: {df_mits[i].max_score.mean()}, max: {df_mits[i].max_score.max()}, min: {df_mits[i].max_score.min()}, std: {df_mits[i].max_score.std()}, median: {df_mits[i].max_score.median()}')\n",
    "    print(f'the score of sucesses distibutes with mean: {df_mits[i][masks_mit[i]].max_score.mean()}, max: {df_mits[i][masks_mit[i]].max_score.max()}, min: {df_mits[i][masks_mit[i]].max_score.min()}, std: {df_mits[i][masks_mit[i]].max_score.std()}, median: {df_mits[i][masks_mit[i]].max_score.median()}')\n",
    "    print(f'median oracle usage of successful: {df_mits[i][masks_mit[i]].oracle_usage.median()}, and unsuccessful: {df_mits[i][~masks_mit[i]].oracle_usage.median()}')"
   ]
  },
  {
   "cell_type": "code",
   "execution_count": null,
   "metadata": {},
   "outputs": [],
   "source": [
    "print('!!!!!!!!!!!!!!!!!!!!!!!! PWWS !!!!!!!!!!!!!!!!!!!!!!!!!!!!')\n",
    "for i in range(len(csv_paths)):\n",
    "    print(f'------------------ dataset: {csv_paths[i]} ------------------')\n",
    "    print(f'MIT success rate: {masks_pwws[i].mean()}')\n",
    "    print(f'the score distibutes with mean: {df_pwws[i].max_score.mean()}, max: {df_pwws[i].max_score.max()}, min: {df_pwws[i].max_score.min()}, std: {df_pwws[i].max_score.std()}, median: {df_pwws[i].max_score.median()}')\n",
    "    print(f'the score of sucesses distibutes with mean: {df_pwws[i][masks_pwws[i]].max_score.mean()}, max: {df_pwws[i][masks_pwws[i]].max_score.max()}, min: {df_pwws[i][masks_pwws[i]].max_score.min()}, std: {df_pwws[i][masks_pwws[i]].max_score.std()}, median: {df_pwws[i][masks_pwws[i]].max_score.median()}')\n",
    "#     print(f'median oracle usage of successful: {df_mits[i][masks_mit[i]].oracle_usage.median()}, and unsuccessful: {df_mits[i][~masks_mit[i]].oracle_usage.median()}')"
   ]
  },
  {
   "cell_type": "markdown",
   "metadata": {},
   "source": [
    "#### compare win-lose-draw"
   ]
  },
  {
   "cell_type": "code",
   "execution_count": null,
   "metadata": {},
   "outputs": [],
   "source": [
    "from scipy.stats import wilcoxon"
   ]
  },
  {
   "cell_type": "code",
   "execution_count": null,
   "metadata": {},
   "outputs": [],
   "source": [
    "print(\"Win, Draw, Lose of ReLAX compared to Textfooler\")\n",
    "masks_all = [masks_mit[i] | mask_list[i] for i in range(len(csv_paths))]\n",
    "for i in range(len(csv_paths)):\n",
    "    print(f'dataset {csv_paths[i]}.', ((df_list[i].similarity*mask_list[i])[masks_all[i]]>df_mits[i][masks_all[i]].max_score).sum(), ((df_list[i].similarity*mask_list[i])[masks_all[i]]==df_mits[i][masks_all[i]].max_score).sum(), ((df_list[i].similarity*mask_list[i])[masks_all[i]]<df_mits[i][masks_all[i]].max_score).sum())\n",
    "\n",
    "print(\"Wilcoxon of ReLAX compared to Textfooler\")\n",
    "for i in range(len(csv_paths)):\n",
    "    print(csv_paths[i], wilcoxon(((df_list[i].similarity*mask_list[i])[masks_all[i]]-df_mits[i][masks_all[i]].max_score), alternative=\"greater\"))"
   ]
  },
  {
   "cell_type": "code",
   "execution_count": null,
   "metadata": {},
   "outputs": [],
   "source": [
    "print(\"Win, Draw, Lose of ReLAX compared to Basic Search\")\n",
    "masks_all = [random_mask_list[i] | mask_list[i] for i in range(len(csv_paths))]\n",
    "for i in range(len(csv_paths)):\n",
    "    print(f'dataset {csv_paths[i]}.', ((df_list[i].similarity*mask_list[i])[masks_all[i]]>(random_df_list[i].similarity*random_mask_list[i])[masks_all[i]]).sum(),\n",
    "          ((df_list[i].similarity*mask_list[i])[masks_all[i]]==(random_df_list[i].similarity*random_mask_list[i])[masks_all[i]]).sum(),\n",
    "          ((df_list[i].similarity*mask_list[i])[masks_all[i]]<(random_df_list[i].similarity*random_mask_list[i])[masks_all[i]]).sum())\n",
    "\n",
    "print(\"Wilcoxon of ReLAX compared to Basic Search\")    \n",
    "for i in range(len(csv_paths)):\n",
    "    print(csv_paths[i], wilcoxon((df_list[i].similarity*mask_list[i])[masks_all[i]]-(random_df_list[i].similarity*random_mask_list[i])[masks_all[i]]))"
   ]
  },
  {
   "cell_type": "markdown",
   "metadata": {},
   "source": [
    "#### look at attacks visually"
   ]
  },
  {
   "cell_type": "code",
   "execution_count": 407,
   "metadata": {},
   "outputs": [
    {
     "name": "stdout",
     "output_type": "stream",
     "text": [
      "---------------\n",
      "----original---\n",
      "a very well directed version of eric bogosian's stage play . well worth checking out for bogosian's great characters and for anyone who wants to see how to bring a play to the movies correctly .\n",
      "----MIT--------\n",
      "a very too directed version of eric bogosian's stage plaything . too worthwhile checking out for bogosian's fantastic characteristics and for anybody who wish to see how to provide a playing to the movies correctly .\n",
      "----A3C--------\n",
      "a very too directed version of eric bogosian's stage play . too worthwhile checking out for bogosian's great characteristics and for anybody who wants to see how to bring a play to the movies correctly .\n",
      "---------------\n",
      "----original---\n",
      "watch out ! this is not a gross out comedy like american pie or you know the comedies of the new millenium . this is a sweet satire of dog shows focused on a bunch of completely different characters . oh and the commentator is hilarious ! 10/10\n",
      "----MIT--------\n",
      "watch out ! this is not a gross out humor like american pie or you know the comedies of the new millenium . this is a sugared satire of dog shows focused on a bunch of completely several characters . oh and the commentator is funny ! 10/10\n",
      "----A3C--------\n",
      "watch out ! this is not a gross out comedy like american pie or you know the comedies of the recent millenium . this is a sugared parody of dog shows focused on a bunch of completely different characters . oh and the commentator is hilarious ! 10/10\n",
      "---------------\n",
      "----original---\n",
      "it's a short movie for such immense feelings . the last 20 or so minutes are among the most intense in the recent years of the industry . huston ( john ) is dying and only love can make the difference . the actor's work in the long evening scene is absolutely marvellous .\n",
      "----MIT--------\n",
      "it's a short flick for such enormous moods . the last 20 or so mins are in the most fierce in the lately decades of the industry . huston ( johns ) is dying and only iove can create the diff . the actor's cooperate in the lengthy afternoon screenplay is totally wonderful .\n",
      "----A3C--------\n",
      "it's a brief movie for such prodigious emotions . the last 20 or so mins are in the most intense in the lately years of the industry . huston ( johns ) is dying and only iove can make the difference . the actor's work in the protracted afternoon scene is utterly marvellous .\n",
      "---------------\n",
      "----original---\n",
      "a great production , that should be revived / rebroadcast . i doubt that it would be out of date ! i'd love to hear from anyone who knows whether videos exist of this series , or any other information about where it could be found or viewed .\n",
      "----MIT--------\n",
      "a tremendous producer , that should be revived / rebroadcast . i suspicion that it would be out of date ! i'd iike to heard from anybody who knows whether video exist of this installment , or any other information about where it could be found or viewed .\n",
      "----A3C--------\n",
      "a great production , that should be revived / rebroadcast . i suspicion that it would be out of date ! i'd iike to hear from anyone who knows whether videos exist of this series , or any other information about where it would be identified or viewed .\n",
      "---------------\n",
      "----original---\n",
      "i thought the movie was great . i thought kristine debell was great and was glad to see her move on into some more interesting roles . i even overlook the fact that the print i have wasn't quite put back together correctly . but , who cares ?\n",
      "----MIT--------\n",
      "i figured the movie was fantastic . i figured kristin debell was fantastic and was thrilled to behold her budge on into some more exciting responsibilities . i even overlook the reality that the printing i have wasn't completely made backwards jointly rightly . but , who dont ?\n",
      "----A3C--------\n",
      "i thought the movie was great . i thought kristin debell was great and was glad to see her move on into some more interesting roles . i even overlook the fact that the print i have wasn't quite put back together correctly . but , who cares ?\n",
      "---------------\n",
      "----original---\n",
      "this is a great horror movie . great plot . and a person with a fear of midgets will definately love the evil midget ! this is a must see for any horror fan . finally a lower budget movie with decent effects and a great cast ! highly recommended .\n",
      "----MIT--------\n",
      "this is a great horror movie . great intrigue . and a someone with a fear of midgets will definately iike the evil midget ! this is a should look for any horror breather . finally a lower budget movie with decent repercussions and a fantastic casting ! highly recommended .\n",
      "----A3C--------\n",
      "this is a great horror movie . great intrigue . and a person with a fear of midgets will definately iike the devilish midget ! this is a should look for any horror breather . finally a lower budget movie with adequate effects and a great cast ! tremendously suggested .\n",
      "---------------\n",
      "----original---\n",
      "i couldnt believe how well this kid did on screen , you will completely forget that they are actors and loose yourself in the movie . it is like watching home movies with a twist . i recomend this to everyone . highly .\n",
      "----MIT--------\n",
      "i couldnt think how too this boy did on screen , you will perfectly forget that they are actors and loose yourself in the film . it is like watching home movies with a turning . i recomend this to anyone . highly .\n",
      "----A3C--------\n",
      "i didnt believe how well this kid did on screen , you will completely forget that they are actors and lenient yourself in the movie . it is like watching house movies with a twist . i recomend this to anyone . highly .\n",
      "---------------\n",
      "----original---\n",
      "hilarious film about divine retribution . camera work stinks ( shot on digital video ) and looks like early mtv videos . turn the other cheek by looking past the visual and concentrate on the story . laughs galore for those with a well - developed sense of irony .\n",
      "----MIT--------\n",
      "funny film about divine retribution . camera work stinks ( shot on digital video ) and looks like early mtv videos . turn the other cheek by looking past the visual and concentrate on the story . laughs galore for those with a well - developed sense of irony .\n",
      "----A3C--------\n",
      "hilarious film about divine retribution . camera work stinks ( shot on digital video ) and seems like early mtv videos . turn the other cheek by looking past the visual and concentrate on the story . laughs galore for those with a well - developed sense of irony .\n",
      "---------------\n",
      "----original---\n",
      "hartley on low - key form : martin donovan , born to play jesus , comes as messiah to millenial manhatten ; p.j . harvey is excellent as sidekick magdelena . a slight film , but drily amusing , short and sweet .\n",
      "----MIT--------\n",
      "hartley on low - pivotal form : martin donovan , birthed to play jesus , arises as messiah to millenial manhatten ; p.j . harvey is fantastic as henchman magdelena . a little film , but drily hilarious , short and cute .\n",
      "----A3C--------\n",
      "hartley on low - pivotal form : martin donovan , born to play jesus , comes as messianic to millenial manhatten ; p.j . harvey is excellent as sidekick magdelena . a slight film , but drily amusing , short and sweet .\n",
      "---------------\n",
      "----original---\n",
      "i own this movie . i've seen it over 20 times and every time i still get weepy . its a great love story , surprises , and you can definately feel chemistry between klein and sobiesky . i definately give this movie a perfect 10. i recommend this to anyone .\n",
      "----MIT--------\n",
      "i own this movie . i've seen it over 20 times and every time i still obtain weepy . its a fantastic adore story , stuns , and you can definately feel chemical between klein and sobiesky . i definately give this movie a faultless 10. i propose this to anyone .\n",
      "----A3C--------\n",
      "i own this movie . i've visualized it over 20 days and every time i even get mopey . its a fantastic amour story , stuns , and you can definately think chemistry between klein and sobiesky . i definately provide this movie a impeccable 10. i propose this to anybody .\n",
      "---------------\n",
      "----original---\n",
      "quite a ways away from \" go fish \". both were good films but troche had a bigger budget and cast to work with here . this film was very entertaining and easy to like . the acting was good lots of slow burn sexual tension . \n",
      "----MIT--------\n",
      "very a pathways away from \" go fish \". both were good films but troche had a larger budget and cast to work with here . this movie was very entertain and easy to love . the behaving was alright lots of sluggish burnt sexual tension .\n",
      "----A3C--------\n",
      "quite a pathways away from \" go fish \". both were good films but troche had a bigger budget and casting to work with here . this film was very entertaining and easy to like . the acting was good lots of sluggish burn sexual tension .\n",
      "---------------\n",
      "----original---\n",
      "a very good offering from hbo . traci lords is becoming a much - better dramatic actress with each effort . i hope to see this attractive lady in more challenging roles in the future , instead of the \" flighty \" roles she has been stuck with in the past .\n",
      "----MIT--------\n",
      "a very good offering from hbo . traci lords is becoming a much - better dramatic actress with each effort . i expect to see this attractive lady in more difficult responsibilities in the futur , instead of the \" flighty \" roles she has been stuck with in the past .\n",
      "----A3C--------\n",
      "a very good offering from hbo . traci lords is gotten a much - better dramatic actress with each effort . i hope to see this attractive lady in more challenging roles in the futur , instead of the \" flighty \" roles she has been stuck with in the past .\n",
      "---------------\n",
      "----original---\n",
      "this is a strange , little , forgotten movie from the late eighties . it's one of those \" large - cast kitchen sink \" movies that delivers some good gags . if you like the people in this one , give it a shot .\n",
      "----MIT--------\n",
      "this is a strange , little , forgotten movie from the late eighties . it's one of those \" large - cast cook sink \" movies that gives some nice gags . if you love the people in this one , give it a offed .\n",
      "----A3C--------\n",
      "this is a strange , little , forgotten movie from the late eighties . it's one of those \" large - cast kitchen sink \" movies that delivers some decent gags . if you like the people in this one , give it a kill .\n",
      "---------------\n",
      "----original---\n",
      "this is by far the best stand - up routine i have ever seen . john leguizamo's one man show tells the supposed story of his life in a barrage of lines and situations . by far better than any other comedy out there .\n",
      "----MIT--------\n",
      "this is by very the bestest standing - up routine i have steadily seen . johns leguizamo's one fella display says the supposed tale of his living in a flurry of ducts and circumstances . by significantly greater than any other humor out there .\n",
      "----A3C--------\n",
      "this is by far the best standing - up everyday i have permanently perceived . jan leguizamo's one guy showing says the supposed story of his living in a flurry of ducts and circumstances . by significantly better than any other humor out there .\n",
      "---------------\n",
      "----original---\n",
      "non - stop action and just about every conceivable ( and inconceivable !) sci - fi / horror cliche can be found in this blatantly silly but fun , big - budget epic . the pace never lets up , especially in the shorter us version , which tightens things up considerably .\n",
      "----MIT--------\n",
      "non - stop action and just about any conceivable ( and inconceivable !) sci - fi / horror cliche can be found in this blatantly silly but fun , big - budget epic . the pace never lets up , especially in the shorter us version , which tightens things up considerably .\n",
      "----A3C--------\n",
      "non - stop action and just about any conceivable ( and inconceivable !) sci - fi / horror cliche can be found in this blatantly silly but fun , big - budget epic . the pace never lets up , especially in the shorter us version , which tightens things up considerably .\n",
      "---------------\n",
      "----original---\n",
      "when a dowdy wife ( shearer ) loses her husband , she decides to completely make herself over to win him back . not \" politically correct \" by today's standards , but still fun to watch , especially the scenes with marie dressler and hedda hopper .\n",
      "----MIT--------\n",
      "when a dowdy wife ( shearer ) looses her hubby , she decides to completely create herself over to victory him aft . not \" politically correct \" by today's standards , but also pleasures to watching , especially the scenes with mary dressler and gabler funnel .\n",
      "----A3C--------\n",
      "when a dowdy wife ( shearer ) loses her husband , she decides to completely make herself over to win him aft . not \" politically correct \" by today's standards , but also droll to watch , especially the scenes with marie dressler and gabler hopper .\n",
      "---------------\n",
      "----original---\n",
      " existenz is simply david cronenberg's best movie . all the people compare it to the matrix . they're not even similar . if you enjoyed cronenberg's other works just a little bit , you'll love this one ...\n",
      "----MIT--------\n",
      "existenz is simply david cronenberg's nicest movie . all the people compare it to the matrix . they're not even same . if you liked cronenberg's other cooperates just a tiny bit , you'll iove this one ...\n",
      "----A3C--------\n",
      "existenz is just david cronenberg's best movie . all the people compare it to the matrix . they're not even similar . if you enjoyed cronenberg's other works just a scant tib , you'll love this one ...\n",
      "---------------\n",
      "----original---\n",
      "i'm warning you -- this movie is not scary . if you're a horror movie fan , especially a child's play fan , you'll think it's incredibly funny , but you won't be scared . it's not a bad movie , but it's not scary .\n",
      "----MIT--------\n",
      "i'm warning you -- this movie is not scary . if you're a horror movie fan , especially a child's play groupie , you'll think it's tremendously hilarious , but you won't be scared . it's not a horrid movie , but it's not scary .\n",
      "----A3C--------\n",
      "i'm warning you -- this movie is not scary . if you're a horror movie fan , specifically a child's play fan , you'll think it's incredibly humorous , but you won't be scared . it's not a horrid movie , but it's not scary .\n",
      "---------------\n",
      "----original---\n",
      "everything about this film is simply incredible . you truly take this journey through the eyes and soul of a child . i do feel it is important to note this tale is about child abuse . don't rent it for your kids thinking it is a fun , disney - esque film .\n",
      "----MIT--------\n",
      "everything about this film is just unbelievable . you really assume this travel through the eyeballs and spirit of a kid . i do feel it is important to note this story is about kid abuse . don't rent it for your kids thinking it is a amusing , pixar - esque film .\n",
      "----A3C--------\n",
      "everything about this movie is simply unbelievable . you really assume this journey through the eyeballs and soul of a child . i do feel it is important to observes this tale is about child abuse . don't rent it for your children thinking it is a amusing , pixar - esque film .\n",
      "---------------\n",
      "----original---\n",
      "robert carlyle excels again . the period was captured well and the soundtrack , although hearing modern techno in this period piece was a little disconcerting at first , proved to be very well chosen . well worth a watch .\n",
      "----MIT--------\n",
      "robert carlyle specialises again . the time was apprehended too and the soundtrack , although hearing contemporary techno in this time piece was a few worrisome at initial , demonstrated to be very too chosen . well worthwhile a watching .\n",
      "----A3C--------\n",
      "robert carlisle specialises again . the period was apprehended too and the soundtrack , despite hearing modern techno in this period piece was a small disconcerting at first , proved to be very too chosen . too worth a watch .\n",
      "---------------\n",
      "----original---\n",
      "for pure gothic vampire cheese nothing can compare to the subspecies films . i highly recommend each and every one of them .\n",
      "----MIT--------\n",
      "for uncomplicated gothic werewolf cheese nothing can compares to the subspecies flick . i extremely recommended each and any one of them .\n",
      "----A3C--------\n",
      "for uncomplicated gothic vampire cheese nothing can compare to the subspecies films . i highly recommend each and any one of them .\n",
      "---------------\n",
      "----original---\n",
      "this is my favorite movie of all time . i just love all the trouble all the teams get into ! its great . michael j . fox looked so young .. but then again i guess he was ! the teams are so stereotypical you just have to laugh .\n",
      "----MIT--------\n",
      "this is my favorite movie of all time . i just iove all the trouble all the teams attain into ! its fantastic . michael j . fox looked so youthful .. but then again i guess he was ! the accoutrements are so stereotypical you just have to laughter .\n",
      "----A3C--------\n",
      "this is my favorite movie of all period . i just iove all the trouble all the teams attain into ! its fantastic . michael j . fox looked so young .. but then again i imagine he was ! the teams are so stereotypical you just have to laugh .\n",
      "---------------\n",
      "----original---\n",
      "i know it was supposed to be a long walk , but really !!!! the costumes were a bit yuk , but still ... it was the 1970' s i suppose !!! it was a bit long and dull , so give me the newer version any day !\n",
      "----MIT--------\n",
      "i know it was supposed to be a long walking , but really !!!! the costumes were a bit yuk , but still ... it was the 1970' s i suppose !!! it was a bit long and dull , so give me the newer version any day !\n",
      "----A3C--------\n",
      "i know it was deemed to be a long walk , but really !!!! the costumes were a bit yuk , but still ... it was the 1970' s i suppose !!! it was a bit long and dull , so give me the newer version any day !\n",
      "---------------\n",
      "----original---\n",
      "i thought this was a really well written film . i've heard of radio the person before this movie was even created and i can't begin to describe how good cuba gooding jr was in it . it will make the women cry , everyone laugh , and most everyone will leave smiling .\n",
      "----MIT--------\n",
      "i thought this was a really too written movie . i've heard of radio the person before this movie was even created and i can't begin to describe how decent cuba gooding jr was in it . it will make the women cry , everyone laugh , and most everyone will leave smile .\n",
      "----A3C--------\n",
      "i thought this was a really too written film . i've heard of radio the person before this movie was even created and i can't begin to describe how good cuba gooding jr was in it . it will make the women cry , everyone laugh , and most everyone will leave smiling .\n",
      "---------------\n",
      "----original---\n",
      "while the romance in this film is an important aspect , it is largely about the role of responsibility and duty in modern indian . all of the major characters were well fleshed out , and had their own \" inner life \". i recommend this strongly\n",
      "----MIT--------\n",
      "while the romance in this film is an important aspect , it is largely about the function of responsability and responsibility in modern indian . all of the major characters were too fleshed out , and had their own \" inboard hayat \". i recommend this strongly\n",
      "----A3C--------\n",
      "while the romance in this film is an important aspect , it is largely about the role of responsibility and duty in modern indian . all of the major characters were too fleshed out , and had their own \" inner life \". i propose this vehemently\n",
      "---------------\n",
      "----original---\n",
      "this is the greatest movie ever . if you have written it off with out ever seeing it . you must give it a second try .\n",
      "----MIT--------\n",
      "this is the highest movie ever . if you have written it off with out ever seeing it . you must give it a ii try .\n",
      "----A3C--------\n",
      "this is the greatest movie ever . if you have written it off with out ever seeing it . you must give it a second attempt .\n",
      "---------------\n",
      "----original---\n",
      "agreeable \" boy's own paper \" nonsense with a sprightly performance from cushing , some amusing rubber monsters , colourful jungle sets , & the ever - welcome appearance of caroline munro in animal skins .\n",
      "----MIT--------\n",
      "palatable \" boy's own paper \" nonsense with a jovial performance from cushing , some distracting plastic creatures , colorful jungle stipulates , & the continuously - salute appearance of caroline horvath in animal skins .\n",
      "----A3C--------\n",
      "palatable \" boy's own paper \" nonsense with a sprightly performance from cushing , some distracting rubber monsters , colourful tangle stipulates , & the increasingly - welcome occurrence of caroline munro in animal skins .\n",
      "---------------\n",
      "----original---\n",
      "a very comical but down to earth look into the behind the scene workings of an australian bowling club . the way they deal with various problems such as takeovers , memberships and general running of the club , not to mention the car parking dilemma was well scripted .\n",
      "----MIT--------\n",
      "a very comical but down to planet look into the behind the scene workings of an australia bowling nightclub . the manner they deals with multiple troubles such as takeovers , subscriptions and general run of the clubhouse , not to say the car parking dilemma was too scripted .\n",
      "----A3C--------\n",
      "a very comical but down to earth look into the behind the scene workings of an australian bowling club . the way they deal with several problems such as takeovers , subscriptions and general running of the club , not to mention the car parking dilemma was too scripted .\n",
      "---------------\n",
      "----original---\n",
      "giorgino can to some people look a bit long but it's one of rare real romantique adventure film . it could be compare to docter jivago with a bit of sleepy holow . you must see it .\n",
      "----MIT--------\n",
      "giorgino can to some peoples look a hunk long but it's one of rare real romantique adventurer film . it could be compare to docter jivago with a somewhat of drowsy holow . you should behold it .\n",
      "----A3C--------\n",
      "giorgino can to some people look a bit long but it's one of few veritable romantique adventure film . it could be compare to docter jivago with a somewhat of sleepy holow . you must see it .\n",
      "---------------\n",
      "----original---\n",
      "i just saw \" eagle´s wing \". i do not really know why this movie was made . what is the message of this story ? nevertheless i liked it . there are some exciting scenes in it . i appreciate a strong performance by martin sheen . harvey keitel is less convincing .\n",
      "----MIT--------\n",
      "i just saw \" eagle´s wing \". i do not really know why this movie was made . what is the messenger of this tale ? nevertheless i liked it . there are some excite images in it . i appreciative a strong performance by martin sheen . harvey keitel is less convincing .\n",
      "----A3C--------\n",
      "i just saw \" eagle´s wing \". i do not really know why this movie was made . what is the message of this story ? nevertheless i liked it . there are some excite scenes in it . i thankful a strong performance by martin sheen . harvey keitel is less convincing .\n",
      "---------------\n",
      "----original---\n",
      "andrew mccarthy played the role of an atheist very well . i liked the plot of the movie . it gave something to think about other than a comedy . it had a very twisted mind and a good cop versus god . a very well used plot line .\n",
      "----MIT--------\n",
      "andrew mccarthy played the role of an atheist very well . i liked the plot of the movie . it gave something to think about other than a comedy . it had a very twisted mind and a good cop versus god . a very too used plot line .\n",
      "----A3C--------\n",
      "andrew mccarthy played the role of an atheist very well . i liked the plot of the movie . it gave something to think about other than a comedy . it had a very twisted mind and a good cop versus god . a very too used plot line .\n",
      "---------------\n",
      "----original---\n",
      "subject matter : cosmology , quantum physics and stephen hawking soundtrack : phillip glass have i died and gone to heaven ?  you will be enraptured .\n",
      "----MIT--------\n",
      "subject facet : cosmology , sum physicists and stephane hawking video : philip glassware have i perished and evaporated to paradise ? you will be enraptured .\n",
      "----A3C--------\n",
      "subject matter : cosmology , amount physics and stephen hawking soundtrack : phillip glassware have i died and gone to heaven ? you will be enraptured .\n",
      "---------------\n",
      "----original---\n",
      "i enjoyed this film which i thought was well written and acted . there was plenty of humour and a thought - provoking storyline . a warm and enjoyable experience with an emotional ending.good fun .\n",
      "----MIT--------\n",
      "i enjoyed this film which i thinking was too drafted and acted . there was enough of humor and a ideas - provoking synopsis . a tepid and enjoyable experience with an affectionate ending.good fun .\n",
      "----A3C--------\n",
      "i enjoyed this film which i thought was too written and acted . there was enough of humor and a thought - provoking storyline . a tepid and enjoyable enjoy with an emotional ending.good fun .\n",
      "---------------\n",
      "----original---\n",
      "this movie was made 20 years before my time . its introduction of john garfield in the supporting role of mickey borden makes it a classic . he slumps onto the screen and your eyes are glued . garfield was an original and his portrayal of fate's whipping boy is a must see .\n",
      "----MIT--------\n",
      "this film was made 20 decades before my timeframe . its introduction of john garfield in the supporting feature of micky borden makes it a typical . he slumps onto the screen and your eyeballs are glued . garfield was an initial and his portrayal of fate's whipping boy is a should look .\n",
      "----A3C--------\n",
      "this movie was made 20 years before my timeframe . its introduction of jan garfield in the supporting feature of micky borden makes it a typical . he slumps onto the screen and your eyelids are glued . garfield was an initial and his portrayal of fate's whipping boy is a should look .\n",
      "---------------\n",
      "----original---\n",
      "the long kiss goodnight has just about everything action fans want : a witty screenplay by the guy who wrote lethal weapon , samuel l . jackson , and great action set pieces by renny harlin . seriously underrated . one of the best action movies ever .\n",
      "----MIT--------\n",
      "the lengthy kissing hellos has just about totality action supporters wanna : a irreverent screenplays by the dude who authored murderous weaponry , samuel liter . harrison , and wonderful activity set smithereens by renny harlin . gravely underappreciated . one of the finest initiative films ever .\n",
      "----A3C--------\n",
      "the lengthy kissing goodmorning has just about everything action enthusiasts want : a erudite screenplay by the dude who wrote murderous weapon , samuel i . jackson , and fantastic activity set pieces by renny harlin . severely underappreciated . one of the best initiative movies ever .\n",
      "---------------\n",
      "----original---\n",
      "nicely done evil little comedy pitting the fbi against organized crime with a nice lady caught in the middle . the actress who played the jealous wife of the mob boss ' tony the tiger ' almost stole the show with her raging tantrums . 3 stars\n",
      "----MIT--------\n",
      "nicely done evil little comedy pitting the fbi against organized crime with a nice lady caught in the middle . the actress who played the jealous wife of the mob boss ' tony the tiger ' almost stole the show with her raging tantrums . 3 shines\n",
      "----A3C--------\n",
      "nicely done evil little comedy pitting the fbi against organized crime with a nice lady caught in the middle . the actress who played the jealous wife of the mob boss ' tony the tiger ' almost stole the show with her afflicting tantrums . 3 stars\n",
      "---------------\n",
      "----original---\n",
      "this short deals with a severely critical writing teacher whose undiplomatic criticism extends into his everyday life . when he learns why that's not a good idea , we learn a bit about the beautiful craft of writing that he's been lecturing on .\n",
      "----MIT--------\n",
      "this short deals with a severely critical writing teacher whose undiplomatic criticism extends into his everyday life . when he learns why that's not a good idea , we learn a tib about the beautiful craft of writing that he's been lecturing on .\n",
      "----A3C--------\n",
      "this short deals with a severely critical writing teacher whose undiplomatic criticism extends into his everyday life . when he learns why that's not a good idea , we learn a tib about the beautiful craft of writing that he's been lecturing on .\n",
      "---------------\n",
      "----original---\n",
      "fun story of a regular guy with big dreams , this low budget film really hits home showing what it is like trying to become an acting success . great performances by lou myers and brian's neighbor , alex . i giggled alot and even cried a little . \n",
      "----MIT--------\n",
      "funny story of a regular guy with big daydreams , this low budget film honestly hits house demonstrating what it is like trying to become an acting success . fantastic performances by lou myers and brian's neighbor , alex . i giggled dont and even cried a little .\n",
      "----A3C--------\n",
      "amusement tale of a regular guy with big daydreams , this low budget film really hits household showing what it is like trying to be an acting success . great representations by lou myers and brian's neighbor , alex . i giggled alot and even cried a little .\n",
      "---------------\n",
      "----original---\n",
      "this is a great movie . too bad it is not available on home video .\n",
      "----MIT--------\n",
      "this is a fantastic film . too amiss it is not accessible on household videos .\n",
      "----A3C--------\n",
      "this is a great movie . too horrid it is not available on home video .\n",
      "---------------\n",
      "----original---\n",
      "this movie is based on the novel island of dr . moreau by h.g . wells . it's a fairly good one too , it's at least better than the version by john frankenheimer .\n",
      "----MIT--------\n",
      "this movie is based on the novel island of dr . moreau by h.g . wells . it's a fairly good one too , it's at slightest better than the version by john frankenheimer .\n",
      "----A3C--------\n",
      "this movie is based on the novel island of dr . moreau by h.g . wells . it's a fairly good one too , it's at slightest better than the version by john frankenheimer .\n",
      "---------------\n",
      "----original---\n",
      "a classic 80' s movie that disney for some reason stopped making . i watched this movie everyday when i was in like 6th grade . i found a copy myself after scouring video stores . well worth it though . one of my all time favs\n",
      "----MIT--------\n",
      "a traditional 80' s movie that disney for some reason stopped making . i watched this film routine when i was in like 6th grade . i found a photocopy myself after scouring video stores . well worth it though . one of my all timeframe favs\n",
      "----A3C--------\n",
      "a typical 80' s movie that disney for some cause stopped making . i watched this movie everyday when i was in like 6th grade . i found a copy myself after scouring video stores . too worth it though . one of my all time favs\n",
      "---------------\n",
      "----original---\n",
      "delivers great acting and greater special effects . stars david cronenberg , one of my personal favorites , as decker . it's special effects on the monsters were so good , you thought they might be really deformed . clive barker , however demented , scored a perfect 10 on my list .\n",
      "----MIT--------\n",
      "affords fantastic behaving and greater special effects . shines david cronenberg , one of my individual favourites , as dekker . it's special effects on the creatures were so nice , you thought they might be honestly deformed . escarpment johnston , however crazed , scored a faultless 10 on my list .\n",
      "----A3C--------\n",
      "delivers great acting and greater special effects . stars david cronenberg , one of my personal favorites , as decker . it's special ramifications on the monsters were so good , you thought they might be really deformed . clive barker , however demented , scored a perfect 10 on my list .\n",
      "---------------\n",
      "----original---\n",
      "anyone who gives this movie less than 8 needs to step outside & puff a couple . great story . reality is for people who can't handle drugs .\n",
      "----MIT--------\n",
      "anyone who gives this movie less than 8 needs to step outside & puff a twinning . awesome tale . reality is for people who can't handle medications .\n",
      "----A3C--------\n",
      "anybody who gives this movie less than 8 needs to step outside & puff a twinning . great story . reality is for people who can't handle drugs .\n",
      "---------------\n",
      "----original---\n",
      "a fine ironic visual gag takes place in front of the spectacular backdrop of a twirling windmill . but who are those people who rush across screen at the end : customers ? relatives ? one of the earliest enigmas in cinematic history perhaps . well worth a minute of your time .\n",
      "----MIT--------\n",
      "a nice ironic audiovisual gag takes place in front of the amazing backdrop of a twirling windmill . but who are those people who rush across screen at the end : customers ? relatives ? one of the earliest enigmas in cinematic history perhaps . too worthwhile a minute of your time .\n",
      "----A3C--------\n",
      "a nice moronic visual gag takes place in front of the spectacular backdrop of a twirling windmill . but who are those people who rush across screen at the end : customers ? relatives ? one of the earliest enigmas in cinematic history perhaps . well worth a minute of your time .\n",
      "---------------\n",
      "----original---\n",
      "this movie was thought to be low budget but it turned out to be awesome . i just rented it from blockbuster and i loved it . the acting was very good , hot women and some scary parts . it is plain and simply worth the money to pay for .\n",
      "----MIT--------\n",
      "this movie was thought to be low budget but it turned out to be awesome . i just rented it from blockbuster and i loved it . the behaving was very good , hot women and some scary parts . it is plain and simply worth the money to pay for .\n",
      "----A3C--------\n",
      "this movie was thought to be low budget but it turned out to be awesome . i just rented it from blockbuster and i loved it . the acting was very good , hot women and some scary parts . it is uncomplicated and simply worth the money to pay for .\n",
      "---------------\n",
      "----original---\n",
      "one of those tv films you saw in the seventies that scared the hell out of you when you were a kid but still gives you an eerie feeling . no great actors or expensive production but everytime that phone rings ......\n",
      "----MIT--------\n",
      "one of those tv films you saw in the seventies that scared the shit out of you when you were a child but also brings you an eerie feel . no tremendous actors or costly production but cant that phone slings ......\n",
      "----A3C--------\n",
      "one of those tv films you saw in the seventies that scared the hell out of you when you were a kid but still gives you an macabre feeling . no great actors or expensive production but everytime that phone rings ......\n",
      "---------------\n",
      "----original---\n",
      "michelle pfeiffer stars as a mob widow who seeks a normal life but has her hands full with the new boss and an undercover agent . a lighthearted demme film with some good laughs and pfeiffer in a comical role that she has fun with .. on a scale of one to ten ..8\n",
      "----MIT--------\n",
      "micheal pfeiffer stars as a mobs widower who seeks a typical vie but has her fingers total with the recent head and an covert functionary . a lighthearted demme movie with some decent giggles and pfeiffer in a comical rol that she has droll with .. on a extent of one to tenth ..8\n",
      "----A3C--------\n",
      "michelle pfeiffer stars as a mob widow who seeks a regular living but has her hands total with the recent head and an disguised functionary . a lighthearted demme film with some decent laughs and pfeiffer in a comical role that she has droll with .. on a scale of one to tenth ..8\n",
      "---------------\n",
      "----original---\n",
      "this is the first movie i have watched in ages where i actually ended up fast forwarding through the tedious bits which there are plenty of . very ordinary movie . i'm glad i missed it at the movies & got a 2 for 1 video deal which included this movie instead .\n",
      "----MIT--------\n",
      "this is the first movie i have watched in years where i actually ended up fast forwarding through the tedious chunks which there are suffice of . very ordinary movie . i'm glad i missed it at the movies & got a 2 for 1 video deal which included this film instead .\n",
      "----A3C--------\n",
      "this is the first movie i have watched in ages where i actually ended up fast forwarding through the tedious bits which there are plenty of . very ordinary movie . i'm glad i missed it at the movies & got a 2 for 1 video deal which included this movie however .\n",
      "---------------\n",
      "----original---\n",
      "independent film that would make hollywood proud . the movie substitutes good looks for good acting , a cryptic plot for a good story line , and self - absorption for character development . may be i missed something , go see it for yourself .\n",
      "----MIT--------\n",
      "independent film that would make hollywood boastful . the movie substitutes good looks for good acting , a cryptic plot for a decent storytelling line , and self - uptake for character development . may be i missed something , go see it for yourself .\n",
      "----A3C--------\n",
      "independent film that would make hollywood proud . the movie substitutes decent looks for good acting , a cryptic plot for a good story line , and self - absorption for character development . might be i missed something , go see it for yourself .\n",
      "---------------\n",
      "----original---\n",
      "pointless movie about making a movie . no where near the flesh shown in the original , which was quite enjoyable and even had fun music . not here . it's always fun seeing the pathmark guy though .\n",
      "----MIT--------\n",
      "pointless movie about making a movie . no where near the flesh shown in the original , which was quite gratifying and even had droll music . not here . it's always fun seeing the pathmark guy though .\n",
      "----A3C--------\n",
      "pointless movie about making a movie . no where near the flesh shown in the initial , which was quite enjoyable and even had fun music . not here . it's always fun seeing the pathmark guy though .\n"
     ]
    }
   ],
   "source": [
    "for j in range(50):\n",
    "    print('---------------')\n",
    "    print('----original---')\n",
    "    print(df_mits[0][masks_mit[0]].iloc[j]['content'])\n",
    "    print('----MIT--------')\n",
    "    print(df_mits[0][masks_mit[0]].iloc[j]['best_sent'])\n",
    "    print('----A3C--------')\n",
    "    print(df_list[0][masks_mit[0]].iloc[j]['best_sent'])"
   ]
  }
 ],
 "metadata": {
  "kernelspec": {
   "display_name": "test2",
   "language": "python",
   "name": "test2"
  },
  "language_info": {
   "codemirror_mode": {
    "name": "ipython",
    "version": 3
   },
   "file_extension": ".py",
   "mimetype": "text/x-python",
   "name": "python",
   "nbconvert_exporter": "python",
   "pygments_lexer": "ipython3",
   "version": "3.7.9"
  }
 },
 "nbformat": 4,
 "nbformat_minor": 2
}
