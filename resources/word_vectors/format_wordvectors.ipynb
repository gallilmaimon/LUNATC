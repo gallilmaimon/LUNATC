{
 "cells": [
  {
   "cell_type": "code",
   "execution_count": null,
   "metadata": {},
   "outputs": [],
   "source": [
    "import numpy as np"
   ]
  },
  {
   "cell_type": "code",
   "execution_count": null,
   "metadata": {},
   "outputs": [],
   "source": [
    "# this a small format change so that the vectors can be loaded as we want to\n",
    "word2vec_dict = dict()\n",
    "out_file = open(\"word_vectors/counter-fitted-vectors_formatted.txt\", \"wt\")\n",
    "out_file.write(\"65713 300\"+ \"\\n\")  # size of vocabulary and vector size need to be added\n",
    "with open(\"counter-fitting/word_vectors/counter-fitted-vectors.txt\", \"r\") as in_file:\n",
    "    for i, line in enumerate(in_file):\n",
    "        out_file.write(line)\n",
    "        line_list = line.split()\n",
    "        word2vec_dict[line_list[0]] = np.array(line_list[1:], dtype=np.float32)\n",
    "out_file.close()"
   ]
  }
 ],
 "metadata": {
  "kernelspec": {
   "display_name": "left",
   "language": "python",
   "name": "left"
  },
  "language_info": {
   "codemirror_mode": {
    "name": "ipython",
    "version": 3
   },
   "file_extension": ".py",
   "mimetype": "text/x-python",
   "name": "python",
   "nbconvert_exporter": "python",
   "pygments_lexer": "ipython3",
   "version": "3.6.8"
  }
 },
 "nbformat": 4,
 "nbformat_minor": 2
}
